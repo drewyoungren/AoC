{
 "cells": [
  {
   "cell_type": "code",
   "execution_count": 1,
   "metadata": {
    "collapsed": true
   },
   "outputs": [
    {
     "ename": "SystemError",
     "evalue": "SystemError: opening file input.txt: No such file or directory",
     "output_type": "error",
     "traceback": [
      "SystemError: opening file input.txt: No such file or directory",
      "",
      "Stacktrace:",
      " [1] #systemerror#39(::Nothing, ::Function, ::String, ::Bool) at /Applications/JuliaPro-1.0.1.1.app/Contents/Resources/julia/Contents/Resources/julia/lib/julia/sys.dylib:?",
      " [2] #open#293(::Nothing, ::Nothing, ::Nothing, ::Nothing, ::Nothing, ::Function, ::String) at /Applications/JuliaPro-1.0.1.1.app/Contents/Resources/julia/Contents/Resources/julia/lib/julia/sys.dylib:?",
      " [3] open at ./iostream.jl:275 [inlined]",
      " [4] #open#294(::Base.Iterators.Pairs{Union{},Union{},Tuple{},NamedTuple{(),Tuple{}}}, ::Function, ::getfield(Main, Symbol(\"##3#4\")), ::String) at ./iostream.jl:367",
      " [5] open(::Function, ::String) at ./iostream.jl:367",
      " [6] top-level scope at In[1]:1"
     ]
    }
   ],
   "source": [
    "s = open(\"input.txt\") do f\n",
    "    [chomp(x) for x in readlines(f)]\n",
    "end"
   ]
  },
  {
   "cell_type": "markdown",
   "metadata": {},
   "source": [
    "# Part 1"
   ]
  },
  {
   "cell_type": "code",
   "execution_count": 28,
   "metadata": {},
   "outputs": [
    {
     "data": {
      "text/plain": [
       "3613"
      ]
     },
     "execution_count": 28,
     "metadata": {},
     "output_type": "execute_result"
    }
   ],
   "source": [
    "sid = 3613"
   ]
  },
  {
   "cell_type": "code",
   "execution_count": 8,
   "metadata": {},
   "outputs": [
    {
     "data": {
      "text/plain": [
       "plev (generic function with 1 method)"
      ]
     },
     "execution_count": 8,
     "metadata": {},
     "output_type": "execute_result"
    }
   ],
   "source": [
    "function plev(i,j)\n",
    "    rack_id = i+10\n",
    "    p = rack_id*j + sid \n",
    "    p *= rack_id\n",
    "    p =  ((p > 99) ?  parse(Int,string(p)[end-2:end-2]) : 0)\n",
    "    return p-5\n",
    "end"
   ]
  },
  {
   "cell_type": "code",
   "execution_count": 54,
   "metadata": {},
   "outputs": [
    {
     "data": {
      "text/plain": [
       "3613"
      ]
     },
     "execution_count": 54,
     "metadata": {},
     "output_type": "execute_result"
    }
   ],
   "source": [
    "sid = 3613"
   ]
  },
  {
   "cell_type": "code",
   "execution_count": 55,
   "metadata": {},
   "outputs": [
    {
     "data": {
      "text/plain": [
       "300×300 Array{Int64,2}:\n",
       "  3   4  -4  -3  -2  -1   0   2   3  …  -5  -4  -2  -1   0   1   3   4  -5\n",
       "  0   1   2   4  -5  -3  -2   0   1     -1   0   1   3   4  -4  -3  -1   0\n",
       " -4  -2  -1   1   3   4  -4  -2  -1     -2  -1   1   3   4  -4  -2   0   1\n",
       "  2   4  -4  -2   0   2   4  -4  -2      3  -5  -3  -1   0   2   4  -4  -2\n",
       " -1   1   3  -5  -2   0   2   4  -3      3  -4  -2   0   2  -5  -3  -1   1\n",
       " -5  -2   0   3  -5  -2   1   3  -4  …   0   3  -5  -2   0   3  -5  -2   1\n",
       "  2   4  -3   0   3  -4  -1   2  -5      3  -5  -2   1   4  -3   0   3  -4\n",
       " -2   1  -5  -2   1   4  -2   1   4      1   4  -3   1   4  -3   0   4  -3\n",
       " -5  -2   2  -5  -1   3  -4   0   3     -5  -1   2  -4   0   3  -3   0   4\n",
       "  1  -5  -1   3  -3   1  -5  -1   3     -5  -1   3  -3   1  -5  -1   3  -3\n",
       " -2   2  -4   1  -5   0   4  -1   3  …   1  -5   0   4  -1   3  -3   2  -4\n",
       "  4  -1   4  -1   4  -2   3  -2   3      3  -3   2  -3   2  -3   2  -3   1\n",
       "  1  -4   1  -3   2  -3   3  -2   3      0  -5   1  -4   1  -3   2  -3   2\n",
       "  ⋮                   ⋮              ⋱                   ⋮                \n",
       "  1  -5  -1   3  -3   1  -5  -1   3     -2   2  -4   0   4  -2   2  -4   0\n",
       "  4   4   4   4   4   4   4   4   4      4   4   4   4   4   4   4   4   4\n",
       " -4   2  -2   4   0  -4   2  -2   4  …  -5   1  -3   3  -1  -5   1  -3   3\n",
       " -2   0   2   4  -4  -2   0   2   4      1   3  -4  -2   0   2   4  -4  -2\n",
       "  0  -2  -4   4   2   0  -1  -3  -5      4   2   0  -2  -3  -5   3   1  -1\n",
       "  2  -4   1  -5  -1   3  -3   1  -5      3  -3   1  -5  -1   4  -2   2  -4\n",
       "  4  -5  -5  -5  -5  -4  -4  -4  -4     -3  -3  -2  -2  -2  -2  -1  -1  -1\n",
       " -3   3  -1  -4   2  -2  -5   1  -2  …  -3   4   0  -4   3  -1  -4   2  -2\n",
       " -1   1   4  -4  -1   1   4  -4  -1      3  -4  -2   1   3  -4  -2   1   3\n",
       "  1   0  -2  -3  -4   4   3   2   0     -5   4   3   1   0  -1  -3  -4  -5\n",
       "  3  -2   3  -2   3  -2   2  -3   2      3  -2   3  -2   2  -3   2  -3   2\n",
       " -4  -3  -2  -1   0   1   2   3   4     -3  -2  -1   0   1   2   3   4  -5"
      ]
     },
     "execution_count": 55,
     "metadata": {},
     "output_type": "execute_result"
    }
   ],
   "source": [
    "A = [plev(i,j) for i in 1:300,j in 1:300]"
   ]
  },
  {
   "cell_type": "code",
   "execution_count": 46,
   "metadata": {},
   "outputs": [
    {
     "data": {
      "text/plain": [
       "3×3 Array{Int64,2}:\n",
       " 4  3  1\n",
       " 4  3  2\n",
       " 4  4  4"
      ]
     },
     "execution_count": 46,
     "metadata": {},
     "output_type": "execute_result"
    }
   ],
   "source": [
    "A[33:35,45:47]"
   ]
  },
  {
   "cell_type": "code",
   "execution_count": 47,
   "metadata": {},
   "outputs": [
    {
     "data": {
      "text/plain": [
       "29"
      ]
     },
     "execution_count": 47,
     "metadata": {},
     "output_type": "execute_result"
    }
   ],
   "source": [
    "sum(A[33:35,45:47])"
   ]
  },
  {
   "cell_type": "code",
   "execution_count": 34,
   "metadata": {},
   "outputs": [
    {
     "data": {
      "text/plain": [
       "2×3 Array{Tuple{Int64,Int64},2}:\n",
       " (1, 3)  (1, 4)  (1, 5)\n",
       " (2, 3)  (2, 4)  (2, 5)"
      ]
     },
     "execution_count": 34,
     "metadata": {},
     "output_type": "execute_result"
    }
   ],
   "source": [
    "[(i,j) for i in 1:2,j in 3:5]"
   ]
  },
  {
   "cell_type": "code",
   "execution_count": 56,
   "metadata": {
    "scrolled": true
   },
   "outputs": [
    {
     "data": {
      "text/plain": [
       "298×298 Array{Tuple{Int64,Int64,Int64},2}:\n",
       " (-1, 1, 1)     (2, 1, 2)      …  (-6, 1, 297)     (-3, 1, 298)   \n",
       " (-2, 2, 1)     (3, 2, 2)         (-12, 2, 297)    (-7, 2, 298)   \n",
       " (-2, 3, 1)     (-5, 3, 2)        (-13, 3, 297)    (-6, 3, 298)   \n",
       " (-2, 4, 1)     (-2, 4, 2)        (-11, 4, 297)    (-11, 4, 298)  \n",
       " (-1, 5, 1)     (1, 5, 2)         (-13, 5, 297)    (-10, 5, 298)  \n",
       " (-10, 6, 1)    (-4, 6, 2)     …  (-3, 6, 297)     (-6, 6, 298)   \n",
       " (-8, 7, 1)     (-10, 7, 2)       (1, 7, 297)      (1, 7, 298)    \n",
       " (-16, 8, 1)    (-14, 8, 2)       (-2, 8, 297)     (1, 8, 298)    \n",
       " (-14, 9, 1)    (-9, 9, 2)        (-1, 9, 297)     (-5, 9, 298)   \n",
       " (-2, 10, 1)    (-2, 10, 2)       (-5, 10, 297)    (-6, 10, 298)  \n",
       " (1, 11, 1)     (-5, 11, 2)    …  (-6, 11, 297)    (-4, 11, 298)  \n",
       " (4, 12, 1)     (-7, 12, 2)       (-4, 12, 297)    (3, 12, 298)   \n",
       " (-2, 13, 1)    (-9, 13, 2)       (1, 13, 297)     (3, 13, 298)   \n",
       " ⋮                             ⋱                                  \n",
       " (-17, 287, 1)  (-5, 287, 2)      (-19, 287, 297)  (-7, 287, 298) \n",
       " (-2, 288, 1)   (4, 288, 2)       (-1, 288, 297)   (5, 288, 298)  \n",
       " (3, 289, 1)    (13, 289, 2)      (1, 289, 297)    (11, 289, 298) \n",
       " (8, 290, 1)    (22, 290, 2)      (7, 290, 297)    (11, 290, 298) \n",
       " (-10, 291, 1)  (8, 291, 2)    …  (-6, 291, 297)   (2, 291, 298)  \n",
       " (-7, 292, 1)   (-4, 292, 2)      (5, 292, 297)    (-3, 292, 298) \n",
       " (-13, 293, 1)  (-25, 293, 2)     (-1, 293, 297)   (-4, 293, 298) \n",
       " (-8, 294, 1)   (-25, 294, 2)     (-3, 294, 297)   (-11, 294, 298)\n",
       " (-3, 295, 1)   (-16, 295, 2)     (-12, 295, 297)  (-5, 295, 298) \n",
       " (2, 296, 1)    (-6, 296, 2)   …  (-16, 296, 297)  (-14, 296, 298)\n",
       " (7, 297, 1)    (-5, 297, 2)      (-17, 297, 297)  (-9, 297, 298) \n",
       " (-6, 298, 1)   (-12, 298, 2)     (-3, 298, 297)   (-9, 298, 298) "
      ]
     },
     "execution_count": 56,
     "metadata": {},
     "output_type": "execute_result"
    }
   ],
   "source": [
    "B = [(sum(A[i:i+2,j:j+2]),i,j) for i in 1:298,j in 1:298]"
   ]
  },
  {
   "cell_type": "code",
   "execution_count": 57,
   "metadata": {},
   "outputs": [
    {
     "data": {
      "text/plain": [
       "88804-element Array{Tuple{Int64,Int64,Int64},1}:\n",
       " (30, 20, 54)  \n",
       " (28, 241, 98) \n",
       " (28, 241, 96) \n",
       " (28, 241, 94) \n",
       " (28, 241, 92) \n",
       " (27, 241, 90) \n",
       " (27, 35, 13)  \n",
       " (26, 34, 48)  \n",
       " (26, 20, 55)  \n",
       " (25, 241, 88) \n",
       " (25, 241, 86) \n",
       " (25, 241, 84) \n",
       " (25, 241, 82) \n",
       " ⋮             \n",
       " (-36, 52, 113)\n",
       " (-36, 52, 81) \n",
       " (-36, 34, 60) \n",
       " (-36, 21, 21) \n",
       " (-36, 20, 21) \n",
       " (-37, 262, 41)\n",
       " (-37, 34, 137)\n",
       " (-38, 245, 30)\n",
       " (-38, 21, 100)\n",
       " (-38, 21, 20) \n",
       " (-38, 20, 100)\n",
       " (-39, 34, 59) "
      ]
     },
     "execution_count": 57,
     "metadata": {},
     "output_type": "execute_result"
    }
   ],
   "source": [
    "sort!(reshape(B,298*298),rev=true)"
   ]
  },
  {
   "cell_type": "markdown",
   "metadata": {},
   "source": []
  },
  {
   "cell_type": "code",
   "execution_count": 59,
   "metadata": {
    "scrolled": true
   },
   "outputs": [],
   "source": [
    "tot = []\n",
    "for k =1:300\n",
    "    B = [(sum(A[i:i+k-1,j:j+k-1]),i,j,k) for i in 1:(301-k),j in 1:(301-k)]\n",
    "    push!(tot,maximum(B))\n",
    "end"
   ]
  },
  {
   "cell_type": "code",
   "execution_count": 60,
   "metadata": {},
   "outputs": [
    {
     "data": {
      "text/plain": [
       "(141, 233, 93, 13)"
      ]
     },
     "execution_count": 60,
     "metadata": {},
     "output_type": "execute_result"
    }
   ],
   "source": [
    "maximum(tot)"
   ]
  },
  {
   "cell_type": "code",
   "execution_count": null,
   "metadata": {},
   "outputs": [],
   "source": []
  }
 ],
 "metadata": {
  "kernelspec": {
   "display_name": "Julia 1.0.1",
   "language": "julia",
   "name": "julia-1.0"
  },
  "language_info": {
   "file_extension": ".jl",
   "mimetype": "application/julia",
   "name": "julia",
   "version": "1.0.1"
  }
 },
 "nbformat": 4,
 "nbformat_minor": 2
}
