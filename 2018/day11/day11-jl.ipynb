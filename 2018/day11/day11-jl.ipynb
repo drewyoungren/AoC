{
 "cells": [
  {
   "cell_type": "code",
   "execution_count": 1,
   "metadata": {
    "collapsed": true
   },
   "outputs": [
    {
     "ename": "SystemError",
     "evalue": "SystemError: opening file input.txt: No such file or directory",
     "output_type": "error",
     "traceback": [
      "SystemError: opening file input.txt: No such file or directory",
      "",
      "Stacktrace:",
      " [1] #systemerror#39(::Nothing, ::Function, ::String, ::Bool) at /Applications/JuliaPro-1.0.1.1.app/Contents/Resources/julia/Contents/Resources/julia/lib/julia/sys.dylib:?",
      " [2] #open#293(::Nothing, ::Nothing, ::Nothing, ::Nothing, ::Nothing, ::Function, ::String) at /Applications/JuliaPro-1.0.1.1.app/Contents/Resources/julia/Contents/Resources/julia/lib/julia/sys.dylib:?",
      " [3] open at ./iostream.jl:275 [inlined]",
      " [4] #open#294(::Base.Iterators.Pairs{Union{},Union{},Tuple{},NamedTuple{(),Tuple{}}}, ::Function, ::getfield(Main, Symbol(\"##3#4\")), ::String) at ./iostream.jl:367",
      " [5] open(::Function, ::String) at ./iostream.jl:367",
      " [6] top-level scope at In[1]:1"
     ]
    }
   ],
   "source": [
    "s = open(\"input.txt\") do f\n",
    "    [chomp(x) for x in readlines(f)]\n",
    "end"
   ]
  },
  {
   "cell_type": "markdown",
   "metadata": {},
   "source": [
    "# Part 1"
   ]
  },
  {
   "cell_type": "code",
   "execution_count": 28,
   "metadata": {},
   "outputs": [
    {
     "data": {
      "text/plain": [
       "3613"
      ]
     },
     "execution_count": 28,
     "metadata": {},
     "output_type": "execute_result"
    }
   ],
   "source": [
    "sid = 3613"
   ]
  },
  {
   "cell_type": "code",
   "execution_count": 16,
   "metadata": {},
   "outputs": [
    {
     "data": {
      "text/plain": [
       "3"
      ]
     },
     "execution_count": 16,
     "metadata": {},
     "output_type": "execute_result"
    }
   ],
   "source": [
    "d3(276857898708693253825213582358)"
   ]
  },
  {
   "cell_type": "code",
   "execution_count": 20,
   "metadata": {},
   "outputs": [
    {
     "data": {
      "text/plain": [
       "plev (generic function with 1 method)"
      ]
     },
     "execution_count": 20,
     "metadata": {},
     "output_type": "execute_result"
    }
   ],
   "source": [
    "function plev(i,j)\n",
    "    rack_id = i+10\n",
    "    p = ((rack_id)*j + sid)*rack_id\n",
    "    return d3(p) - 5\n",
    "end"
   ]
  },
  {
   "cell_type": "code",
   "execution_count": 18,
   "metadata": {},
   "outputs": [
    {
     "data": {
      "text/plain": [
       "3613"
      ]
     },
     "execution_count": 18,
     "metadata": {},
     "output_type": "execute_result"
    }
   ],
   "source": [
    "sid = 3613"
   ]
  },
  {
   "cell_type": "code",
   "execution_count": 21,
   "metadata": {},
   "outputs": [],
   "source": [
    "A = [plev(i,j) for i in 1:300,j in 1:300];"
   ]
  },
  {
   "cell_type": "markdown",
   "metadata": {},
   "source": [
    "## Ace "
   ]
  },
  {
   "cell_type": "code",
   "execution_count": 33,
   "metadata": {
    "scrolled": true
   },
   "outputs": [
    {
     "data": {
      "text/plain": [
       "(30, 20, 54)"
      ]
     },
     "execution_count": 33,
     "metadata": {},
     "output_type": "execute_result"
    }
   ],
   "source": [
    "B = (sum(A[1:3,1:3]),1,1)\n",
    "for i in 1:298,j in 1:298\n",
    "    t = sum(A[i:i+2,j:j+2])\n",
    "    B = max((t,i,j),B)\n",
    "end\n",
    "B"
   ]
  },
  {
   "cell_type": "markdown",
   "metadata": {},
   "source": [
    "## Deuce"
   ]
  },
  {
   "cell_type": "code",
   "execution_count": 34,
   "metadata": {
    "scrolled": true
   },
   "outputs": [
    {
     "data": {
      "text/plain": [
       "(141, 13, 233, 93)"
      ]
     },
     "execution_count": 34,
     "metadata": {},
     "output_type": "execute_result"
    }
   ],
   "source": [
    "B = (A[1,1],1,1,1)\n",
    "for i in 1:300,j in 1:300\n",
    "    temp = [A[i,j]]\n",
    "    for k in 1:min(300-i,300-j)\n",
    "        t = temp[k] + sum(A[i:i+k,j+k]) + sum(A[i+k,j:j+k-1])\n",
    "        push!(temp,t)\n",
    "    end\n",
    "    t,k = findmax(temp)\n",
    "    B = max((t,k,i,j),B)   \n",
    "end\n",
    "B"
   ]
  }
 ],
 "metadata": {
  "kernelspec": {
   "display_name": "Julia 1.0.1",
   "language": "julia",
   "name": "julia-1.0"
  },
  "language_info": {
   "file_extension": ".jl",
   "mimetype": "application/julia",
   "name": "julia",
   "version": "1.0.1"
  }
 },
 "nbformat": 4,
 "nbformat_minor": 2
}
