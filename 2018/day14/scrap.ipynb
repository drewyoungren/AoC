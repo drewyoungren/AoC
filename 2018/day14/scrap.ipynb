{
 "cells": [
  {
   "cell_type": "code",
   "execution_count": 21,
   "metadata": {},
   "outputs": [
    {
     "name": "stdout",
     "output_type": "stream",
     "text": [
      "  0.003110 seconds (1.22 k allocations: 73.512 KiB)\n"
     ]
    },
    {
     "data": {
      "text/plain": [
       "6"
      ]
     },
     "execution_count": 21,
     "metadata": {},
     "output_type": "execute_result"
    }
   ],
   "source": [
    "x=3\n",
    "\n",
    "f(x) = x+3\n",
    "\n",
    "@time x=f(3)\n",
    "x"
   ]
  },
  {
   "cell_type": "code",
   "execution_count": 41,
   "metadata": {},
   "outputs": [
    {
     "name": "stdout",
     "output_type": "stream",
     "text": [
      "  0.023010 seconds (1.26 k allocations: 75.957 KiB)\n"
     ]
    },
    {
     "data": {
      "text/plain": [
       "3"
      ]
     },
     "execution_count": 41,
     "metadata": {},
     "output_type": "execute_result"
    }
   ],
   "source": [
    "x=3\n",
    "\n",
    "function g(y)\n",
    "    x = y + 3\n",
    "    return x\n",
    "end\n",
    "\n",
    "@time g(x)\n",
    "x"
   ]
  },
  {
   "cell_type": "code",
   "execution_count": 40,
   "metadata": {},
   "outputs": [
    {
     "name": "stdout",
     "output_type": "stream",
     "text": [
      "  0.000006 seconds (4 allocations: 160 bytes)\n",
      "  0.000002 seconds (4 allocations: 160 bytes)\n"
     ]
    },
    {
     "data": {
      "text/plain": [
       "21"
      ]
     },
     "execution_count": 40,
     "metadata": {},
     "output_type": "execute_result"
    }
   ],
   "source": [
    "@time x = g(x)\n",
    "@time f(x)"
   ]
  },
  {
   "cell_type": "code",
   "execution_count": null,
   "metadata": {},
   "outputs": [],
   "source": []
  },
  {
   "cell_type": "code",
   "execution_count": 45,
   "metadata": {},
   "outputs": [
    {
     "data": {
      "text/plain": [
       "\"7\""
      ]
     },
     "execution_count": 45,
     "metadata": {},
     "output_type": "execute_result"
    }
   ],
   "source": [
    "string(7)"
   ]
  },
  {
   "cell_type": "code",
   "execution_count": 48,
   "metadata": {},
   "outputs": [
    {
     "data": {
      "text/plain": [
       "true"
      ]
     },
     "execution_count": 48,
     "metadata": {},
     "output_type": "execute_result"
    }
   ],
   "source": [
    "((x,y) -> all([x[1]> y[1], x[2] < y[2]]))((9,0),(1,2))"
   ]
  },
  {
   "cell_type": "code",
   "execution_count": 49,
   "metadata": {},
   "outputs": [
    {
     "name": "stdout",
     "output_type": "stream",
     "text": [
      "search: \u001b[0m\u001b[1mf\u001b[22m\u001b[0m\u001b[1mi\u001b[22m\u001b[0m\u001b[1mn\u001b[22m\u001b[0m\u001b[1md\u001b[22m\u001b[0m\u001b[1mf\u001b[22m\u001b[0m\u001b[1mi\u001b[22m\u001b[0m\u001b[1mr\u001b[22m\u001b[0m\u001b[1ms\u001b[22m\u001b[0m\u001b[1mt\u001b[22m\n",
      "\n"
     ]
    },
    {
     "data": {
      "text/markdown": [
       "```\n",
       "findfirst(A)\n",
       "```\n",
       "\n",
       "Return the index or key of the first `true` value in `A`. Return `nothing` if no such value is found. To search for other kinds of values, pass a predicate as the first argument.\n",
       "\n",
       "Indices or keys are of the same type as those returned by [`keys(A)`](@ref) and [`pairs(A)`](@ref).\n",
       "\n",
       "# Examples\n",
       "\n",
       "```jldoctest\n",
       "julia> A = [false, false, true, false]\n",
       "4-element Array{Bool,1}:\n",
       " false\n",
       " false\n",
       "  true\n",
       " false\n",
       "\n",
       "julia> findfirst(A)\n",
       "3\n",
       "\n",
       "julia> findfirst(falses(3)) # returns nothing, but not printed in the REPL\n",
       "\n",
       "julia> A = [false false; true false]\n",
       "2×2 Array{Bool,2}:\n",
       " false  false\n",
       "  true  false\n",
       "\n",
       "julia> findfirst(A)\n",
       "CartesianIndex(2, 1)\n",
       "```\n",
       "\n",
       "---\n",
       "\n",
       "```\n",
       "findfirst(predicate::Function, A)\n",
       "```\n",
       "\n",
       "Return the index or key of the first element of `A` for which `predicate` returns `true`. Return `nothing` if there is no such element.\n",
       "\n",
       "Indices or keys are of the same type as those returned by [`keys(A)`](@ref) and [`pairs(A)`](@ref).\n",
       "\n",
       "# Examples\n",
       "\n",
       "```jldoctest\n",
       "julia> A = [1, 4, 2, 2]\n",
       "4-element Array{Int64,1}:\n",
       " 1\n",
       " 4\n",
       " 2\n",
       " 2\n",
       "\n",
       "julia> findfirst(iseven, A)\n",
       "2\n",
       "\n",
       "julia> findfirst(x -> x>10, A) # returns nothing, but not printed in the REPL\n",
       "\n",
       "julia> findfirst(isequal(4), A)\n",
       "2\n",
       "\n",
       "julia> A = [1 4; 2 2]\n",
       "2×2 Array{Int64,2}:\n",
       " 1  4\n",
       " 2  2\n",
       "\n",
       "julia> findfirst(iseven, A)\n",
       "CartesianIndex(2, 1)\n",
       "```\n",
       "\n",
       "---\n",
       "\n",
       "```\n",
       "findfirst(pattern::AbstractString, string::AbstractString)\n",
       "findfirst(pattern::Regex, string::String)\n",
       "```\n",
       "\n",
       "Find the first occurrence of `pattern` in `string`. Equivalent to [`findnext(pattern, string, firstindex(s))`](@ref).\n",
       "\n",
       "# Examples\n",
       "\n",
       "```jldoctest\n",
       "julia> findfirst(\"z\", \"Hello to the world\") # returns nothing, but not printed in the REPL\n",
       "\n",
       "julia> findfirst(\"Julia\", \"JuliaLang\")\n",
       "1:5\n",
       "```\n"
      ],
      "text/plain": [
       "\u001b[36m  findfirst(A)\u001b[39m\n",
       "\n",
       "  Return the index or key of the first \u001b[36mtrue\u001b[39m value in \u001b[36mA\u001b[39m. Return \u001b[36mnothing\u001b[39m if no\n",
       "  such value is found. To search for other kinds of values, pass a predicate\n",
       "  as the first argument.\n",
       "\n",
       "  Indices or keys are of the same type as those returned by \u001b[36mkeys(A)\u001b[39m and\n",
       "  \u001b[36mpairs(A)\u001b[39m.\n",
       "\n",
       "\u001b[1m  Examples\u001b[22m\n",
       "\u001b[1m  ≡≡≡≡≡≡≡≡≡≡\u001b[22m\n",
       "\n",
       "\u001b[36m  julia> A = [false, false, true, false]\u001b[39m\n",
       "\u001b[36m  4-element Array{Bool,1}:\u001b[39m\n",
       "\u001b[36m   false\u001b[39m\n",
       "\u001b[36m   false\u001b[39m\n",
       "\u001b[36m    true\u001b[39m\n",
       "\u001b[36m   false\u001b[39m\n",
       "\u001b[36m  \u001b[39m\n",
       "\u001b[36m  julia> findfirst(A)\u001b[39m\n",
       "\u001b[36m  3\u001b[39m\n",
       "\u001b[36m  \u001b[39m\n",
       "\u001b[36m  julia> findfirst(falses(3)) # returns nothing, but not printed in the REPL\u001b[39m\n",
       "\u001b[36m  \u001b[39m\n",
       "\u001b[36m  julia> A = [false false; true false]\u001b[39m\n",
       "\u001b[36m  2×2 Array{Bool,2}:\u001b[39m\n",
       "\u001b[36m   false  false\u001b[39m\n",
       "\u001b[36m    true  false\u001b[39m\n",
       "\u001b[36m  \u001b[39m\n",
       "\u001b[36m  julia> findfirst(A)\u001b[39m\n",
       "\u001b[36m  CartesianIndex(2, 1)\u001b[39m\n",
       "\n",
       "  ────────────────────────────────────────────────────────────────────────────\n",
       "\n",
       "\u001b[36m  findfirst(predicate::Function, A)\u001b[39m\n",
       "\n",
       "  Return the index or key of the first element of \u001b[36mA\u001b[39m for which \u001b[36mpredicate\u001b[39m\n",
       "  returns \u001b[36mtrue\u001b[39m. Return \u001b[36mnothing\u001b[39m if there is no such element.\n",
       "\n",
       "  Indices or keys are of the same type as those returned by \u001b[36mkeys(A)\u001b[39m and\n",
       "  \u001b[36mpairs(A)\u001b[39m.\n",
       "\n",
       "\u001b[1m  Examples\u001b[22m\n",
       "\u001b[1m  ≡≡≡≡≡≡≡≡≡≡\u001b[22m\n",
       "\n",
       "\u001b[36m  julia> A = [1, 4, 2, 2]\u001b[39m\n",
       "\u001b[36m  4-element Array{Int64,1}:\u001b[39m\n",
       "\u001b[36m   1\u001b[39m\n",
       "\u001b[36m   4\u001b[39m\n",
       "\u001b[36m   2\u001b[39m\n",
       "\u001b[36m   2\u001b[39m\n",
       "\u001b[36m  \u001b[39m\n",
       "\u001b[36m  julia> findfirst(iseven, A)\u001b[39m\n",
       "\u001b[36m  2\u001b[39m\n",
       "\u001b[36m  \u001b[39m\n",
       "\u001b[36m  julia> findfirst(x -> x>10, A) # returns nothing, but not printed in the REPL\u001b[39m\n",
       "\u001b[36m  \u001b[39m\n",
       "\u001b[36m  julia> findfirst(isequal(4), A)\u001b[39m\n",
       "\u001b[36m  2\u001b[39m\n",
       "\u001b[36m  \u001b[39m\n",
       "\u001b[36m  julia> A = [1 4; 2 2]\u001b[39m\n",
       "\u001b[36m  2×2 Array{Int64,2}:\u001b[39m\n",
       "\u001b[36m   1  4\u001b[39m\n",
       "\u001b[36m   2  2\u001b[39m\n",
       "\u001b[36m  \u001b[39m\n",
       "\u001b[36m  julia> findfirst(iseven, A)\u001b[39m\n",
       "\u001b[36m  CartesianIndex(2, 1)\u001b[39m\n",
       "\n",
       "  ────────────────────────────────────────────────────────────────────────────\n",
       "\n",
       "\u001b[36m  findfirst(pattern::AbstractString, string::AbstractString)\u001b[39m\n",
       "\u001b[36m  findfirst(pattern::Regex, string::String)\u001b[39m\n",
       "\n",
       "  Find the first occurrence of \u001b[36mpattern\u001b[39m in \u001b[36mstring\u001b[39m. Equivalent to\n",
       "  \u001b[36mfindnext(pattern, string, firstindex(s))\u001b[39m.\n",
       "\n",
       "\u001b[1m  Examples\u001b[22m\n",
       "\u001b[1m  ≡≡≡≡≡≡≡≡≡≡\u001b[22m\n",
       "\n",
       "\u001b[36m  julia> findfirst(\"z\", \"Hello to the world\") # returns nothing, but not printed in the REPL\u001b[39m\n",
       "\u001b[36m  \u001b[39m\n",
       "\u001b[36m  julia> findfirst(\"Julia\", \"JuliaLang\")\u001b[39m\n",
       "\u001b[36m  1:5\u001b[39m"
      ]
     },
     "execution_count": 49,
     "metadata": {},
     "output_type": "execute_result"
    }
   ],
   "source": [
    "?findfirst"
   ]
  },
  {
   "cell_type": "code",
   "execution_count": 52,
   "metadata": {},
   "outputs": [
    {
     "data": {
      "text/plain": [
       "8"
      ]
     },
     "execution_count": 52,
     "metadata": {},
     "output_type": "execute_result"
    }
   ],
   "source": [
    "findfirst(\"b\",\"I am Bubba\")[1]"
   ]
  },
  {
   "cell_type": "code",
   "execution_count": 54,
   "metadata": {},
   "outputs": [
    {
     "name": "stdout",
     "output_type": "stream",
     "text": [
      "search: \u001b[0m\u001b[1mf\u001b[22m\u001b[0m\u001b[1mi\u001b[22m\u001b[0m\u001b[1mr\u001b[22m\u001b[0m\u001b[1ms\u001b[22m\u001b[0m\u001b[1mt\u001b[22m\u001b[0m\u001b[1mi\u001b[22m\u001b[0m\u001b[1mn\u001b[22m\u001b[0m\u001b[1md\u001b[22m\u001b[0m\u001b[1me\u001b[22m\u001b[0m\u001b[1mx\u001b[22m\n",
      "\n"
     ]
    },
    {
     "data": {
      "text/markdown": [
       "```\n",
       "firstindex(collection) -> Integer\n",
       "firstindex(collection, d) -> Integer\n",
       "```\n",
       "\n",
       "Return the first index of `collection`. If `d` is given, return the first index of `collection` along dimension `d`.\n",
       "\n",
       "# Examples\n",
       "\n",
       "```jldoctest\n",
       "julia> firstindex([1,2,4])\n",
       "1\n",
       "\n",
       "julia> firstindex(rand(3,4,5), 2)\n",
       "1\n",
       "```\n"
      ],
      "text/plain": [
       "\u001b[36m  firstindex(collection) -> Integer\u001b[39m\n",
       "\u001b[36m  firstindex(collection, d) -> Integer\u001b[39m\n",
       "\n",
       "  Return the first index of \u001b[36mcollection\u001b[39m. If \u001b[36md\u001b[39m is given, return the first index\n",
       "  of \u001b[36mcollection\u001b[39m along dimension \u001b[36md\u001b[39m.\n",
       "\n",
       "\u001b[1m  Examples\u001b[22m\n",
       "\u001b[1m  ≡≡≡≡≡≡≡≡≡≡\u001b[22m\n",
       "\n",
       "\u001b[36m  julia> firstindex([1,2,4])\u001b[39m\n",
       "\u001b[36m  1\u001b[39m\n",
       "\u001b[36m  \u001b[39m\n",
       "\u001b[36m  julia> firstindex(rand(3,4,5), 2)\u001b[39m\n",
       "\u001b[36m  1\u001b[39m"
      ]
     },
     "execution_count": 54,
     "metadata": {},
     "output_type": "execute_result"
    }
   ],
   "source": [
    "?firstindex"
   ]
  },
  {
   "cell_type": "code",
   "execution_count": 56,
   "metadata": {},
   "outputs": [
    {
     "data": {
      "text/plain": [
       "4×3 Array{Int64,2}:\n",
       "  5   6   7\n",
       " 10  12  14\n",
       " 15  18  21\n",
       " 20  24  28"
      ]
     },
     "execution_count": 56,
     "metadata": {},
     "output_type": "execute_result"
    }
   ],
   "source": [
    "A = [i*j for i in 1:4,j in 5:7]"
   ]
  },
  {
   "cell_type": "code",
   "execution_count": 58,
   "metadata": {},
   "outputs": [
    {
     "data": {
      "text/plain": [
       "0-dimensional Array{Union{Nothing, CartesianIndex{2}},0}:\n",
       "CartesianIndex(4, 1)"
      ]
     },
     "execution_count": 58,
     "metadata": {},
     "output_type": "execute_result"
    }
   ],
   "source": [
    "indexin(20,A)"
   ]
  },
  {
   "cell_type": "code",
   "execution_count": 59,
   "metadata": {},
   "outputs": [
    {
     "data": {
      "text/plain": [
       "CartesianIndex(9, -2)"
      ]
     },
     "execution_count": 59,
     "metadata": {},
     "output_type": "execute_result"
    }
   ],
   "source": [
    "pos = CartesianIndex(9,0) \n",
    "c = CartesianIndex(0,-2)\n",
    "pos + c"
   ]
  },
  {
   "cell_type": "code",
   "execution_count": 67,
   "metadata": {},
   "outputs": [
    {
     "data": {
      "text/plain": [
       "(9, 0)"
      ]
     },
     "execution_count": 67,
     "metadata": {},
     "output_type": "execute_result"
    }
   ],
   "source": [
    "Tuple(pos)"
   ]
  },
  {
   "cell_type": "code",
   "execution_count": null,
   "metadata": {},
   "outputs": [],
   "source": []
  }
 ],
 "metadata": {
  "kernelspec": {
   "display_name": "Julia 1.0.1",
   "language": "julia",
   "name": "julia-1.0"
  },
  "language_info": {
   "file_extension": ".jl",
   "mimetype": "application/julia",
   "name": "julia",
   "version": "1.0.1"
  }
 },
 "nbformat": 4,
 "nbformat_minor": 2
}
