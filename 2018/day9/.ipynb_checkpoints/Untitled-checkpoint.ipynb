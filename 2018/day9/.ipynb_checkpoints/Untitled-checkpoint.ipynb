{
 "cells": [
  {
   "cell_type": "code",
   "execution_count": 6,
   "metadata": {},
   "outputs": [
    {
     "data": {
      "text/plain": [
       "1-element Array{Int64,1}:\n",
       " 0"
      ]
     },
     "execution_count": 6,
     "metadata": {},
     "output_type": "execute_result"
    }
   ],
   "source": [
    "p = 478\n",
    "N = 71240\n",
    "score = zeros(p)\n",
    "marbles = [0]"
   ]
  },
  {
   "cell_type": "markdown",
   "metadata": {},
   "source": [
    "Here are a few more examples:\n",
    "\n",
    "  - 10 players; last marble is worth 1618 points: high score is 8317\n",
    "  - 13 players; last marble is worth 7999 points: high score is 146373\n",
    "  - 17 players; last marble is worth 1104 points: high score is 2764\n",
    "  - 21 players; last marble is worth 6111 points: high score is 54718\n",
    "  - 30 players; last marble is worth 5807 points: high score is 37305"
   ]
  },
  {
   "cell_type": "code",
   "execution_count": 41,
   "metadata": {},
   "outputs": [],
   "source": [
    "p,N = 478,71240\n",
    "# p,N = 30,5807 # test\n",
    "score = zeros(p)\n",
    "marbles = [0]\n",
    "pos = 1\n",
    "sc = []\n",
    "for m in 1:N\n",
    "    global pos\n",
    "    lm = length(marbles)\n",
    "    if m % 23 != 0\n",
    "        pos = mod1(pos+1,lm)\n",
    "        if pos == lm\n",
    "            push!(marbles,m)\n",
    "        else\n",
    "            insert!(marbles,pos+1,m)\n",
    "        end\n",
    "        pos = mod1(pos+1,lm+1)\n",
    "    else\n",
    "        pos = mod1(pos - 7,lm)\n",
    "        score[mod1(m,p)] += m + marbles[pos]\n",
    "        push!(sc,(pos,m + marbles[pos]))\n",
    "        deleteat!(marbles,pos)\n",
    "        pos = mod1(pos,length(marbles))\n",
    "    end\n",
    "end\n",
    "\n",
    "print(maximum(score))"
   ]
  },
  {
   "cell_type": "code",
   "execution_count": 40,
   "metadata": {},
   "outputs": [
    {
     "data": {
      "text/plain": [
       "5.93762263e8"
      ]
     },
     "execution_count": 40,
     "metadata": {},
     "output_type": "execute_result"
    }
   ],
   "source": [
    "maximum(score)"
   ]
  },
  {
   "cell_type": "code",
   "execution_count": 43,
   "metadata": {},
   "outputs": [
    {
     "data": {
      "text/plain": [
       "252-element Array{Int64,1}:\n",
       "    9\n",
       "   17\n",
       "   11\n",
       "   15\n",
       "   50\n",
       "   58\n",
       "   66\n",
       "   33\n",
       "   37\n",
       "   99\n",
       "  107\n",
       "   45\n",
       "   55\n",
       "    ⋮\n",
       " 2397\n",
       " 2405\n",
       "  450\n",
       "  195\n",
       " 2434\n",
       " 2446\n",
       " 2454\n",
       " 2460\n",
       "  458\n",
       " 2487\n",
       " 2495\n",
       " 1085"
      ]
     },
     "execution_count": 43,
     "metadata": {},
     "output_type": "execute_result"
    }
   ],
   "source": [
    "[x - i*23 for (i,x) in enumerate(sc)]"
   ]
  },
  {
   "cell_type": "code",
   "execution_count": null,
   "metadata": {},
   "outputs": [],
   "source": []
  },
  {
   "cell_type": "code",
   "execution_count": null,
   "metadata": {},
   "outputs": [],
   "source": []
  },
  {
   "cell_type": "code",
   "execution_count": null,
   "metadata": {},
   "outputs": [],
   "source": []
  },
  {
   "cell_type": "code",
   "execution_count": null,
   "metadata": {},
   "outputs": [],
   "source": []
  }
 ],
 "metadata": {
  "kernelspec": {
   "display_name": "Julia 1.0.1",
   "language": "julia",
   "name": "julia-1.0"
  },
  "language_info": {
   "file_extension": ".jl",
   "mimetype": "application/julia",
   "name": "julia",
   "version": "1.0.1"
  }
 },
 "nbformat": 4,
 "nbformat_minor": 2
}
