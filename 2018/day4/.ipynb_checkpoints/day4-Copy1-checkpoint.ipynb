{
 "cells": [
  {
   "cell_type": "code",
   "execution_count": 1,
   "metadata": {},
   "outputs": [
    {
     "data": {
      "text/plain": [
       "1186-element Array{SubString{String},1}:\n",
       " \"[1518-05-12 00:39] wakes up\"                \n",
       " \"[1518-05-09 00:21] falls asleep\"            \n",
       " \"[1518-11-16 00:07] falls asleep\"            \n",
       " \"[1518-02-06 23:51] Guard #2081 begins shift\"\n",
       " \"[1518-03-22 00:53] falls asleep\"            \n",
       " \"[1518-09-11 23:58] Guard #1699 begins shift\"\n",
       " \"[1518-02-23 00:02] Guard #1913 begins shift\"\n",
       " \"[1518-05-07 00:22] wakes up\"                \n",
       " \"[1518-07-23 00:26] wakes up\"                \n",
       " \"[1518-10-07 00:40] wakes up\"                \n",
       " \"[1518-02-18 00:02] Guard #263 begins shift\" \n",
       " \"[1518-06-08 00:18] falls asleep\"            \n",
       " \"[1518-04-28 00:00] Guard #3301 begins shift\"\n",
       " ⋮                                            \n",
       " \"[1518-05-04 00:16] wakes up\"                \n",
       " \"[1518-05-21 00:53] wakes up\"                \n",
       " \"[1518-07-27 00:04] Guard #2017 begins shift\"\n",
       " \"[1518-06-14 23:59] Guard #1217 begins shift\"\n",
       " \"[1518-03-11 00:17] wakes up\"                \n",
       " \"[1518-03-07 23:57] Guard #3187 begins shift\"\n",
       " \"[1518-07-01 00:15] falls asleep\"            \n",
       " \"[1518-11-08 00:57] wakes up\"                \n",
       " \"[1518-09-29 00:54] wakes up\"                \n",
       " \"[1518-08-07 23:56] Guard #3301 begins shift\"\n",
       " \"[1518-08-15 00:23] falls asleep\"            \n",
       " \"[1518-03-24 00:57] wakes up\"                "
      ]
     },
     "execution_count": 1,
     "metadata": {},
     "output_type": "execute_result"
    }
   ],
   "source": [
    "# with open(\"input.txt\") as f:\n",
    "#     s = [x.strip() for x in f.readlines()]\n",
    "s = open(\"input.txt\") do f\n",
    "    [chomp(x) for x in readlines(f)]\n",
    "end"
   ]
  },
  {
   "cell_type": "code",
   "execution_count": 3,
   "metadata": {},
   "outputs": [
    {
     "data": {
      "text/plain": [
       "4-element Array{SubString{String},1}:\n",
       " \"[1518-05-12\"\n",
       " \"00:39]\"     \n",
       " \"wakes\"      \n",
       " \"up\"         "
      ]
     },
     "execution_count": 3,
     "metadata": {},
     "output_type": "execute_result"
    }
   ],
   "source": [
    "split(s[1],' ')"
   ]
  },
  {
   "cell_type": "code",
   "execution_count": 31,
   "metadata": {},
   "outputs": [
    {
     "data": {
      "text/plain": [
       "RegexMatch(\"[1518-05-12 00:39] wakes up\", 1=\"1518-05-12 00:39\", 2=\"wakes up\")"
      ]
     },
     "execution_count": 31,
     "metadata": {},
     "output_type": "execute_result"
    }
   ],
   "source": [
    "m = match(r\"\\[(.*)\\] (.*)\",s[1])"
   ]
  },
  {
   "cell_type": "code",
   "execution_count": 33,
   "metadata": {},
   "outputs": [
    {
     "data": {
      "text/plain": [
       "\"1518-05-12 00:39\""
      ]
     },
     "execution_count": 33,
     "metadata": {},
     "output_type": "execute_result"
    }
   ],
   "source": [
    "m[1]"
   ]
  },
  {
   "cell_type": "code",
   "execution_count": 25,
   "metadata": {},
   "outputs": [
    {
     "data": {
      "text/plain": [
       "dateformat\"y-m-d HH:MM\""
      ]
     },
     "execution_count": 25,
     "metadata": {},
     "output_type": "execute_result"
    }
   ],
   "source": [
    "df = Dates.DateFormat(\"y-m-d HH:MM\")"
   ]
  },
  {
   "cell_type": "code",
   "execution_count": 27,
   "metadata": {},
   "outputs": [
    {
     "data": {
      "text/plain": [
       "1518-05-12T00:39:00"
      ]
     },
     "execution_count": 27,
     "metadata": {},
     "output_type": "execute_result"
    }
   ],
   "source": [
    "dt = DateTime(m.captures[1],df)"
   ]
  },
  {
   "cell_type": "code",
   "execution_count": 13,
   "metadata": {},
   "outputs": [],
   "source": [
    "using Dates"
   ]
  },
  {
   "cell_type": "code",
   "execution_count": 30,
   "metadata": {},
   "outputs": [
    {
     "data": {
      "text/plain": [
       "39"
      ]
     },
     "execution_count": 30,
     "metadata": {},
     "output_type": "execute_result"
    }
   ],
   "source": [
    "Dates.minute(dt)"
   ]
  },
  {
   "cell_type": "code",
   "execution_count": 36,
   "metadata": {},
   "outputs": [
    {
     "data": {
      "text/plain": [
       "Dict{Int64,Int64} with 9 entries:\n",
       "  7 => 9\n",
       "  4 => 6\n",
       "  9 => 11\n",
       "  2 => 4\n",
       "  3 => 5\n",
       "  5 => 7\n",
       "  8 => 10\n",
       "  6 => 8\n",
       "  1 => 3"
      ]
     },
     "execution_count": 36,
     "metadata": {},
     "output_type": "execute_result"
    }
   ],
   "source": [
    "Dict(i => i+2 for i in 1:9)"
   ]
  },
  {
   "cell_type": "code",
   "execution_count": 39,
   "metadata": {},
   "outputs": [
    {
     "data": {
      "text/plain": [
       "12 => 34"
      ]
     },
     "execution_count": 39,
     "metadata": {},
     "output_type": "execute_result"
    }
   ],
   "source": [
    "12 => 34"
   ]
  },
  {
   "cell_type": "code",
   "execution_count": 40,
   "metadata": {},
   "outputs": [
    {
     "data": {
      "text/plain": [
       "pardate (generic function with 1 method)"
      ]
     },
     "execution_count": 40,
     "metadata": {},
     "output_type": "execute_result"
    }
   ],
   "source": [
    "function pardate(s)\n",
    "    m = match(r\"\\[(.*)\\] (.*)\",s)\n",
    "    return DateTime(m[1],df) => m[2]\n",
    "end"
   ]
  },
  {
   "cell_type": "code",
   "execution_count": 41,
   "metadata": {},
   "outputs": [
    {
     "data": {
      "text/plain": [
       "1518-05-12T00:39:00 => \"wakes up\""
      ]
     },
     "execution_count": 41,
     "metadata": {},
     "output_type": "execute_result"
    }
   ],
   "source": [
    "pardate(s[1])"
   ]
  },
  {
   "cell_type": "code",
   "execution_count": 43,
   "metadata": {},
   "outputs": [
    {
     "data": {
      "text/plain": [
       "Dict{DateTime,String} with 1186 entries:\n",
       "  1518-07-26T00:51:00 => \"wakes up\"\n",
       "  1518-07-19T00:58:00 => \"wakes up\"\n",
       "  1518-07-17T00:53:00 => \"wakes up\"\n",
       "  1518-09-04T23:59:00 => \"Guard #2657 begins shift\"\n",
       "  1518-11-13T00:04:00 => \"Guard #2689 begins shift\"\n",
       "  1518-07-17T23:56:00 => \"Guard #557 begins shift\"\n",
       "  1518-02-03T00:34:00 => \"wakes up\"\n",
       "  1518-10-15T00:37:00 => \"wakes up\"\n",
       "  1518-06-02T00:57:00 => \"wakes up\"\n",
       "  1518-02-23T00:31:00 => \"falls asleep\"\n",
       "  1518-10-29T00:48:00 => \"falls asleep\"\n",
       "  1518-06-21T00:01:00 => \"Guard #379 begins shift\"\n",
       "  1518-05-17T23:54:00 => \"Guard #2689 begins shift\"\n",
       "  1518-05-09T00:21:00 => \"falls asleep\"\n",
       "  1518-11-04T23:59:00 => \"Guard #2017 begins shift\"\n",
       "  1518-08-24T00:19:00 => \"falls asleep\"\n",
       "  1518-05-10T00:17:00 => \"falls asleep\"\n",
       "  1518-02-10T00:48:00 => \"falls asleep\"\n",
       "  1518-03-06T00:18:00 => \"wakes up\"\n",
       "  1518-04-08T00:01:00 => \"Guard #2711 begins shift\"\n",
       "  1518-05-22T00:59:00 => \"wakes up\"\n",
       "  1518-05-07T00:18:00 => \"falls asleep\"\n",
       "  1518-08-06T23:59:00 => \"Guard #617 begins shift\"\n",
       "  1518-07-31T00:16:00 => \"falls asleep\"\n",
       "  1518-10-03T00:14:00 => \"wakes up\"\n",
       "  ⋮                   => ⋮"
      ]
     },
     "execution_count": 43,
     "metadata": {},
     "output_type": "execute_result"
    }
   ],
   "source": [
    "logger = Dict{DateTime,String}(pardate(x) for x in s)"
   ]
  },
  {
   "cell_type": "code",
   "execution_count": 65,
   "metadata": {},
   "outputs": [
    {
     "data": {
      "text/plain": [
       "1186-element Array{Pair{DateTime,String},1}:\n",
       " 1518-01-29T23:58:00 => \"Guard #617 begins shift\" \n",
       " 1518-01-30T00:22:00 => \"falls asleep\"            \n",
       " 1518-01-30T00:42:00 => \"wakes up\"                \n",
       " 1518-01-30T00:53:00 => \"falls asleep\"            \n",
       " 1518-01-30T00:58:00 => \"wakes up\"                \n",
       " 1518-01-31T00:02:00 => \"Guard #1201 begins shift\"\n",
       " 1518-01-31T00:37:00 => \"falls asleep\"            \n",
       " 1518-01-31T00:40:00 => \"wakes up\"                \n",
       " 1518-01-31T00:43:00 => \"falls asleep\"            \n",
       " 1518-01-31T00:56:00 => \"wakes up\"                \n",
       " 1518-02-01T00:04:00 => \"Guard #2521 begins shift\"\n",
       " 1518-02-01T00:27:00 => \"falls asleep\"            \n",
       " 1518-02-01T00:54:00 => \"wakes up\"                \n",
       "                     ⋮                            \n",
       " 1518-11-22T00:02:00 => \"Guard #2657 begins shift\"\n",
       " 1518-11-22T00:15:00 => \"falls asleep\"            \n",
       " 1518-11-22T00:19:00 => \"wakes up\"                \n",
       " 1518-11-22T00:25:00 => \"falls asleep\"            \n",
       " 1518-11-22T00:52:00 => \"wakes up\"                \n",
       " 1518-11-22T00:57:00 => \"falls asleep\"            \n",
       " 1518-11-22T00:59:00 => \"wakes up\"                \n",
       " 1518-11-22T23:59:00 => \"Guard #2711 begins shift\"\n",
       " 1518-11-23T00:33:00 => \"falls asleep\"            \n",
       " 1518-11-23T00:51:00 => \"wakes up\"                \n",
       " 1518-11-23T00:54:00 => \"falls asleep\"            \n",
       " 1518-11-23T00:56:00 => \"wakes up\"                "
      ]
     },
     "execution_count": 65,
     "metadata": {},
     "output_type": "execute_result"
    }
   ],
   "source": [
    "log_std = sort(collect(pairs(logger)))"
   ]
  },
  {
   "cell_type": "code",
   "execution_count": 24,
   "metadata": {},
   "outputs": [
    {
     "data": {
      "text/plain": [
       "[(datetime.datetime(1518, 1, 29, 23, 58), 'Guard #617 begins shift'),\n",
       " (datetime.datetime(1518, 1, 30, 0, 22), 'falls asleep'),\n",
       " (datetime.datetime(1518, 1, 30, 0, 42), 'wakes up'),\n",
       " (datetime.datetime(1518, 1, 30, 0, 53), 'falls asleep'),\n",
       " (datetime.datetime(1518, 1, 30, 0, 58), 'wakes up'),\n",
       " (datetime.datetime(1518, 1, 31, 0, 2), 'Guard #1201 begins shift'),\n",
       " (datetime.datetime(1518, 1, 31, 0, 37), 'falls asleep'),\n",
       " (datetime.datetime(1518, 1, 31, 0, 40), 'wakes up'),\n",
       " (datetime.datetime(1518, 1, 31, 0, 43), 'falls asleep'),\n",
       " (datetime.datetime(1518, 1, 31, 0, 56), 'wakes up'),\n",
       " (datetime.datetime(1518, 2, 1, 0, 4), 'Guard #2521 begins shift'),\n",
       " (datetime.datetime(1518, 2, 1, 0, 27), 'falls asleep'),\n",
       " (datetime.datetime(1518, 2, 1, 0, 54), 'wakes up'),\n",
       " (datetime.datetime(1518, 2, 1, 0, 57), 'falls asleep'),\n",
       " (datetime.datetime(1518, 2, 1, 0, 59), 'wakes up'),\n",
       " (datetime.datetime(1518, 2, 1, 23, 59), 'Guard #467 begins shift'),\n",
       " (datetime.datetime(1518, 2, 2, 0, 25), 'falls asleep'),\n",
       " (datetime.datetime(1518, 2, 2, 0, 57), 'wakes up'),\n",
       " (datetime.datetime(1518, 2, 2, 23, 59), 'Guard #557 begins shift'),\n",
       " (datetime.datetime(1518, 2, 3, 0, 21), 'falls asleep'),\n",
       " (datetime.datetime(1518, 2, 3, 0, 34), 'wakes up'),\n",
       " (datetime.datetime(1518, 2, 3, 23, 57), 'Guard #3181 begins shift'),\n",
       " (datetime.datetime(1518, 2, 4, 0, 25), 'falls asleep'),\n",
       " (datetime.datetime(1518, 2, 4, 0, 49), 'wakes up'),\n",
       " (datetime.datetime(1518, 2, 5, 0, 1), 'Guard #263 begins shift'),\n",
       " (datetime.datetime(1518, 2, 5, 0, 30), 'falls asleep'),\n",
       " (datetime.datetime(1518, 2, 5, 0, 57), 'wakes up'),\n",
       " (datetime.datetime(1518, 2, 5, 23, 58), 'Guard #1201 begins shift'),\n",
       " (datetime.datetime(1518, 2, 6, 0, 39), 'falls asleep'),\n",
       " (datetime.datetime(1518, 2, 6, 0, 59), 'wakes up'),\n",
       " (datetime.datetime(1518, 2, 6, 23, 51), 'Guard #2081 begins shift'),\n",
       " (datetime.datetime(1518, 2, 7, 0, 3), 'falls asleep'),\n",
       " (datetime.datetime(1518, 2, 7, 0, 35), 'wakes up'),\n",
       " (datetime.datetime(1518, 2, 7, 23, 49), 'Guard #3137 begins shift'),\n",
       " (datetime.datetime(1518, 2, 8, 0, 0), 'falls asleep'),\n",
       " (datetime.datetime(1518, 2, 8, 0, 4), 'wakes up'),\n",
       " (datetime.datetime(1518, 2, 8, 0, 15), 'falls asleep'),\n",
       " (datetime.datetime(1518, 2, 8, 0, 22), 'wakes up'),\n",
       " (datetime.datetime(1518, 2, 8, 23, 53), 'Guard #2657 begins shift'),\n",
       " (datetime.datetime(1518, 2, 9, 0, 0), 'falls asleep'),\n",
       " (datetime.datetime(1518, 2, 9, 0, 40), 'wakes up'),\n",
       " (datetime.datetime(1518, 2, 9, 0, 46), 'falls asleep'),\n",
       " (datetime.datetime(1518, 2, 9, 0, 49), 'wakes up'),\n",
       " (datetime.datetime(1518, 2, 10, 0, 0), 'Guard #2689 begins shift'),\n",
       " (datetime.datetime(1518, 2, 10, 0, 14), 'falls asleep'),\n",
       " (datetime.datetime(1518, 2, 10, 0, 19), 'wakes up'),\n",
       " (datetime.datetime(1518, 2, 10, 0, 48), 'falls asleep'),\n",
       " (datetime.datetime(1518, 2, 10, 0, 50), 'wakes up'),\n",
       " (datetime.datetime(1518, 2, 11, 0, 3), 'Guard #557 begins shift'),\n",
       " (datetime.datetime(1518, 2, 11, 0, 34), 'falls asleep'),\n",
       " (datetime.datetime(1518, 2, 11, 0, 43), 'wakes up'),\n",
       " (datetime.datetime(1518, 2, 11, 0, 49), 'falls asleep'),\n",
       " (datetime.datetime(1518, 2, 11, 0, 50), 'wakes up'),\n",
       " (datetime.datetime(1518, 2, 12, 0, 1), 'Guard #3181 begins shift'),\n",
       " (datetime.datetime(1518, 2, 12, 0, 32), 'falls asleep'),\n",
       " (datetime.datetime(1518, 2, 12, 0, 43), 'wakes up'),\n",
       " (datetime.datetime(1518, 2, 12, 0, 47), 'falls asleep'),\n",
       " (datetime.datetime(1518, 2, 12, 0, 52), 'wakes up'),\n",
       " (datetime.datetime(1518, 2, 13, 0, 2), 'Guard #2689 begins shift'),\n",
       " (datetime.datetime(1518, 2, 13, 0, 44), 'falls asleep'),\n",
       " (datetime.datetime(1518, 2, 13, 0, 50), 'wakes up'),\n",
       " (datetime.datetime(1518, 2, 13, 0, 54), 'falls asleep'),\n",
       " (datetime.datetime(1518, 2, 13, 0, 56), 'wakes up'),\n",
       " (datetime.datetime(1518, 2, 13, 23, 58), 'Guard #1217 begins shift'),\n",
       " (datetime.datetime(1518, 2, 14, 0, 18), 'falls asleep'),\n",
       " (datetime.datetime(1518, 2, 14, 0, 35), 'wakes up'),\n",
       " (datetime.datetime(1518, 2, 14, 0, 40), 'falls asleep'),\n",
       " (datetime.datetime(1518, 2, 14, 0, 44), 'wakes up'),\n",
       " (datetime.datetime(1518, 2, 14, 23, 49), 'Guard #1933 begins shift'),\n",
       " (datetime.datetime(1518, 2, 15, 0, 2), 'falls asleep'),\n",
       " (datetime.datetime(1518, 2, 15, 0, 9), 'wakes up'),\n",
       " (datetime.datetime(1518, 2, 15, 0, 36), 'falls asleep'),\n",
       " (datetime.datetime(1518, 2, 15, 0, 48), 'wakes up'),\n",
       " (datetime.datetime(1518, 2, 16, 0, 0), 'Guard #1913 begins shift'),\n",
       " (datetime.datetime(1518, 2, 16, 0, 24), 'falls asleep'),\n",
       " (datetime.datetime(1518, 2, 16, 0, 50), 'wakes up'),\n",
       " (datetime.datetime(1518, 2, 17, 0, 2), 'Guard #263 begins shift'),\n",
       " (datetime.datetime(1518, 2, 17, 0, 13), 'falls asleep'),\n",
       " (datetime.datetime(1518, 2, 17, 0, 59), 'wakes up'),\n",
       " (datetime.datetime(1518, 2, 18, 0, 2), 'Guard #263 begins shift'),\n",
       " (datetime.datetime(1518, 2, 18, 0, 25), 'falls asleep'),\n",
       " (datetime.datetime(1518, 2, 18, 0, 48), 'wakes up'),\n",
       " (datetime.datetime(1518, 2, 18, 23, 56), 'Guard #2017 begins shift'),\n",
       " (datetime.datetime(1518, 2, 19, 0, 29), 'falls asleep'),\n",
       " (datetime.datetime(1518, 2, 19, 0, 34), 'wakes up'),\n",
       " (datetime.datetime(1518, 2, 19, 0, 48), 'falls asleep'),\n",
       " (datetime.datetime(1518, 2, 19, 0, 59), 'wakes up'),\n",
       " (datetime.datetime(1518, 2, 19, 23, 58), 'Guard #2657 begins shift'),\n",
       " (datetime.datetime(1518, 2, 20, 0, 10), 'falls asleep'),\n",
       " (datetime.datetime(1518, 2, 20, 0, 28), 'wakes up'),\n",
       " (datetime.datetime(1518, 2, 20, 0, 47), 'falls asleep'),\n",
       " (datetime.datetime(1518, 2, 20, 0, 48), 'wakes up'),\n",
       " (datetime.datetime(1518, 2, 20, 0, 55), 'falls asleep'),\n",
       " (datetime.datetime(1518, 2, 20, 0, 58), 'wakes up'),\n",
       " (datetime.datetime(1518, 2, 20, 23, 54), 'Guard #2689 begins shift'),\n",
       " (datetime.datetime(1518, 2, 21, 0, 3), 'falls asleep'),\n",
       " (datetime.datetime(1518, 2, 21, 0, 13), 'wakes up'),\n",
       " (datetime.datetime(1518, 2, 21, 0, 16), 'falls asleep'),\n",
       " (datetime.datetime(1518, 2, 21, 0, 37), 'wakes up'),\n",
       " (datetime.datetime(1518, 2, 21, 23, 56), 'Guard #379 begins shift'),\n",
       " (datetime.datetime(1518, 2, 23, 0, 2), 'Guard #1913 begins shift'),\n",
       " (datetime.datetime(1518, 2, 23, 0, 31), 'falls asleep'),\n",
       " (datetime.datetime(1518, 2, 23, 0, 38), 'wakes up'),\n",
       " (datetime.datetime(1518, 2, 23, 23, 59), 'Guard #617 begins shift'),\n",
       " (datetime.datetime(1518, 2, 24, 0, 7), 'falls asleep'),\n",
       " (datetime.datetime(1518, 2, 24, 0, 42), 'wakes up'),\n",
       " (datetime.datetime(1518, 2, 24, 0, 52), 'falls asleep'),\n",
       " (datetime.datetime(1518, 2, 24, 0, 53), 'wakes up'),\n",
       " (datetime.datetime(1518, 2, 24, 0, 56), 'falls asleep'),\n",
       " (datetime.datetime(1518, 2, 24, 0, 59), 'wakes up'),\n",
       " (datetime.datetime(1518, 2, 25, 0, 3), 'Guard #3187 begins shift'),\n",
       " (datetime.datetime(1518, 2, 25, 0, 25), 'falls asleep'),\n",
       " (datetime.datetime(1518, 2, 25, 0, 47), 'wakes up'),\n",
       " (datetime.datetime(1518, 2, 25, 0, 57), 'falls asleep'),\n",
       " (datetime.datetime(1518, 2, 25, 0, 59), 'wakes up'),\n",
       " (datetime.datetime(1518, 2, 26, 0, 0), 'Guard #467 begins shift'),\n",
       " (datetime.datetime(1518, 2, 26, 0, 11), 'falls asleep'),\n",
       " (datetime.datetime(1518, 2, 26, 0, 33), 'wakes up'),\n",
       " (datetime.datetime(1518, 2, 26, 0, 46), 'falls asleep'),\n",
       " (datetime.datetime(1518, 2, 26, 0, 48), 'wakes up'),\n",
       " (datetime.datetime(1518, 2, 26, 23, 58), 'Guard #3187 begins shift'),\n",
       " (datetime.datetime(1518, 2, 27, 0, 53), 'falls asleep'),\n",
       " (datetime.datetime(1518, 2, 27, 0, 59), 'wakes up'),\n",
       " (datetime.datetime(1518, 2, 28, 0, 2), 'Guard #2017 begins shift'),\n",
       " (datetime.datetime(1518, 2, 28, 0, 30), 'falls asleep'),\n",
       " (datetime.datetime(1518, 2, 28, 0, 51), 'wakes up'),\n",
       " (datetime.datetime(1518, 2, 28, 23, 58), 'Guard #2081 begins shift'),\n",
       " (datetime.datetime(1518, 3, 1, 0, 9), 'falls asleep'),\n",
       " (datetime.datetime(1518, 3, 1, 0, 56), 'wakes up'),\n",
       " (datetime.datetime(1518, 3, 2, 0, 4), 'Guard #263 begins shift'),\n",
       " (datetime.datetime(1518, 3, 2, 0, 38), 'falls asleep'),\n",
       " (datetime.datetime(1518, 3, 2, 0, 43), 'wakes up'),\n",
       " (datetime.datetime(1518, 3, 2, 0, 47), 'falls asleep'),\n",
       " (datetime.datetime(1518, 3, 2, 0, 54), 'wakes up'),\n",
       " (datetime.datetime(1518, 3, 3, 0, 0), 'Guard #3181 begins shift'),\n",
       " (datetime.datetime(1518, 3, 3, 0, 16), 'falls asleep'),\n",
       " (datetime.datetime(1518, 3, 3, 0, 24), 'wakes up'),\n",
       " (datetime.datetime(1518, 3, 3, 0, 30), 'falls asleep'),\n",
       " (datetime.datetime(1518, 3, 3, 0, 55), 'wakes up'),\n",
       " (datetime.datetime(1518, 3, 4, 0, 2), 'Guard #467 begins shift'),\n",
       " (datetime.datetime(1518, 3, 4, 0, 8), 'falls asleep'),\n",
       " (datetime.datetime(1518, 3, 4, 0, 52), 'wakes up'),\n",
       " (datetime.datetime(1518, 3, 4, 23, 57), 'Guard #1913 begins shift'),\n",
       " (datetime.datetime(1518, 3, 5, 0, 22), 'falls asleep'),\n",
       " (datetime.datetime(1518, 3, 5, 0, 51), 'wakes up'),\n",
       " (datetime.datetime(1518, 3, 5, 23, 59), 'Guard #1069 begins shift'),\n",
       " (datetime.datetime(1518, 3, 6, 0, 8), 'falls asleep'),\n",
       " (datetime.datetime(1518, 3, 6, 0, 18), 'wakes up'),\n",
       " (datetime.datetime(1518, 3, 6, 0, 26), 'falls asleep'),\n",
       " (datetime.datetime(1518, 3, 6, 0, 39), 'wakes up'),\n",
       " (datetime.datetime(1518, 3, 6, 0, 49), 'falls asleep'),\n",
       " (datetime.datetime(1518, 3, 6, 0, 58), 'wakes up'),\n",
       " (datetime.datetime(1518, 3, 6, 23, 58), 'Guard #3181 begins shift'),\n",
       " (datetime.datetime(1518, 3, 7, 0, 13), 'falls asleep'),\n",
       " (datetime.datetime(1518, 3, 7, 0, 48), 'wakes up'),\n",
       " (datetime.datetime(1518, 3, 7, 23, 57), 'Guard #3187 begins shift'),\n",
       " (datetime.datetime(1518, 3, 8, 0, 16), 'falls asleep'),\n",
       " (datetime.datetime(1518, 3, 8, 0, 57), 'wakes up'),\n",
       " (datetime.datetime(1518, 3, 8, 23, 54), 'Guard #2521 begins shift'),\n",
       " (datetime.datetime(1518, 3, 9, 0, 3), 'falls asleep'),\n",
       " (datetime.datetime(1518, 3, 9, 0, 4), 'wakes up'),\n",
       " (datetime.datetime(1518, 3, 9, 0, 26), 'falls asleep'),\n",
       " (datetime.datetime(1518, 3, 9, 0, 44), 'wakes up'),\n",
       " (datetime.datetime(1518, 3, 9, 23, 46), 'Guard #2081 begins shift'),\n",
       " (datetime.datetime(1518, 3, 10, 0, 3), 'falls asleep'),\n",
       " (datetime.datetime(1518, 3, 10, 0, 39), 'wakes up'),\n",
       " (datetime.datetime(1518, 3, 10, 23, 53), 'Guard #1069 begins shift'),\n",
       " (datetime.datetime(1518, 3, 11, 0, 4), 'falls asleep'),\n",
       " (datetime.datetime(1518, 3, 11, 0, 17), 'wakes up'),\n",
       " (datetime.datetime(1518, 3, 11, 0, 48), 'falls asleep'),\n",
       " (datetime.datetime(1518, 3, 11, 0, 56), 'wakes up'),\n",
       " (datetime.datetime(1518, 3, 11, 23, 59), 'Guard #3187 begins shift'),\n",
       " (datetime.datetime(1518, 3, 12, 0, 21), 'falls asleep'),\n",
       " (datetime.datetime(1518, 3, 12, 0, 46), 'wakes up'),\n",
       " (datetime.datetime(1518, 3, 13, 0, 1), 'Guard #2081 begins shift'),\n",
       " (datetime.datetime(1518, 3, 13, 0, 12), 'falls asleep'),\n",
       " (datetime.datetime(1518, 3, 13, 0, 55), 'wakes up'),\n",
       " (datetime.datetime(1518, 3, 13, 23, 56), 'Guard #1699 begins shift'),\n",
       " (datetime.datetime(1518, 3, 14, 0, 18), 'falls asleep'),\n",
       " (datetime.datetime(1518, 3, 14, 0, 21), 'wakes up'),\n",
       " (datetime.datetime(1518, 3, 14, 0, 42), 'falls asleep'),\n",
       " (datetime.datetime(1518, 3, 14, 0, 52), 'wakes up'),\n",
       " (datetime.datetime(1518, 3, 14, 23, 58), 'Guard #3181 begins shift'),\n",
       " (datetime.datetime(1518, 3, 15, 0, 9), 'falls asleep'),\n",
       " (datetime.datetime(1518, 3, 15, 0, 24), 'wakes up'),\n",
       " (datetime.datetime(1518, 3, 15, 0, 41), 'falls asleep'),\n",
       " (datetime.datetime(1518, 3, 15, 0, 44), 'wakes up'),\n",
       " (datetime.datetime(1518, 3, 15, 23, 57), 'Guard #2711 begins shift'),\n",
       " (datetime.datetime(1518, 3, 16, 0, 49), 'falls asleep'),\n",
       " (datetime.datetime(1518, 3, 16, 0, 53), 'wakes up'),\n",
       " (datetime.datetime(1518, 3, 17, 0, 3), 'Guard #3187 begins shift'),\n",
       " (datetime.datetime(1518, 3, 17, 0, 13), 'falls asleep'),\n",
       " (datetime.datetime(1518, 3, 17, 0, 32), 'wakes up'),\n",
       " (datetime.datetime(1518, 3, 17, 0, 35), 'falls asleep'),\n",
       " (datetime.datetime(1518, 3, 17, 0, 49), 'wakes up'),\n",
       " (datetime.datetime(1518, 3, 17, 0, 52), 'falls asleep'),\n",
       " (datetime.datetime(1518, 3, 17, 0, 59), 'wakes up'),\n",
       " (datetime.datetime(1518, 3, 18, 0, 2), 'Guard #2657 begins shift'),\n",
       " (datetime.datetime(1518, 3, 18, 0, 27), 'falls asleep'),\n",
       " (datetime.datetime(1518, 3, 18, 0, 50), 'wakes up'),\n",
       " (datetime.datetime(1518, 3, 19, 0, 0), 'Guard #1069 begins shift'),\n",
       " (datetime.datetime(1518, 3, 19, 0, 13), 'falls asleep'),\n",
       " (datetime.datetime(1518, 3, 19, 0, 42), 'wakes up'),\n",
       " (datetime.datetime(1518, 3, 19, 0, 52), 'falls asleep'),\n",
       " (datetime.datetime(1518, 3, 19, 0, 59), 'wakes up'),\n",
       " (datetime.datetime(1518, 3, 20, 0, 0), 'Guard #2081 begins shift'),\n",
       " (datetime.datetime(1518, 3, 20, 0, 22), 'falls asleep'),\n",
       " (datetime.datetime(1518, 3, 20, 0, 28), 'wakes up'),\n",
       " (datetime.datetime(1518, 3, 20, 23, 56), 'Guard #1913 begins shift'),\n",
       " (datetime.datetime(1518, 3, 21, 0, 38), 'falls asleep'),\n",
       " (datetime.datetime(1518, 3, 21, 0, 42), 'wakes up'),\n",
       " (datetime.datetime(1518, 3, 21, 23, 47), 'Guard #1699 begins shift'),\n",
       " (datetime.datetime(1518, 3, 22, 0, 2), 'falls asleep'),\n",
       " (datetime.datetime(1518, 3, 22, 0, 25), 'wakes up'),\n",
       " (datetime.datetime(1518, 3, 22, 0, 30), 'falls asleep'),\n",
       " (datetime.datetime(1518, 3, 22, 0, 50), 'wakes up'),\n",
       " (datetime.datetime(1518, 3, 22, 0, 53), 'falls asleep'),\n",
       " (datetime.datetime(1518, 3, 22, 0, 55), 'wakes up'),\n",
       " (datetime.datetime(1518, 3, 22, 23, 52), 'Guard #617 begins shift'),\n",
       " (datetime.datetime(1518, 3, 23, 0, 5), 'falls asleep'),\n",
       " (datetime.datetime(1518, 3, 23, 0, 16), 'wakes up'),\n",
       " (datetime.datetime(1518, 3, 23, 0, 36), 'falls asleep'),\n",
       " (datetime.datetime(1518, 3, 23, 0, 53), 'wakes up'),\n",
       " (datetime.datetime(1518, 3, 23, 0, 57), 'falls asleep'),\n",
       " (datetime.datetime(1518, 3, 23, 0, 59), 'wakes up'),\n",
       " (datetime.datetime(1518, 3, 23, 23, 48), 'Guard #3137 begins shift'),\n",
       " (datetime.datetime(1518, 3, 24, 0, 0), 'falls asleep'),\n",
       " (datetime.datetime(1518, 3, 24, 0, 17), 'wakes up'),\n",
       " (datetime.datetime(1518, 3, 24, 0, 26), 'falls asleep'),\n",
       " (datetime.datetime(1518, 3, 24, 0, 34), 'wakes up'),\n",
       " (datetime.datetime(1518, 3, 24, 0, 46), 'falls asleep'),\n",
       " (datetime.datetime(1518, 3, 24, 0, 57), 'wakes up'),\n",
       " (datetime.datetime(1518, 3, 25, 0, 2), 'Guard #3137 begins shift'),\n",
       " (datetime.datetime(1518, 3, 25, 0, 17), 'falls asleep'),\n",
       " (datetime.datetime(1518, 3, 25, 0, 53), 'wakes up'),\n",
       " (datetime.datetime(1518, 3, 26, 0, 3), 'Guard #3187 begins shift'),\n",
       " (datetime.datetime(1518, 3, 26, 0, 20), 'falls asleep'),\n",
       " (datetime.datetime(1518, 3, 26, 0, 29), 'wakes up'),\n",
       " (datetime.datetime(1518, 3, 27, 0, 0), 'Guard #1913 begins shift'),\n",
       " (datetime.datetime(1518, 3, 27, 0, 21), 'falls asleep'),\n",
       " (datetime.datetime(1518, 3, 27, 0, 49), 'wakes up'),\n",
       " (datetime.datetime(1518, 3, 28, 0, 0), 'Guard #1201 begins shift'),\n",
       " (datetime.datetime(1518, 3, 28, 0, 40), 'falls asleep'),\n",
       " (datetime.datetime(1518, 3, 28, 0, 46), 'wakes up'),\n",
       " (datetime.datetime(1518, 3, 28, 0, 52), 'falls asleep'),\n",
       " (datetime.datetime(1518, 3, 28, 0, 57), 'wakes up'),\n",
       " (datetime.datetime(1518, 3, 29, 0, 0), 'Guard #617 begins shift'),\n",
       " (datetime.datetime(1518, 3, 29, 0, 20), 'falls asleep'),\n",
       " (datetime.datetime(1518, 3, 29, 0, 29), 'wakes up'),\n",
       " (datetime.datetime(1518, 3, 30, 0, 0), 'Guard #263 begins shift'),\n",
       " (datetime.datetime(1518, 3, 30, 0, 27), 'falls asleep'),\n",
       " (datetime.datetime(1518, 3, 30, 0, 37), 'wakes up'),\n",
       " (datetime.datetime(1518, 3, 31, 0, 2), 'Guard #1699 begins shift'),\n",
       " (datetime.datetime(1518, 3, 31, 0, 24), 'falls asleep'),\n",
       " (datetime.datetime(1518, 3, 31, 0, 49), 'wakes up'),\n",
       " (datetime.datetime(1518, 3, 31, 23, 59), 'Guard #1933 begins shift'),\n",
       " (datetime.datetime(1518, 4, 1, 0, 13), 'falls asleep'),\n",
       " (datetime.datetime(1518, 4, 1, 0, 24), 'wakes up'),\n",
       " (datetime.datetime(1518, 4, 1, 0, 46), 'falls asleep'),\n",
       " (datetime.datetime(1518, 4, 1, 0, 55), 'wakes up'),\n",
       " (datetime.datetime(1518, 4, 1, 23, 57), 'Guard #2711 begins shift'),\n",
       " (datetime.datetime(1518, 4, 2, 0, 11), 'falls asleep'),\n",
       " (datetime.datetime(1518, 4, 2, 0, 41), 'wakes up'),\n",
       " (datetime.datetime(1518, 4, 2, 0, 54), 'falls asleep'),\n",
       " (datetime.datetime(1518, 4, 2, 0, 55), 'wakes up'),\n",
       " (datetime.datetime(1518, 4, 2, 23, 46), 'Guard #2081 begins shift'),\n",
       " (datetime.datetime(1518, 4, 3, 0, 1), 'falls asleep'),\n",
       " (datetime.datetime(1518, 4, 3, 0, 18), 'wakes up'),\n",
       " (datetime.datetime(1518, 4, 3, 0, 26), 'falls asleep'),\n",
       " (datetime.datetime(1518, 4, 3, 0, 56), 'wakes up'),\n",
       " (datetime.datetime(1518, 4, 3, 23, 56), 'Guard #2689 begins shift'),\n",
       " (datetime.datetime(1518, 4, 4, 0, 17), 'falls asleep'),\n",
       " (datetime.datetime(1518, 4, 4, 0, 43), 'wakes up'),\n",
       " (datetime.datetime(1518, 4, 4, 23, 58), 'Guard #557 begins shift'),\n",
       " (datetime.datetime(1518, 4, 5, 0, 18), 'falls asleep'),\n",
       " (datetime.datetime(1518, 4, 5, 0, 38), 'wakes up'),\n",
       " (datetime.datetime(1518, 4, 5, 23, 54), 'Guard #2657 begins shift'),\n",
       " (datetime.datetime(1518, 4, 6, 0, 1), 'falls asleep'),\n",
       " (datetime.datetime(1518, 4, 6, 0, 31), 'wakes up'),\n",
       " (datetime.datetime(1518, 4, 6, 0, 41), 'falls asleep'),\n",
       " (datetime.datetime(1518, 4, 6, 0, 43), 'wakes up'),\n",
       " (datetime.datetime(1518, 4, 6, 0, 47), 'falls asleep'),\n",
       " (datetime.datetime(1518, 4, 6, 0, 54), 'wakes up'),\n",
       " (datetime.datetime(1518, 4, 7, 0, 3), 'Guard #2657 begins shift'),\n",
       " (datetime.datetime(1518, 4, 7, 0, 19), 'falls asleep'),\n",
       " (datetime.datetime(1518, 4, 7, 0, 50), 'wakes up'),\n",
       " (datetime.datetime(1518, 4, 8, 0, 1), 'Guard #2711 begins shift'),\n",
       " (datetime.datetime(1518, 4, 8, 0, 36), 'falls asleep'),\n",
       " (datetime.datetime(1518, 4, 8, 0, 38), 'wakes up'),\n",
       " (datetime.datetime(1518, 4, 9, 0, 4), 'Guard #1201 begins shift'),\n",
       " (datetime.datetime(1518, 4, 9, 0, 41), 'falls asleep'),\n",
       " (datetime.datetime(1518, 4, 9, 0, 56), 'wakes up'),\n",
       " (datetime.datetime(1518, 4, 9, 23, 56), 'Guard #2521 begins shift'),\n",
       " (datetime.datetime(1518, 4, 10, 0, 50), 'falls asleep'),\n",
       " (datetime.datetime(1518, 4, 10, 0, 54), 'wakes up'),\n",
       " (datetime.datetime(1518, 4, 11, 0, 3), 'Guard #2017 begins shift'),\n",
       " (datetime.datetime(1518, 4, 11, 0, 40), 'falls asleep'),\n",
       " (datetime.datetime(1518, 4, 11, 0, 59), 'wakes up'),\n",
       " (datetime.datetime(1518, 4, 12, 0, 3), 'Guard #2689 begins shift'),\n",
       " (datetime.datetime(1518, 4, 12, 0, 34), 'falls asleep'),\n",
       " (datetime.datetime(1518, 4, 12, 0, 53), 'wakes up'),\n",
       " (datetime.datetime(1518, 4, 13, 0, 0), 'Guard #3529 begins shift'),\n",
       " (datetime.datetime(1518, 4, 13, 23, 52), 'Guard #467 begins shift'),\n",
       " (datetime.datetime(1518, 4, 14, 0, 1), 'falls asleep'),\n",
       " (datetime.datetime(1518, 4, 14, 0, 7), 'wakes up'),\n",
       " (datetime.datetime(1518, 4, 14, 0, 29), 'falls asleep'),\n",
       " (datetime.datetime(1518, 4, 14, 0, 48), 'wakes up'),\n",
       " (datetime.datetime(1518, 4, 15, 0, 2), 'Guard #3301 begins shift'),\n",
       " (datetime.datetime(1518, 4, 15, 0, 24), 'falls asleep'),\n",
       " (datetime.datetime(1518, 4, 15, 0, 30), 'wakes up'),\n",
       " (datetime.datetime(1518, 4, 15, 23, 58), 'Guard #2711 begins shift'),\n",
       " (datetime.datetime(1518, 4, 16, 0, 54), 'falls asleep'),\n",
       " (datetime.datetime(1518, 4, 16, 0, 55), 'wakes up'),\n",
       " (datetime.datetime(1518, 4, 16, 23, 52), 'Guard #3187 begins shift'),\n",
       " (datetime.datetime(1518, 4, 17, 0, 1), 'falls asleep'),\n",
       " (datetime.datetime(1518, 4, 17, 0, 59), 'wakes up'),\n",
       " (datetime.datetime(1518, 4, 18, 0, 0), 'Guard #1933 begins shift'),\n",
       " (datetime.datetime(1518, 4, 18, 0, 41), 'falls asleep'),\n",
       " (datetime.datetime(1518, 4, 18, 0, 44), 'wakes up'),\n",
       " (datetime.datetime(1518, 4, 18, 0, 47), 'falls asleep'),\n",
       " (datetime.datetime(1518, 4, 18, 0, 53), 'wakes up'),\n",
       " (datetime.datetime(1518, 4, 19, 0, 3), 'Guard #1933 begins shift'),\n",
       " (datetime.datetime(1518, 4, 19, 0, 31), 'falls asleep'),\n",
       " (datetime.datetime(1518, 4, 19, 0, 51), 'wakes up'),\n",
       " (datetime.datetime(1518, 4, 19, 23, 59), 'Guard #1699 begins shift'),\n",
       " (datetime.datetime(1518, 4, 20, 0, 10), 'falls asleep'),\n",
       " (datetime.datetime(1518, 4, 20, 0, 36), 'wakes up'),\n",
       " (datetime.datetime(1518, 4, 20, 0, 52), 'falls asleep'),\n",
       " (datetime.datetime(1518, 4, 20, 0, 57), 'wakes up'),\n",
       " (datetime.datetime(1518, 4, 20, 23, 52), 'Guard #3301 begins shift'),\n",
       " (datetime.datetime(1518, 4, 21, 0, 0), 'falls asleep'),\n",
       " (datetime.datetime(1518, 4, 21, 0, 40), 'wakes up'),\n",
       " (datetime.datetime(1518, 4, 21, 0, 47), 'falls asleep'),\n",
       " (datetime.datetime(1518, 4, 21, 0, 59), 'wakes up'),\n",
       " (datetime.datetime(1518, 4, 21, 23, 59), 'Guard #2689 begins shift'),\n",
       " (datetime.datetime(1518, 4, 22, 0, 10), 'falls asleep'),\n",
       " (datetime.datetime(1518, 4, 22, 0, 30), 'wakes up'),\n",
       " (datetime.datetime(1518, 4, 22, 0, 45), 'falls asleep'),\n",
       " (datetime.datetime(1518, 4, 22, 0, 46), 'wakes up'),\n",
       " (datetime.datetime(1518, 4, 22, 23, 56), 'Guard #2521 begins shift'),\n",
       " (datetime.datetime(1518, 4, 23, 0, 46), 'falls asleep'),\n",
       " (datetime.datetime(1518, 4, 23, 0, 48), 'wakes up'),\n",
       " (datetime.datetime(1518, 4, 23, 23, 58), 'Guard #3187 begins shift'),\n",
       " (datetime.datetime(1518, 4, 24, 0, 18), 'falls asleep'),\n",
       " (datetime.datetime(1518, 4, 24, 0, 47), 'wakes up'),\n",
       " (datetime.datetime(1518, 4, 24, 23, 56), 'Guard #2081 begins shift'),\n",
       " (datetime.datetime(1518, 4, 25, 0, 24), 'falls asleep'),\n",
       " (datetime.datetime(1518, 4, 25, 0, 36), 'wakes up'),\n",
       " (datetime.datetime(1518, 4, 26, 0, 0), 'Guard #557 begins shift'),\n",
       " (datetime.datetime(1518, 4, 26, 0, 10), 'falls asleep'),\n",
       " (datetime.datetime(1518, 4, 26, 0, 24), 'wakes up'),\n",
       " (datetime.datetime(1518, 4, 26, 0, 57), 'falls asleep'),\n",
       " (datetime.datetime(1518, 4, 26, 0, 58), 'wakes up'),\n",
       " (datetime.datetime(1518, 4, 27, 0, 0), 'Guard #2017 begins shift'),\n",
       " (datetime.datetime(1518, 4, 27, 0, 7), 'falls asleep'),\n",
       " (datetime.datetime(1518, 4, 27, 0, 52), 'wakes up'),\n",
       " (datetime.datetime(1518, 4, 27, 0, 57), 'falls asleep'),\n",
       " (datetime.datetime(1518, 4, 27, 0, 59), 'wakes up'),\n",
       " (datetime.datetime(1518, 4, 28, 0, 0), 'Guard #3301 begins shift'),\n",
       " (datetime.datetime(1518, 4, 28, 0, 32), 'falls asleep'),\n",
       " (datetime.datetime(1518, 4, 28, 0, 52), 'wakes up'),\n",
       " (datetime.datetime(1518, 4, 28, 23, 56), 'Guard #263 begins shift'),\n",
       " (datetime.datetime(1518, 4, 29, 0, 27), 'falls asleep'),\n",
       " (datetime.datetime(1518, 4, 29, 0, 31), 'wakes up'),\n",
       " (datetime.datetime(1518, 4, 29, 0, 36), 'falls asleep'),\n",
       " (datetime.datetime(1518, 4, 29, 0, 45), 'wakes up'),\n",
       " (datetime.datetime(1518, 4, 30, 0, 0), 'Guard #1913 begins shift'),\n",
       " (datetime.datetime(1518, 4, 30, 0, 42), 'falls asleep'),\n",
       " (datetime.datetime(1518, 4, 30, 0, 59), 'wakes up'),\n",
       " (datetime.datetime(1518, 5, 1, 0, 3), 'Guard #263 begins shift'),\n",
       " (datetime.datetime(1518, 5, 1, 0, 33), 'falls asleep'),\n",
       " (datetime.datetime(1518, 5, 1, 0, 42), 'wakes up'),\n",
       " (datetime.datetime(1518, 5, 1, 0, 51), 'falls asleep'),\n",
       " (datetime.datetime(1518, 5, 1, 0, 55), 'wakes up'),\n",
       " (datetime.datetime(1518, 5, 1, 23, 46), 'Guard #3301 begins shift'),\n",
       " (datetime.datetime(1518, 5, 2, 0, 0), 'falls asleep'),\n",
       " (datetime.datetime(1518, 5, 2, 0, 22), 'wakes up'),\n",
       " (datetime.datetime(1518, 5, 3, 0, 0), 'Guard #1069 begins shift'),\n",
       " (datetime.datetime(1518, 5, 3, 0, 9), 'falls asleep'),\n",
       " (datetime.datetime(1518, 5, 3, 0, 59), 'wakes up'),\n",
       " (datetime.datetime(1518, 5, 3, 23, 50), 'Guard #557 begins shift'),\n",
       " (datetime.datetime(1518, 5, 4, 0, 4), 'falls asleep'),\n",
       " (datetime.datetime(1518, 5, 4, 0, 16), 'wakes up'),\n",
       " (datetime.datetime(1518, 5, 4, 0, 37), 'falls asleep'),\n",
       " (datetime.datetime(1518, 5, 4, 0, 39), 'wakes up'),\n",
       " (datetime.datetime(1518, 5, 4, 23, 57), 'Guard #1217 begins shift'),\n",
       " (datetime.datetime(1518, 5, 5, 0, 26), 'falls asleep'),\n",
       " (datetime.datetime(1518, 5, 5, 0, 34), 'wakes up'),\n",
       " (datetime.datetime(1518, 5, 6, 0, 2), 'Guard #617 begins shift'),\n",
       " (datetime.datetime(1518, 5, 6, 0, 7), 'falls asleep'),\n",
       " (datetime.datetime(1518, 5, 6, 0, 25), 'wakes up'),\n",
       " (datetime.datetime(1518, 5, 6, 0, 47), 'falls asleep'),\n",
       " (datetime.datetime(1518, 5, 6, 0, 56), 'wakes up'),\n",
       " (datetime.datetime(1518, 5, 7, 0, 3), 'Guard #467 begins shift'),\n",
       " (datetime.datetime(1518, 5, 7, 0, 18), 'falls asleep'),\n",
       " (datetime.datetime(1518, 5, 7, 0, 22), 'wakes up'),\n",
       " (datetime.datetime(1518, 5, 8, 0, 0), 'Guard #617 begins shift'),\n",
       " (datetime.datetime(1518, 5, 8, 0, 24), 'falls asleep'),\n",
       " (datetime.datetime(1518, 5, 8, 0, 49), 'wakes up'),\n",
       " (datetime.datetime(1518, 5, 9, 0, 0), 'Guard #1933 begins shift'),\n",
       " (datetime.datetime(1518, 5, 9, 0, 21), 'falls asleep'),\n",
       " (datetime.datetime(1518, 5, 9, 0, 27), 'wakes up'),\n",
       " (datetime.datetime(1518, 5, 9, 0, 32), 'falls asleep'),\n",
       " (datetime.datetime(1518, 5, 9, 0, 46), 'wakes up'),\n",
       " (datetime.datetime(1518, 5, 9, 23, 58), 'Guard #2081 begins shift'),\n",
       " (datetime.datetime(1518, 5, 10, 0, 17), 'falls asleep'),\n",
       " (datetime.datetime(1518, 5, 10, 0, 25), 'wakes up'),\n",
       " (datetime.datetime(1518, 5, 11, 0, 4), 'Guard #1913 begins shift'),\n",
       " (datetime.datetime(1518, 5, 11, 0, 20), 'falls asleep'),\n",
       " (datetime.datetime(1518, 5, 11, 0, 44), 'wakes up'),\n",
       " (datetime.datetime(1518, 5, 12, 0, 1), 'Guard #3301 begins shift'),\n",
       " (datetime.datetime(1518, 5, 12, 0, 24), 'falls asleep'),\n",
       " (datetime.datetime(1518, 5, 12, 0, 39), 'wakes up'),\n",
       " (datetime.datetime(1518, 5, 12, 0, 52), 'falls asleep'),\n",
       " (datetime.datetime(1518, 5, 12, 0, 54), 'wakes up'),\n",
       " (datetime.datetime(1518, 5, 12, 23, 46), 'Guard #2081 begins shift'),\n",
       " (datetime.datetime(1518, 5, 13, 0, 4), 'falls asleep'),\n",
       " (datetime.datetime(1518, 5, 13, 0, 39), 'wakes up'),\n",
       " (datetime.datetime(1518, 5, 14, 0, 0), 'Guard #263 begins shift'),\n",
       " (datetime.datetime(1518, 5, 14, 0, 47), 'falls asleep'),\n",
       " (datetime.datetime(1518, 5, 14, 0, 54), 'wakes up'),\n",
       " (datetime.datetime(1518, 5, 14, 23, 52), 'Guard #3187 begins shift'),\n",
       " (datetime.datetime(1518, 5, 15, 0, 2), 'falls asleep'),\n",
       " (datetime.datetime(1518, 5, 15, 0, 48), 'wakes up'),\n",
       " (datetime.datetime(1518, 5, 16, 0, 2), 'Guard #131 begins shift'),\n",
       " (datetime.datetime(1518, 5, 17, 0, 1), 'Guard #1069 begins shift'),\n",
       " (datetime.datetime(1518, 5, 17, 0, 43), 'falls asleep'),\n",
       " (datetime.datetime(1518, 5, 17, 0, 48), 'wakes up'),\n",
       " (datetime.datetime(1518, 5, 17, 23, 54), 'Guard #2689 begins shift'),\n",
       " (datetime.datetime(1518, 5, 18, 0, 5), 'falls asleep'),\n",
       " (datetime.datetime(1518, 5, 18, 0, 58), 'wakes up'),\n",
       " (datetime.datetime(1518, 5, 18, 23, 56), 'Guard #1933 begins shift'),\n",
       " (datetime.datetime(1518, 5, 19, 0, 22), 'falls asleep'),\n",
       " (datetime.datetime(1518, 5, 19, 0, 42), 'wakes up'),\n",
       " (datetime.datetime(1518, 5, 19, 0, 46), 'falls asleep'),\n",
       " (datetime.datetime(1518, 5, 19, 0, 54), 'wakes up'),\n",
       " (datetime.datetime(1518, 5, 20, 0, 0), 'Guard #617 begins shift'),\n",
       " (datetime.datetime(1518, 5, 20, 0, 6), 'falls asleep'),\n",
       " (datetime.datetime(1518, 5, 20, 0, 40), 'wakes up'),\n",
       " (datetime.datetime(1518, 5, 20, 0, 46), 'falls asleep'),\n",
       " (datetime.datetime(1518, 5, 20, 0, 51), 'wakes up'),\n",
       " (datetime.datetime(1518, 5, 21, 0, 1), 'Guard #1699 begins shift'),\n",
       " (datetime.datetime(1518, 5, 21, 0, 35), 'falls asleep'),\n",
       " (datetime.datetime(1518, 5, 21, 0, 38), 'wakes up'),\n",
       " (datetime.datetime(1518, 5, 21, 0, 52), 'falls asleep'),\n",
       " (datetime.datetime(1518, 5, 21, 0, 53), 'wakes up'),\n",
       " (datetime.datetime(1518, 5, 21, 0, 56), 'falls asleep'),\n",
       " (datetime.datetime(1518, 5, 21, 0, 58), 'wakes up'),\n",
       " (datetime.datetime(1518, 5, 22, 0, 3), 'Guard #2017 begins shift'),\n",
       " (datetime.datetime(1518, 5, 22, 0, 27), 'falls asleep'),\n",
       " (datetime.datetime(1518, 5, 22, 0, 59), 'wakes up'),\n",
       " (datetime.datetime(1518, 5, 22, 23, 59), 'Guard #1069 begins shift'),\n",
       " (datetime.datetime(1518, 5, 23, 0, 11), 'falls asleep'),\n",
       " (datetime.datetime(1518, 5, 23, 0, 50), 'wakes up'),\n",
       " (datetime.datetime(1518, 5, 24, 0, 4), 'Guard #1913 begins shift'),\n",
       " (datetime.datetime(1518, 5, 24, 0, 30), 'falls asleep'),\n",
       " (datetime.datetime(1518, 5, 24, 0, 57), 'wakes up'),\n",
       " (datetime.datetime(1518, 5, 25, 0, 3), 'Guard #1913 begins shift'),\n",
       " (datetime.datetime(1518, 5, 25, 0, 23), 'falls asleep'),\n",
       " (datetime.datetime(1518, 5, 25, 0, 52), 'wakes up'),\n",
       " (datetime.datetime(1518, 5, 25, 0, 55), 'falls asleep'),\n",
       " (datetime.datetime(1518, 5, 25, 0, 57), 'wakes up'),\n",
       " (datetime.datetime(1518, 5, 25, 23, 59), 'Guard #2657 begins shift'),\n",
       " (datetime.datetime(1518, 5, 26, 0, 13), 'falls asleep'),\n",
       " (datetime.datetime(1518, 5, 26, 0, 25), 'wakes up'),\n",
       " (datetime.datetime(1518, 5, 26, 0, 40), 'falls asleep'),\n",
       " (datetime.datetime(1518, 5, 26, 0, 58), 'wakes up'),\n",
       " (datetime.datetime(1518, 5, 26, 23, 58), 'Guard #3181 begins shift'),\n",
       " (datetime.datetime(1518, 5, 27, 0, 17), 'falls asleep'),\n",
       " (datetime.datetime(1518, 5, 27, 0, 45), 'wakes up'),\n",
       " (datetime.datetime(1518, 5, 27, 23, 56), 'Guard #2689 begins shift'),\n",
       " (datetime.datetime(1518, 5, 28, 0, 8), 'falls asleep'),\n",
       " (datetime.datetime(1518, 5, 28, 0, 35), 'wakes up'),\n",
       " (datetime.datetime(1518, 5, 28, 0, 41), 'falls asleep'),\n",
       " (datetime.datetime(1518, 5, 28, 0, 57), 'wakes up'),\n",
       " (datetime.datetime(1518, 5, 28, 23, 49), 'Guard #3187 begins shift'),\n",
       " (datetime.datetime(1518, 5, 29, 0, 3), 'falls asleep'),\n",
       " (datetime.datetime(1518, 5, 29, 0, 15), 'wakes up'),\n",
       " (datetime.datetime(1518, 5, 29, 0, 40), 'falls asleep'),\n",
       " (datetime.datetime(1518, 5, 29, 0, 56), 'wakes up'),\n",
       " (datetime.datetime(1518, 5, 29, 23, 59), 'Guard #2689 begins shift'),\n",
       " (datetime.datetime(1518, 5, 30, 0, 31), 'falls asleep'),\n",
       " (datetime.datetime(1518, 5, 30, 0, 37), 'wakes up'),\n",
       " (datetime.datetime(1518, 5, 31, 0, 0), 'Guard #3181 begins shift'),\n",
       " (datetime.datetime(1518, 5, 31, 0, 41), 'falls asleep'),\n",
       " (datetime.datetime(1518, 5, 31, 0, 57), 'wakes up'),\n",
       " (datetime.datetime(1518, 5, 31, 23, 58), 'Guard #3181 begins shift'),\n",
       " (datetime.datetime(1518, 6, 1, 0, 41), 'falls asleep'),\n",
       " (datetime.datetime(1518, 6, 1, 0, 42), 'wakes up'),\n",
       " (datetime.datetime(1518, 6, 1, 0, 54), 'falls asleep'),\n",
       " (datetime.datetime(1518, 6, 1, 0, 57), 'wakes up'),\n",
       " (datetime.datetime(1518, 6, 2, 0, 2), 'Guard #2081 begins shift'),\n",
       " (datetime.datetime(1518, 6, 2, 0, 19), 'falls asleep'),\n",
       " (datetime.datetime(1518, 6, 2, 0, 57), 'wakes up'),\n",
       " (datetime.datetime(1518, 6, 3, 0, 4), 'Guard #2657 begins shift'),\n",
       " (datetime.datetime(1518, 6, 3, 0, 8), 'falls asleep'),\n",
       " (datetime.datetime(1518, 6, 3, 0, 43), 'wakes up'),\n",
       " (datetime.datetime(1518, 6, 3, 0, 47), 'falls asleep'),\n",
       " (datetime.datetime(1518, 6, 3, 0, 52), 'wakes up'),\n",
       " (datetime.datetime(1518, 6, 4, 0, 0), 'Guard #3181 begins shift'),\n",
       " (datetime.datetime(1518, 6, 4, 0, 36), 'falls asleep'),\n",
       " (datetime.datetime(1518, 6, 4, 0, 51), 'wakes up'),\n",
       " (datetime.datetime(1518, 6, 4, 0, 56), 'falls asleep'),\n",
       " (datetime.datetime(1518, 6, 4, 0, 57), 'wakes up'),\n",
       " (datetime.datetime(1518, 6, 5, 0, 0), 'Guard #1699 begins shift'),\n",
       " (datetime.datetime(1518, 6, 5, 0, 15), 'falls asleep'),\n",
       " (datetime.datetime(1518, 6, 5, 0, 30), 'wakes up'),\n",
       " (datetime.datetime(1518, 6, 5, 23, 59), 'Guard #1217 begins shift'),\n",
       " (datetime.datetime(1518, 6, 6, 0, 11), 'falls asleep'),\n",
       " (datetime.datetime(1518, 6, 6, 0, 35), 'wakes up'),\n",
       " (datetime.datetime(1518, 6, 6, 23, 57), 'Guard #1217 begins shift'),\n",
       " (datetime.datetime(1518, 6, 7, 0, 18), 'falls asleep'),\n",
       " (datetime.datetime(1518, 6, 7, 0, 59), 'wakes up'),\n",
       " (datetime.datetime(1518, 6, 7, 23, 59), 'Guard #1933 begins shift'),\n",
       " (datetime.datetime(1518, 6, 8, 0, 18), 'falls asleep'),\n",
       " (datetime.datetime(1518, 6, 8, 0, 31), 'wakes up'),\n",
       " (datetime.datetime(1518, 6, 8, 0, 40), 'falls asleep'),\n",
       " (datetime.datetime(1518, 6, 8, 0, 54), 'wakes up'),\n",
       " (datetime.datetime(1518, 6, 8, 23, 52), 'Guard #2689 begins shift'),\n",
       " (datetime.datetime(1518, 6, 9, 0, 3), 'falls asleep'),\n",
       " (datetime.datetime(1518, 6, 9, 0, 5), 'wakes up'),\n",
       " (datetime.datetime(1518, 6, 9, 0, 11), 'falls asleep'),\n",
       " (datetime.datetime(1518, 6, 9, 0, 47), 'wakes up'),\n",
       " (datetime.datetime(1518, 6, 9, 23, 58), 'Guard #2081 begins shift'),\n",
       " (datetime.datetime(1518, 6, 10, 0, 20), 'falls asleep'),\n",
       " (datetime.datetime(1518, 6, 10, 0, 25), 'wakes up'),\n",
       " (datetime.datetime(1518, 6, 10, 23, 57), 'Guard #2657 begins shift'),\n",
       " (datetime.datetime(1518, 6, 11, 0, 16), 'falls asleep'),\n",
       " (datetime.datetime(1518, 6, 11, 0, 59), 'wakes up'),\n",
       " (datetime.datetime(1518, 6, 11, 23, 51), 'Guard #617 begins shift'),\n",
       " (datetime.datetime(1518, 6, 12, 0, 4), 'falls asleep'),\n",
       " (datetime.datetime(1518, 6, 12, 0, 57), 'wakes up'),\n",
       " (datetime.datetime(1518, 6, 13, 0, 1), 'Guard #617 begins shift'),\n",
       " (datetime.datetime(1518, 6, 13, 0, 31), 'falls asleep'),\n",
       " (datetime.datetime(1518, 6, 13, 0, 42), 'wakes up'),\n",
       " (datetime.datetime(1518, 6, 13, 0, 48), 'falls asleep'),\n",
       " (datetime.datetime(1518, 6, 13, 0, 53), 'wakes up'),\n",
       " (datetime.datetime(1518, 6, 13, 0, 57), 'falls asleep'),\n",
       " (datetime.datetime(1518, 6, 13, 0, 58), 'wakes up'),\n",
       " (datetime.datetime(1518, 6, 13, 23, 46), 'Guard #2689 begins shift'),\n",
       " (datetime.datetime(1518, 6, 14, 0, 5), 'falls asleep'),\n",
       " (datetime.datetime(1518, 6, 14, 0, 30), 'wakes up'),\n",
       " (datetime.datetime(1518, 6, 14, 0, 44), 'falls asleep'),\n",
       " (datetime.datetime(1518, 6, 14, 0, 57), 'wakes up'),\n",
       " (datetime.datetime(1518, 6, 14, 23, 59), 'Guard #1217 begins shift'),\n",
       " (datetime.datetime(1518, 6, 15, 0, 35), 'falls asleep'),\n",
       " (datetime.datetime(1518, 6, 15, 0, 44), 'wakes up'),\n",
       " (datetime.datetime(1518, 6, 16, 0, 2), 'Guard #1217 begins shift'),\n",
       " (datetime.datetime(1518, 6, 16, 0, 10), 'falls asleep'),\n",
       " (datetime.datetime(1518, 6, 16, 0, 46), 'wakes up'),\n",
       " (datetime.datetime(1518, 6, 16, 0, 53), 'falls asleep'),\n",
       " (datetime.datetime(1518, 6, 16, 0, 56), 'wakes up'),\n",
       " (datetime.datetime(1518, 6, 16, 23, 59), 'Guard #2711 begins shift'),\n",
       " (datetime.datetime(1518, 6, 17, 0, 39), 'falls asleep'),\n",
       " (datetime.datetime(1518, 6, 17, 0, 53), 'wakes up'),\n",
       " (datetime.datetime(1518, 6, 18, 0, 3), 'Guard #3181 begins shift'),\n",
       " (datetime.datetime(1518, 6, 18, 0, 36), 'falls asleep'),\n",
       " (datetime.datetime(1518, 6, 18, 0, 58), 'wakes up'),\n",
       " (datetime.datetime(1518, 6, 19, 0, 4), 'Guard #1699 begins shift'),\n",
       " (datetime.datetime(1518, 6, 19, 0, 14), 'falls asleep'),\n",
       " (datetime.datetime(1518, 6, 19, 0, 27), 'wakes up'),\n",
       " (datetime.datetime(1518, 6, 19, 0, 36), 'falls asleep'),\n",
       " (datetime.datetime(1518, 6, 19, 0, 43), 'wakes up'),\n",
       " (datetime.datetime(1518, 6, 19, 23, 57), 'Guard #2081 begins shift'),\n",
       " (datetime.datetime(1518, 6, 20, 0, 24), 'falls asleep'),\n",
       " (datetime.datetime(1518, 6, 20, 0, 29), 'wakes up'),\n",
       " (datetime.datetime(1518, 6, 20, 0, 37), 'falls asleep'),\n",
       " (datetime.datetime(1518, 6, 20, 0, 52), 'wakes up'),\n",
       " (datetime.datetime(1518, 6, 20, 0, 56), 'falls asleep'),\n",
       " (datetime.datetime(1518, 6, 20, 0, 59), 'wakes up'),\n",
       " (datetime.datetime(1518, 6, 21, 0, 1), 'Guard #379 begins shift'),\n",
       " (datetime.datetime(1518, 6, 22, 0, 2), 'Guard #2017 begins shift'),\n",
       " (datetime.datetime(1518, 6, 22, 0, 7), 'falls asleep'),\n",
       " (datetime.datetime(1518, 6, 22, 0, 47), 'wakes up'),\n",
       " (datetime.datetime(1518, 6, 23, 0, 4), 'Guard #2521 begins shift'),\n",
       " (datetime.datetime(1518, 6, 23, 0, 14), 'falls asleep'),\n",
       " (datetime.datetime(1518, 6, 23, 0, 17), 'wakes up'),\n",
       " (datetime.datetime(1518, 6, 23, 0, 20), 'falls asleep'),\n",
       " (datetime.datetime(1518, 6, 23, 0, 42), 'wakes up'),\n",
       " (datetime.datetime(1518, 6, 24, 0, 2), 'Guard #3301 begins shift'),\n",
       " (datetime.datetime(1518, 6, 24, 0, 25), 'falls asleep'),\n",
       " (datetime.datetime(1518, 6, 24, 0, 29), 'wakes up'),\n",
       " (datetime.datetime(1518, 6, 24, 23, 50), 'Guard #3301 begins shift'),\n",
       " (datetime.datetime(1518, 6, 25, 0, 3), 'falls asleep'),\n",
       " (datetime.datetime(1518, 6, 25, 0, 58), 'wakes up'),\n",
       " (datetime.datetime(1518, 6, 25, 23, 53), 'Guard #1217 begins shift'),\n",
       " (datetime.datetime(1518, 6, 26, 0, 0), 'falls asleep'),\n",
       " (datetime.datetime(1518, 6, 26, 0, 36), 'wakes up'),\n",
       " (datetime.datetime(1518, 6, 26, 0, 50), 'falls asleep'),\n",
       " (datetime.datetime(1518, 6, 26, 0, 55), 'wakes up'),\n",
       " (datetime.datetime(1518, 6, 26, 23, 56), 'Guard #467 begins shift'),\n",
       " (datetime.datetime(1518, 6, 27, 0, 12), 'falls asleep'),\n",
       " (datetime.datetime(1518, 6, 27, 0, 18), 'wakes up'),\n",
       " (datetime.datetime(1518, 6, 27, 0, 23), 'falls asleep'),\n",
       " (datetime.datetime(1518, 6, 27, 0, 38), 'wakes up'),\n",
       " (datetime.datetime(1518, 6, 28, 0, 0), 'Guard #2017 begins shift'),\n",
       " (datetime.datetime(1518, 6, 28, 0, 31), 'falls asleep'),\n",
       " (datetime.datetime(1518, 6, 28, 0, 58), 'wakes up'),\n",
       " (datetime.datetime(1518, 6, 29, 0, 1), 'Guard #2689 begins shift'),\n",
       " (datetime.datetime(1518, 6, 29, 0, 18), 'falls asleep'),\n",
       " (datetime.datetime(1518, 6, 29, 0, 42), 'wakes up'),\n",
       " (datetime.datetime(1518, 6, 29, 0, 46), 'falls asleep'),\n",
       " (datetime.datetime(1518, 6, 29, 0, 47), 'wakes up'),\n",
       " (datetime.datetime(1518, 6, 29, 0, 53), 'falls asleep'),\n",
       " (datetime.datetime(1518, 6, 29, 0, 57), 'wakes up'),\n",
       " (datetime.datetime(1518, 6, 30, 0, 4), 'Guard #1699 begins shift'),\n",
       " (datetime.datetime(1518, 6, 30, 0, 36), 'falls asleep'),\n",
       " (datetime.datetime(1518, 6, 30, 0, 55), 'wakes up'),\n",
       " (datetime.datetime(1518, 6, 30, 23, 57), 'Guard #1217 begins shift'),\n",
       " (datetime.datetime(1518, 7, 1, 0, 15), 'falls asleep'),\n",
       " (datetime.datetime(1518, 7, 1, 0, 52), 'wakes up'),\n",
       " (datetime.datetime(1518, 7, 2, 0, 1), 'Guard #467 begins shift'),\n",
       " (datetime.datetime(1518, 7, 2, 0, 21), 'falls asleep'),\n",
       " (datetime.datetime(1518, 7, 2, 0, 46), 'wakes up'),\n",
       " (datetime.datetime(1518, 7, 3, 0, 3), 'Guard #3181 begins shift'),\n",
       " (datetime.datetime(1518, 7, 3, 0, 6), 'falls asleep'),\n",
       " (datetime.datetime(1518, 7, 3, 0, 16), 'wakes up'),\n",
       " (datetime.datetime(1518, 7, 3, 0, 36), 'falls asleep'),\n",
       " (datetime.datetime(1518, 7, 3, 0, 39), 'wakes up'),\n",
       " (datetime.datetime(1518, 7, 4, 0, 2), 'Guard #467 begins shift'),\n",
       " (datetime.datetime(1518, 7, 4, 0, 11), 'falls asleep'),\n",
       " (datetime.datetime(1518, 7, 4, 0, 13), 'wakes up'),\n",
       " (datetime.datetime(1518, 7, 4, 0, 31), 'falls asleep'),\n",
       " (datetime.datetime(1518, 7, 4, 0, 54), 'wakes up'),\n",
       " (datetime.datetime(1518, 7, 4, 23, 59), 'Guard #3301 begins shift'),\n",
       " (datetime.datetime(1518, 7, 5, 0, 19), 'falls asleep'),\n",
       " (datetime.datetime(1518, 7, 5, 0, 36), 'wakes up'),\n",
       " (datetime.datetime(1518, 7, 6, 0, 3), 'Guard #3137 begins shift'),\n",
       " (datetime.datetime(1518, 7, 6, 0, 28), 'falls asleep'),\n",
       " (datetime.datetime(1518, 7, 6, 0, 31), 'wakes up'),\n",
       " (datetime.datetime(1518, 7, 6, 0, 45), 'falls asleep'),\n",
       " (datetime.datetime(1518, 7, 6, 0, 52), 'wakes up'),\n",
       " (datetime.datetime(1518, 7, 6, 23, 57), 'Guard #3187 begins shift'),\n",
       " (datetime.datetime(1518, 7, 7, 0, 14), 'falls asleep'),\n",
       " (datetime.datetime(1518, 7, 7, 0, 20), 'wakes up'),\n",
       " (datetime.datetime(1518, 7, 7, 0, 42), 'falls asleep'),\n",
       " (datetime.datetime(1518, 7, 7, 0, 52), 'wakes up'),\n",
       " (datetime.datetime(1518, 7, 8, 0, 0), 'Guard #1933 begins shift'),\n",
       " (datetime.datetime(1518, 7, 8, 0, 42), 'falls asleep'),\n",
       " (datetime.datetime(1518, 7, 8, 0, 50), 'wakes up'),\n",
       " (datetime.datetime(1518, 7, 8, 23, 56), 'Guard #1913 begins shift'),\n",
       " (datetime.datetime(1518, 7, 9, 0, 29), 'falls asleep'),\n",
       " (datetime.datetime(1518, 7, 9, 0, 48), 'wakes up'),\n",
       " (datetime.datetime(1518, 7, 9, 0, 51), 'falls asleep'),\n",
       " (datetime.datetime(1518, 7, 9, 0, 59), 'wakes up'),\n",
       " (datetime.datetime(1518, 7, 9, 23, 57), 'Guard #557 begins shift'),\n",
       " (datetime.datetime(1518, 7, 10, 0, 15), 'falls asleep'),\n",
       " (datetime.datetime(1518, 7, 10, 0, 17), 'wakes up'),\n",
       " (datetime.datetime(1518, 7, 10, 0, 35), 'falls asleep'),\n",
       " (datetime.datetime(1518, 7, 10, 0, 37), 'wakes up'),\n",
       " (datetime.datetime(1518, 7, 10, 0, 44), 'falls asleep'),\n",
       " (datetime.datetime(1518, 7, 10, 0, 49), 'wakes up'),\n",
       " (datetime.datetime(1518, 7, 11, 0, 1), 'Guard #467 begins shift'),\n",
       " (datetime.datetime(1518, 7, 11, 0, 27), 'falls asleep'),\n",
       " (datetime.datetime(1518, 7, 11, 0, 44), 'wakes up'),\n",
       " (datetime.datetime(1518, 7, 11, 23, 59), 'Guard #1217 begins shift'),\n",
       " (datetime.datetime(1518, 7, 12, 0, 17), 'falls asleep'),\n",
       " (datetime.datetime(1518, 7, 12, 0, 50), 'wakes up'),\n",
       " (datetime.datetime(1518, 7, 12, 0, 57), 'falls asleep'),\n",
       " (datetime.datetime(1518, 7, 12, 0, 59), 'wakes up'),\n",
       " (datetime.datetime(1518, 7, 13, 0, 4), 'Guard #3529 begins shift'),\n",
       " (datetime.datetime(1518, 7, 14, 0, 3), 'Guard #1933 begins shift'),\n",
       " (datetime.datetime(1518, 7, 14, 0, 21), 'falls asleep'),\n",
       " (datetime.datetime(1518, 7, 14, 0, 30), 'wakes up'),\n",
       " (datetime.datetime(1518, 7, 14, 0, 46), 'falls asleep'),\n",
       " (datetime.datetime(1518, 7, 14, 0, 56), 'wakes up'),\n",
       " (datetime.datetime(1518, 7, 14, 23, 56), 'Guard #2521 begins shift'),\n",
       " (datetime.datetime(1518, 7, 15, 0, 34), 'falls asleep'),\n",
       " (datetime.datetime(1518, 7, 15, 0, 37), 'wakes up'),\n",
       " (datetime.datetime(1518, 7, 15, 0, 45), 'falls asleep'),\n",
       " (datetime.datetime(1518, 7, 15, 0, 52), 'wakes up'),\n",
       " (datetime.datetime(1518, 7, 16, 0, 0), 'Guard #1201 begins shift'),\n",
       " (datetime.datetime(1518, 7, 16, 0, 11), 'falls asleep'),\n",
       " (datetime.datetime(1518, 7, 16, 0, 20), 'wakes up'),\n",
       " (datetime.datetime(1518, 7, 17, 0, 0), 'Guard #1217 begins shift'),\n",
       " (datetime.datetime(1518, 7, 17, 0, 39), 'falls asleep'),\n",
       " (datetime.datetime(1518, 7, 17, 0, 53), 'wakes up'),\n",
       " (datetime.datetime(1518, 7, 17, 23, 56), 'Guard #557 begins shift'),\n",
       " (datetime.datetime(1518, 7, 18, 0, 15), 'falls asleep'),\n",
       " (datetime.datetime(1518, 7, 18, 0, 31), 'wakes up'),\n",
       " (datetime.datetime(1518, 7, 18, 23, 59), 'Guard #2521 begins shift'),\n",
       " (datetime.datetime(1518, 7, 19, 0, 14), 'falls asleep'),\n",
       " (datetime.datetime(1518, 7, 19, 0, 58), 'wakes up'),\n",
       " (datetime.datetime(1518, 7, 19, 23, 57), 'Guard #1201 begins shift'),\n",
       " (datetime.datetime(1518, 7, 20, 0, 6), 'falls asleep'),\n",
       " (datetime.datetime(1518, 7, 20, 0, 15), 'wakes up'),\n",
       " (datetime.datetime(1518, 7, 20, 0, 51), 'falls asleep'),\n",
       " (datetime.datetime(1518, 7, 20, 0, 58), 'wakes up'),\n",
       " (datetime.datetime(1518, 7, 21, 0, 3), 'Guard #2689 begins shift'),\n",
       " (datetime.datetime(1518, 7, 21, 0, 29), 'falls asleep'),\n",
       " (datetime.datetime(1518, 7, 21, 0, 43), 'wakes up'),\n",
       " (datetime.datetime(1518, 7, 21, 23, 58), 'Guard #2711 begins shift'),\n",
       " (datetime.datetime(1518, 7, 22, 0, 42), 'falls asleep'),\n",
       " (datetime.datetime(1518, 7, 22, 0, 53), 'wakes up'),\n",
       " (datetime.datetime(1518, 7, 23, 0, 3), 'Guard #2081 begins shift'),\n",
       " (datetime.datetime(1518, 7, 23, 0, 7), 'falls asleep'),\n",
       " (datetime.datetime(1518, 7, 23, 0, 26), 'wakes up'),\n",
       " (datetime.datetime(1518, 7, 24, 0, 0), 'Guard #1217 begins shift'),\n",
       " (datetime.datetime(1518, 7, 24, 0, 17), 'falls asleep'),\n",
       " (datetime.datetime(1518, 7, 24, 0, 37), 'wakes up'),\n",
       " (datetime.datetime(1518, 7, 24, 23, 56), 'Guard #2657 begins shift'),\n",
       " (datetime.datetime(1518, 7, 25, 0, 22), 'falls asleep'),\n",
       " (datetime.datetime(1518, 7, 25, 0, 54), 'wakes up'),\n",
       " (datetime.datetime(1518, 7, 25, 23, 58), 'Guard #1699 begins shift'),\n",
       " (datetime.datetime(1518, 7, 26, 0, 7), 'falls asleep'),\n",
       " (datetime.datetime(1518, 7, 26, 0, 51), 'wakes up'),\n",
       " (datetime.datetime(1518, 7, 26, 0, 55), 'falls asleep'),\n",
       " (datetime.datetime(1518, 7, 26, 0, 59), 'wakes up'),\n",
       " (datetime.datetime(1518, 7, 27, 0, 4), 'Guard #2017 begins shift'),\n",
       " (datetime.datetime(1518, 7, 27, 0, 17), 'falls asleep'),\n",
       " (datetime.datetime(1518, 7, 27, 0, 48), 'wakes up'),\n",
       " (datetime.datetime(1518, 7, 27, 0, 57), 'falls asleep'),\n",
       " (datetime.datetime(1518, 7, 27, 0, 58), 'wakes up'),\n",
       " (datetime.datetime(1518, 7, 27, 23, 59), 'Guard #2521 begins shift'),\n",
       " (datetime.datetime(1518, 7, 28, 0, 16), 'falls asleep'),\n",
       " (datetime.datetime(1518, 7, 28, 0, 41), 'wakes up'),\n",
       " (datetime.datetime(1518, 7, 28, 23, 57), 'Guard #1069 begins shift'),\n",
       " (datetime.datetime(1518, 7, 29, 0, 26), 'falls asleep'),\n",
       " (datetime.datetime(1518, 7, 29, 0, 51), 'wakes up'),\n",
       " (datetime.datetime(1518, 7, 30, 0, 0), 'Guard #2711 begins shift'),\n",
       " (datetime.datetime(1518, 7, 30, 0, 35), 'falls asleep'),\n",
       " (datetime.datetime(1518, 7, 30, 0, 36), 'wakes up'),\n",
       " (datetime.datetime(1518, 7, 30, 0, 54), 'falls asleep'),\n",
       " (datetime.datetime(1518, 7, 30, 0, 58), 'wakes up'),\n",
       " (datetime.datetime(1518, 7, 30, 23, 58), 'Guard #3181 begins shift'),\n",
       " (datetime.datetime(1518, 7, 31, 0, 16), 'falls asleep'),\n",
       " (datetime.datetime(1518, 7, 31, 0, 26), 'wakes up'),\n",
       " (datetime.datetime(1518, 7, 31, 0, 29), 'falls asleep'),\n",
       " (datetime.datetime(1518, 7, 31, 0, 46), 'wakes up'),\n",
       " (datetime.datetime(1518, 8, 1, 0, 2), 'Guard #1069 begins shift'),\n",
       " (datetime.datetime(1518, 8, 1, 0, 54), 'falls asleep'),\n",
       " (datetime.datetime(1518, 8, 1, 0, 58), 'wakes up'),\n",
       " (datetime.datetime(1518, 8, 2, 0, 0), 'Guard #3301 begins shift'),\n",
       " (datetime.datetime(1518, 8, 2, 0, 36), 'falls asleep'),\n",
       " (datetime.datetime(1518, 8, 2, 0, 59), 'wakes up'),\n",
       " (datetime.datetime(1518, 8, 2, 23, 53), 'Guard #3187 begins shift'),\n",
       " (datetime.datetime(1518, 8, 3, 0, 1), 'falls asleep'),\n",
       " (datetime.datetime(1518, 8, 3, 0, 56), 'wakes up'),\n",
       " (datetime.datetime(1518, 8, 4, 0, 3), 'Guard #1933 begins shift'),\n",
       " (datetime.datetime(1518, 8, 4, 0, 34), 'falls asleep'),\n",
       " (datetime.datetime(1518, 8, 4, 0, 42), 'wakes up'),\n",
       " (datetime.datetime(1518, 8, 4, 0, 48), 'falls asleep'),\n",
       " (datetime.datetime(1518, 8, 4, 0, 52), 'wakes up'),\n",
       " (datetime.datetime(1518, 8, 4, 23, 46), 'Guard #3187 begins shift'),\n",
       " (datetime.datetime(1518, 8, 5, 0, 5), 'falls asleep'),\n",
       " (datetime.datetime(1518, 8, 5, 0, 24), 'wakes up'),\n",
       " (datetime.datetime(1518, 8, 5, 0, 31), 'falls asleep'),\n",
       " (datetime.datetime(1518, 8, 5, 0, 52), 'wakes up'),\n",
       " (datetime.datetime(1518, 8, 6, 0, 0), 'Guard #2017 begins shift'),\n",
       " (datetime.datetime(1518, 8, 6, 0, 25), 'falls asleep'),\n",
       " (datetime.datetime(1518, 8, 6, 0, 52), 'wakes up'),\n",
       " (datetime.datetime(1518, 8, 6, 23, 59), 'Guard #617 begins shift'),\n",
       " (datetime.datetime(1518, 8, 7, 0, 9), 'falls asleep'),\n",
       " (datetime.datetime(1518, 8, 7, 0, 56), 'wakes up'),\n",
       " (datetime.datetime(1518, 8, 7, 23, 56), 'Guard #3301 begins shift'),\n",
       " (datetime.datetime(1518, 8, 8, 0, 29), 'falls asleep'),\n",
       " (datetime.datetime(1518, 8, 8, 0, 30), 'wakes up'),\n",
       " (datetime.datetime(1518, 8, 8, 0, 36), 'falls asleep'),\n",
       " (datetime.datetime(1518, 8, 8, 0, 59), 'wakes up'),\n",
       " (datetime.datetime(1518, 8, 8, 23, 57), 'Guard #1933 begins shift'),\n",
       " (datetime.datetime(1518, 8, 9, 0, 25), 'falls asleep'),\n",
       " (datetime.datetime(1518, 8, 9, 0, 48), 'wakes up'),\n",
       " (datetime.datetime(1518, 8, 9, 0, 55), 'falls asleep'),\n",
       " (datetime.datetime(1518, 8, 9, 0, 56), 'wakes up'),\n",
       " (datetime.datetime(1518, 8, 10, 0, 0), 'Guard #2711 begins shift'),\n",
       " (datetime.datetime(1518, 8, 10, 0, 20), 'falls asleep'),\n",
       " (datetime.datetime(1518, 8, 10, 0, 45), 'wakes up'),\n",
       " (datetime.datetime(1518, 8, 10, 0, 48), 'falls asleep'),\n",
       " (datetime.datetime(1518, 8, 10, 0, 55), 'wakes up'),\n",
       " (datetime.datetime(1518, 8, 10, 23, 58), 'Guard #1913 begins shift'),\n",
       " (datetime.datetime(1518, 8, 11, 0, 11), 'falls asleep'),\n",
       " (datetime.datetime(1518, 8, 11, 0, 29), 'wakes up'),\n",
       " (datetime.datetime(1518, 8, 11, 0, 38), 'falls asleep'),\n",
       " (datetime.datetime(1518, 8, 11, 0, 49), 'wakes up'),\n",
       " (datetime.datetime(1518, 8, 12, 0, 0), 'Guard #2657 begins shift'),\n",
       " (datetime.datetime(1518, 8, 12, 0, 20), 'falls asleep'),\n",
       " (datetime.datetime(1518, 8, 12, 0, 46), 'wakes up'),\n",
       " (datetime.datetime(1518, 8, 12, 23, 59), 'Guard #3187 begins shift'),\n",
       " (datetime.datetime(1518, 8, 13, 0, 41), 'falls asleep'),\n",
       " (datetime.datetime(1518, 8, 13, 0, 57), 'wakes up'),\n",
       " (datetime.datetime(1518, 8, 13, 23, 54), 'Guard #3301 begins shift'),\n",
       " (datetime.datetime(1518, 8, 14, 0, 4), 'falls asleep'),\n",
       " (datetime.datetime(1518, 8, 14, 0, 34), 'wakes up'),\n",
       " (datetime.datetime(1518, 8, 14, 0, 49), 'falls asleep'),\n",
       " (datetime.datetime(1518, 8, 14, 0, 57), 'wakes up'),\n",
       " (datetime.datetime(1518, 8, 14, 23, 57), 'Guard #2081 begins shift'),\n",
       " (datetime.datetime(1518, 8, 15, 0, 23), 'falls asleep'),\n",
       " (datetime.datetime(1518, 8, 15, 0, 32), 'wakes up'),\n",
       " (datetime.datetime(1518, 8, 15, 23, 58), 'Guard #3529 begins shift'),\n",
       " (datetime.datetime(1518, 8, 17, 0, 4), 'Guard #1201 begins shift'),\n",
       " (datetime.datetime(1518, 8, 17, 0, 35), 'falls asleep'),\n",
       " (datetime.datetime(1518, 8, 17, 0, 47), 'wakes up'),\n",
       " (datetime.datetime(1518, 8, 17, 0, 53), 'falls asleep'),\n",
       " (datetime.datetime(1518, 8, 17, 0, 54), 'wakes up'),\n",
       " (datetime.datetime(1518, 8, 17, 23, 59), 'Guard #2711 begins shift'),\n",
       " (datetime.datetime(1518, 8, 18, 0, 42), 'falls asleep'),\n",
       " (datetime.datetime(1518, 8, 18, 0, 59), 'wakes up'),\n",
       " (datetime.datetime(1518, 8, 18, 23, 56), 'Guard #1217 begins shift'),\n",
       " (datetime.datetime(1518, 8, 19, 0, 13), 'falls asleep'),\n",
       " (datetime.datetime(1518, 8, 19, 0, 20), 'wakes up'),\n",
       " (datetime.datetime(1518, 8, 19, 0, 27), 'falls asleep'),\n",
       " (datetime.datetime(1518, 8, 19, 0, 59), 'wakes up'),\n",
       " (datetime.datetime(1518, 8, 19, 23, 50), 'Guard #2521 begins shift'),\n",
       " (datetime.datetime(1518, 8, 20, 0, 3), 'falls asleep'),\n",
       " (datetime.datetime(1518, 8, 20, 0, 8), 'wakes up'),\n",
       " (datetime.datetime(1518, 8, 20, 0, 14), 'falls asleep'),\n",
       " (datetime.datetime(1518, 8, 20, 0, 28), 'wakes up'),\n",
       " (datetime.datetime(1518, 8, 20, 0, 32), 'falls asleep'),\n",
       " (datetime.datetime(1518, 8, 20, 0, 57), 'wakes up'),\n",
       " (datetime.datetime(1518, 8, 20, 23, 58), 'Guard #3137 begins shift'),\n",
       " (datetime.datetime(1518, 8, 21, 0, 55), 'falls asleep'),\n",
       " (datetime.datetime(1518, 8, 21, 0, 56), 'wakes up'),\n",
       " (datetime.datetime(1518, 8, 21, 23, 57), 'Guard #617 begins shift'),\n",
       " (datetime.datetime(1518, 8, 22, 0, 53), 'falls asleep'),\n",
       " (datetime.datetime(1518, 8, 22, 0, 59), 'wakes up'),\n",
       " (datetime.datetime(1518, 8, 23, 0, 1), 'Guard #2081 begins shift'),\n",
       " (datetime.datetime(1518, 8, 23, 0, 21), 'falls asleep'),\n",
       " (datetime.datetime(1518, 8, 23, 0, 26), 'wakes up'),\n",
       " (datetime.datetime(1518, 8, 24, 0, 0), 'Guard #467 begins shift'),\n",
       " (datetime.datetime(1518, 8, 24, 0, 19), 'falls asleep'),\n",
       " (datetime.datetime(1518, 8, 24, 0, 59), 'wakes up'),\n",
       " (datetime.datetime(1518, 8, 24, 23, 50), 'Guard #1069 begins shift'),\n",
       " (datetime.datetime(1518, 8, 25, 0, 1), 'falls asleep'),\n",
       " (datetime.datetime(1518, 8, 25, 0, 19), 'wakes up'),\n",
       " (datetime.datetime(1518, 8, 25, 0, 47), 'falls asleep'),\n",
       " (datetime.datetime(1518, 8, 25, 0, 52), 'wakes up'),\n",
       " (datetime.datetime(1518, 8, 26, 0, 1), 'Guard #1217 begins shift'),\n",
       " (datetime.datetime(1518, 8, 26, 0, 29), 'falls asleep'),\n",
       " (datetime.datetime(1518, 8, 26, 0, 44), 'wakes up'),\n",
       " (datetime.datetime(1518, 8, 26, 23, 58), 'Guard #2711 begins shift'),\n",
       " (datetime.datetime(1518, 8, 27, 0, 18), 'falls asleep'),\n",
       " (datetime.datetime(1518, 8, 27, 0, 53), 'wakes up'),\n",
       " (datetime.datetime(1518, 8, 28, 0, 0), 'Guard #3137 begins shift'),\n",
       " (datetime.datetime(1518, 8, 28, 0, 6), 'falls asleep'),\n",
       " (datetime.datetime(1518, 8, 28, 0, 32), 'wakes up'),\n",
       " (datetime.datetime(1518, 8, 29, 0, 0), 'Guard #3301 begins shift'),\n",
       " (datetime.datetime(1518, 8, 29, 0, 24), 'falls asleep'),\n",
       " (datetime.datetime(1518, 8, 29, 0, 52), 'wakes up'),\n",
       " (datetime.datetime(1518, 8, 30, 0, 3), 'Guard #2081 begins shift'),\n",
       " (datetime.datetime(1518, 8, 30, 0, 23), 'falls asleep'),\n",
       " (datetime.datetime(1518, 8, 30, 0, 28), 'wakes up'),\n",
       " (datetime.datetime(1518, 8, 30, 0, 36), 'falls asleep'),\n",
       " (datetime.datetime(1518, 8, 30, 0, 48), 'wakes up'),\n",
       " (datetime.datetime(1518, 8, 30, 0, 51), 'falls asleep'),\n",
       " (datetime.datetime(1518, 8, 30, 0, 54), 'wakes up'),\n",
       " (datetime.datetime(1518, 8, 30, 23, 50), 'Guard #263 begins shift'),\n",
       " (datetime.datetime(1518, 8, 31, 0, 1), 'falls asleep'),\n",
       " (datetime.datetime(1518, 8, 31, 0, 22), 'wakes up'),\n",
       " (datetime.datetime(1518, 8, 31, 0, 43), 'falls asleep'),\n",
       " (datetime.datetime(1518, 8, 31, 0, 47), 'wakes up'),\n",
       " (datetime.datetime(1518, 9, 1, 0, 1), 'Guard #1913 begins shift'),\n",
       " (datetime.datetime(1518, 9, 1, 0, 41), 'falls asleep'),\n",
       " (datetime.datetime(1518, 9, 1, 0, 52), 'wakes up'),\n",
       " (datetime.datetime(1518, 9, 1, 0, 57), 'falls asleep'),\n",
       " (datetime.datetime(1518, 9, 1, 0, 58), 'wakes up'),\n",
       " (datetime.datetime(1518, 9, 2, 0, 3), 'Guard #2657 begins shift'),\n",
       " (datetime.datetime(1518, 9, 2, 0, 22), 'falls asleep'),\n",
       " (datetime.datetime(1518, 9, 2, 0, 27), 'wakes up'),\n",
       " (datetime.datetime(1518, 9, 2, 0, 45), 'falls asleep'),\n",
       " (datetime.datetime(1518, 9, 2, 0, 53), 'wakes up'),\n",
       " (datetime.datetime(1518, 9, 3, 0, 0), 'Guard #617 begins shift'),\n",
       " (datetime.datetime(1518, 9, 3, 0, 22), 'falls asleep'),\n",
       " (datetime.datetime(1518, 9, 3, 0, 31), 'wakes up'),\n",
       " (datetime.datetime(1518, 9, 3, 0, 46), 'falls asleep'),\n",
       " (datetime.datetime(1518, 9, 3, 0, 53), 'wakes up'),\n",
       " (datetime.datetime(1518, 9, 3, 23, 58), 'Guard #1217 begins shift'),\n",
       " (datetime.datetime(1518, 9, 4, 0, 16), 'falls asleep'),\n",
       " (datetime.datetime(1518, 9, 4, 0, 50), 'wakes up'),\n",
       " (datetime.datetime(1518, 9, 4, 0, 56), 'falls asleep'),\n",
       " (datetime.datetime(1518, 9, 4, 0, 58), 'wakes up'),\n",
       " (datetime.datetime(1518, 9, 4, 23, 59), 'Guard #2657 begins shift'),\n",
       " (datetime.datetime(1518, 9, 5, 0, 21), 'falls asleep'),\n",
       " (datetime.datetime(1518, 9, 5, 0, 29), 'wakes up'),\n",
       " (datetime.datetime(1518, 9, 6, 0, 4), 'Guard #1933 begins shift'),\n",
       " (datetime.datetime(1518, 9, 6, 0, 12), 'falls asleep'),\n",
       " (datetime.datetime(1518, 9, 6, 0, 58), 'wakes up'),\n",
       " (datetime.datetime(1518, 9, 6, 23, 59), 'Guard #1069 begins shift'),\n",
       " (datetime.datetime(1518, 9, 7, 0, 13), 'falls asleep'),\n",
       " (datetime.datetime(1518, 9, 7, 0, 43), 'wakes up'),\n",
       " (datetime.datetime(1518, 9, 8, 0, 3), 'Guard #2657 begins shift'),\n",
       " (datetime.datetime(1518, 9, 8, 0, 13), 'falls asleep'),\n",
       " (datetime.datetime(1518, 9, 8, 0, 26), 'wakes up'),\n",
       " (datetime.datetime(1518, 9, 9, 0, 4), 'Guard #2689 begins shift'),\n",
       " (datetime.datetime(1518, 9, 9, 0, 23), 'falls asleep'),\n",
       " (datetime.datetime(1518, 9, 9, 0, 52), 'wakes up'),\n",
       " (datetime.datetime(1518, 9, 9, 23, 50), 'Guard #2711 begins shift'),\n",
       " (datetime.datetime(1518, 9, 10, 0, 1), 'falls asleep'),\n",
       " (datetime.datetime(1518, 9, 10, 0, 54), 'wakes up'),\n",
       " (datetime.datetime(1518, 9, 10, 23, 58), 'Guard #2689 begins shift'),\n",
       " (datetime.datetime(1518, 9, 11, 0, 13), 'falls asleep'),\n",
       " (datetime.datetime(1518, 9, 11, 0, 44), 'wakes up'),\n",
       " (datetime.datetime(1518, 9, 11, 0, 47), 'falls asleep'),\n",
       " (datetime.datetime(1518, 9, 11, 0, 48), 'wakes up'),\n",
       " (datetime.datetime(1518, 9, 11, 23, 58), 'Guard #1699 begins shift'),\n",
       " (datetime.datetime(1518, 9, 12, 0, 42), 'falls asleep'),\n",
       " (datetime.datetime(1518, 9, 12, 0, 51), 'wakes up'),\n",
       " (datetime.datetime(1518, 9, 12, 0, 57), 'falls asleep'),\n",
       " (datetime.datetime(1518, 9, 12, 0, 58), 'wakes up'),\n",
       " (datetime.datetime(1518, 9, 13, 0, 4), 'Guard #3181 begins shift'),\n",
       " (datetime.datetime(1518, 9, 13, 0, 33), 'falls asleep'),\n",
       " (datetime.datetime(1518, 9, 13, 0, 59), 'wakes up'),\n",
       " (datetime.datetime(1518, 9, 13, 23, 58), 'Guard #1069 begins shift'),\n",
       " (datetime.datetime(1518, 9, 14, 0, 8), 'falls asleep'),\n",
       " (datetime.datetime(1518, 9, 14, 0, 45), 'wakes up'),\n",
       " (datetime.datetime(1518, 9, 14, 23, 57), 'Guard #1069 begins shift'),\n",
       " (datetime.datetime(1518, 9, 15, 0, 9), 'falls asleep'),\n",
       " (datetime.datetime(1518, 9, 15, 0, 14), 'wakes up'),\n",
       " (datetime.datetime(1518, 9, 15, 0, 38), 'falls asleep'),\n",
       " (datetime.datetime(1518, 9, 15, 0, 57), 'wakes up'),\n",
       " (datetime.datetime(1518, 9, 16, 0, 4), 'Guard #2711 begins shift'),\n",
       " (datetime.datetime(1518, 9, 16, 0, 28), 'falls asleep'),\n",
       " (datetime.datetime(1518, 9, 16, 0, 49), 'wakes up'),\n",
       " (datetime.datetime(1518, 9, 17, 0, 1), 'Guard #617 begins shift'),\n",
       " (datetime.datetime(1518, 9, 17, 0, 23), 'falls asleep'),\n",
       " (datetime.datetime(1518, 9, 17, 0, 44), 'wakes up'),\n",
       " (datetime.datetime(1518, 9, 17, 23, 58), 'Guard #557 begins shift'),\n",
       " (datetime.datetime(1518, 9, 18, 0, 6), 'falls asleep'),\n",
       " (datetime.datetime(1518, 9, 18, 0, 44), 'wakes up'),\n",
       " (datetime.datetime(1518, 9, 18, 23, 56), 'Guard #1217 begins shift'),\n",
       " (datetime.datetime(1518, 9, 19, 0, 38), 'falls asleep'),\n",
       " (datetime.datetime(1518, 9, 19, 0, 47), 'wakes up'),\n",
       " (datetime.datetime(1518, 9, 19, 0, 54), 'falls asleep'),\n",
       " (datetime.datetime(1518, 9, 19, 0, 57), 'wakes up'),\n",
       " (datetime.datetime(1518, 9, 19, 23, 48), 'Guard #2521 begins shift'),\n",
       " (datetime.datetime(1518, 9, 20, 0, 2), 'falls asleep'),\n",
       " (datetime.datetime(1518, 9, 20, 0, 54), 'wakes up'),\n",
       " (datetime.datetime(1518, 9, 21, 0, 4), 'Guard #2711 begins shift'),\n",
       " (datetime.datetime(1518, 9, 21, 0, 13), 'falls asleep'),\n",
       " (datetime.datetime(1518, 9, 21, 0, 29), 'wakes up'),\n",
       " (datetime.datetime(1518, 9, 21, 0, 43), 'falls asleep'),\n",
       " (datetime.datetime(1518, 9, 21, 0, 53), 'wakes up'),\n",
       " (datetime.datetime(1518, 9, 22, 0, 0), 'Guard #2521 begins shift'),\n",
       " (datetime.datetime(1518, 9, 22, 0, 10), 'falls asleep'),\n",
       " (datetime.datetime(1518, 9, 22, 0, 40), 'wakes up'),\n",
       " (datetime.datetime(1518, 9, 22, 0, 49), 'falls asleep'),\n",
       " (datetime.datetime(1518, 9, 22, 0, 51), 'wakes up'),\n",
       " (datetime.datetime(1518, 9, 22, 23, 52), 'Guard #2081 begins shift'),\n",
       " (datetime.datetime(1518, 9, 23, 0, 0), 'falls asleep'),\n",
       " (datetime.datetime(1518, 9, 23, 0, 6), 'wakes up'),\n",
       " (datetime.datetime(1518, 9, 23, 0, 21), 'falls asleep'),\n",
       " (datetime.datetime(1518, 9, 23, 0, 38), 'wakes up'),\n",
       " (datetime.datetime(1518, 9, 23, 23, 59), 'Guard #1933 begins shift'),\n",
       " (datetime.datetime(1518, 9, 24, 0, 40), 'falls asleep'),\n",
       " (datetime.datetime(1518, 9, 24, 0, 59), 'wakes up'),\n",
       " (datetime.datetime(1518, 9, 24, 23, 52), 'Guard #3187 begins shift'),\n",
       " (datetime.datetime(1518, 9, 25, 0, 3), 'falls asleep'),\n",
       " (datetime.datetime(1518, 9, 25, 0, 40), 'wakes up'),\n",
       " (datetime.datetime(1518, 9, 25, 0, 45), 'falls asleep'),\n",
       " (datetime.datetime(1518, 9, 25, 0, 51), 'wakes up'),\n",
       " (datetime.datetime(1518, 9, 25, 23, 56), 'Guard #1933 begins shift'),\n",
       " (datetime.datetime(1518, 9, 26, 0, 32), 'falls asleep'),\n",
       " (datetime.datetime(1518, 9, 26, 0, 57), 'wakes up'),\n",
       " (datetime.datetime(1518, 9, 27, 0, 0), 'Guard #1217 begins shift'),\n",
       " (datetime.datetime(1518, 9, 27, 0, 15), 'falls asleep'),\n",
       " (datetime.datetime(1518, 9, 27, 0, 17), 'wakes up'),\n",
       " (datetime.datetime(1518, 9, 27, 0, 43), 'falls asleep'),\n",
       " (datetime.datetime(1518, 9, 27, 0, 59), 'wakes up'),\n",
       " (datetime.datetime(1518, 9, 28, 0, 3), 'Guard #3137 begins shift'),\n",
       " (datetime.datetime(1518, 9, 28, 0, 23), 'falls asleep'),\n",
       " (datetime.datetime(1518, 9, 28, 0, 45), 'wakes up'),\n",
       " (datetime.datetime(1518, 9, 28, 23, 56), 'Guard #2711 begins shift'),\n",
       " (datetime.datetime(1518, 9, 29, 0, 16), 'falls asleep'),\n",
       " (datetime.datetime(1518, 9, 29, 0, 54), 'wakes up'),\n",
       " (datetime.datetime(1518, 9, 29, 23, 56), 'Guard #263 begins shift'),\n",
       " (datetime.datetime(1518, 9, 30, 0, 29), 'falls asleep'),\n",
       " (datetime.datetime(1518, 9, 30, 0, 38), 'wakes up'),\n",
       " (datetime.datetime(1518, 9, 30, 0, 41), 'falls asleep'),\n",
       " (datetime.datetime(1518, 9, 30, 0, 52), 'wakes up'),\n",
       " (datetime.datetime(1518, 9, 30, 23, 50), 'Guard #3137 begins shift'),\n",
       " (datetime.datetime(1518, 10, 1, 0, 3), 'falls asleep'),\n",
       " (datetime.datetime(1518, 10, 1, 0, 35), 'wakes up'),\n",
       " (datetime.datetime(1518, 10, 1, 0, 52), 'falls asleep'),\n",
       " (datetime.datetime(1518, 10, 1, 0, 55), 'wakes up'),\n",
       " (datetime.datetime(1518, 10, 1, 23, 59), 'Guard #3187 begins shift'),\n",
       " (datetime.datetime(1518, 10, 2, 0, 7), 'falls asleep'),\n",
       " (datetime.datetime(1518, 10, 2, 0, 18), 'wakes up'),\n",
       " (datetime.datetime(1518, 10, 2, 0, 28), 'falls asleep'),\n",
       " (datetime.datetime(1518, 10, 2, 0, 46), 'wakes up'),\n",
       " (datetime.datetime(1518, 10, 3, 0, 3), 'Guard #2521 begins shift'),\n",
       " (datetime.datetime(1518, 10, 3, 0, 9), 'falls asleep'),\n",
       " (datetime.datetime(1518, 10, 3, 0, 14), 'wakes up'),\n",
       " (datetime.datetime(1518, 10, 3, 0, 30), 'falls asleep'),\n",
       " (datetime.datetime(1518, 10, 3, 0, 40), 'wakes up'),\n",
       " (datetime.datetime(1518, 10, 3, 23, 57), 'Guard #3181 begins shift'),\n",
       " (datetime.datetime(1518, 10, 4, 0, 13), 'falls asleep'),\n",
       " (datetime.datetime(1518, 10, 4, 0, 20), 'wakes up'),\n",
       " (datetime.datetime(1518, 10, 4, 0, 44), 'falls asleep'),\n",
       " (datetime.datetime(1518, 10, 4, 0, 59), 'wakes up'),\n",
       " (datetime.datetime(1518, 10, 4, 23, 56), 'Guard #1201 begins shift'),\n",
       " (datetime.datetime(1518, 10, 5, 0, 8), 'falls asleep'),\n",
       " (datetime.datetime(1518, 10, 5, 0, 41), 'wakes up'),\n",
       " (datetime.datetime(1518, 10, 5, 0, 51), 'falls asleep'),\n",
       " (datetime.datetime(1518, 10, 5, 0, 57), 'wakes up'),\n",
       " (datetime.datetime(1518, 10, 5, 23, 57), 'Guard #1217 begins shift'),\n",
       " (datetime.datetime(1518, 10, 6, 0, 34), 'falls asleep'),\n",
       " (datetime.datetime(1518, 10, 6, 0, 54), 'wakes up'),\n",
       " (datetime.datetime(1518, 10, 6, 23, 58), 'Guard #3187 begins shift'),\n",
       " (datetime.datetime(1518, 10, 7, 0, 34), 'falls asleep'),\n",
       " (datetime.datetime(1518, 10, 7, 0, 40), 'wakes up'),\n",
       " (datetime.datetime(1518, 10, 7, 0, 45), 'falls asleep'),\n",
       " ...]"
      ]
     },
     "execution_count": 24,
     "metadata": {},
     "output_type": "execute_result"
    }
   ],
   "source": [
    "log_std"
   ]
  },
  {
   "cell_type": "code",
   "execution_count": 66,
   "metadata": {},
   "outputs": [
    {
     "data": {
      "text/plain": [
       "r\"\\#(\\d+)\""
      ]
     },
     "execution_count": 66,
     "metadata": {},
     "output_type": "execute_result"
    }
   ],
   "source": [
    "gd_patt = r\"\\#(\\d+)\""
   ]
  },
  {
   "cell_type": "code",
   "execution_count": 69,
   "metadata": {},
   "outputs": [
    {
     "data": {
      "text/plain": [
       "\"[1518-05-12 00:39] wakes up\""
      ]
     },
     "execution_count": 69,
     "metadata": {},
     "output_type": "execute_result"
    }
   ],
   "source": [
    "s[1]"
   ]
  },
  {
   "cell_type": "code",
   "execution_count": 70,
   "metadata": {},
   "outputs": [
    {
     "data": {
      "text/plain": [
       "1518-05-12T00:39:00"
      ]
     },
     "execution_count": 70,
     "metadata": {},
     "output_type": "execute_result"
    }
   ],
   "source": [
    "d = DateTime(\"1518-05-12 00:39\",df)"
   ]
  },
  {
   "cell_type": "code",
   "execution_count": 76,
   "metadata": {},
   "outputs": [
    {
     "data": {
      "text/plain": [
       "1518-05-12T01:39:00"
      ]
     },
     "execution_count": 76,
     "metadata": {},
     "output_type": "execute_result"
    }
   ],
   "source": [
    "d + Dates.Hour(1)"
   ]
  },
  {
   "cell_type": "code",
   "execution_count": 81,
   "metadata": {},
   "outputs": [],
   "source": [
    "match(r\"po([qwp]o)\",\"sdfgspoodfg\")"
   ]
  },
  {
   "cell_type": "code",
   "execution_count": 112,
   "metadata": {
    "scrolled": true
   },
   "outputs": [
    {
     "data": {
      "text/plain": [
       "false"
      ]
     },
     "execution_count": 112,
     "metadata": {},
     "output_type": "execute_result"
    }
   ],
   "source": [
    "m = match(r\"ppp\",\"qqq\")\n",
    "m == :Nothing"
   ]
  },
  {
   "cell_type": "code",
   "execution_count": 116,
   "metadata": {},
   "outputs": [
    {
     "data": {
      "text/plain": [
       "10-element Array{Pair{DateTime,String},1}:\n",
       " 1518-01-29T23:58:00 => \"Guard #617 begins shift\" \n",
       " 1518-01-30T00:22:00 => \"falls asleep\"            \n",
       " 1518-01-30T00:42:00 => \"wakes up\"                \n",
       " 1518-01-30T00:53:00 => \"falls asleep\"            \n",
       " 1518-01-30T00:58:00 => \"wakes up\"                \n",
       " 1518-01-31T00:02:00 => \"Guard #1201 begins shift\"\n",
       " 1518-01-31T00:37:00 => \"falls asleep\"            \n",
       " 1518-01-31T00:40:00 => \"wakes up\"                \n",
       " 1518-01-31T00:43:00 => \"falls asleep\"            \n",
       " 1518-01-31T00:56:00 => \"wakes up\"                "
      ]
     },
     "execution_count": 116,
     "metadata": {},
     "output_type": "execute_result"
    }
   ],
   "source": [
    "log_std[1:10]"
   ]
  },
  {
   "cell_type": "code",
   "execution_count": 119,
   "metadata": {},
   "outputs": [
    {
     "name": "stdout",
     "output_type": "stream",
     "text": [
      "1518-01-30T00:22:00falls asleep22 22\n",
      "1518-01-30T00:53:00falls asleep53 53\n",
      "1518-01-31T00:37:00falls asleep37 37\n",
      "1518-01-31T00:43:00falls asleep43 43\n"
     ]
    }
   ],
   "source": [
    "out = false\n",
    "sleeplog = Dict()\n",
    "for (x,y) in log_std[1:10]\n",
    "    date = Dates.yearmonthday(x)\n",
    "    if occursin(gd_patt,y)\n",
    "        m = match(gd_patt,y)\n",
    "        if out\n",
    "            append!(sleeplog[date][\"out\"],sleeptime:59)\n",
    "            out = False\n",
    "        end\n",
    "        guard = parse(Int,m[1])\n",
    "        if Dates.hour(x) == 23\n",
    "            date = Dates.yearmonthday(x+Dates.Day(1))\n",
    "        end\n",
    "        sleeplog[date] = Dict(\"guard\" => guard,\"out\" => [])\n",
    "    elseif occursin(\"falls\",y)\n",
    "        out = true\n",
    "        global sleeptime = Dates.minute(x)\n",
    "        println(x,y,Dates.minute(x),\" \",sleeptime)\n",
    "    elseif occursin(\"wakes\",y)\n",
    "        append!(sleeplog[date][\"out\"],sleeptime:Dates.minute(x)-1)\n",
    "        out = false\n",
    "    end\n",
    "end\n",
    "\n",
    "if out\n",
    "    append!(sleeplog[date][\"out\"],sleeptime:59)\n",
    "end\n",
    "    "
   ]
  },
  {
   "cell_type": "code",
   "execution_count": 120,
   "metadata": {},
   "outputs": [
    {
     "data": {
      "text/plain": [
       "Dict{Any,Any} with 2 entries:\n",
       "  (1518, 1, 31) => Dict{String,Any}(\"guard\"=>1201,\"out\"=>Any[37, 38, 39, 43, 44…\n",
       "  (1518, 1, 30) => Dict{String,Any}(\"guard\"=>617,\"out\"=>Any[22, 23, 24, 25, 26,…"
      ]
     },
     "execution_count": 120,
     "metadata": {},
     "output_type": "execute_result"
    }
   ],
   "source": [
    "sleeplog"
   ]
  },
  {
   "cell_type": "code",
   "execution_count": 92,
   "metadata": {},
   "outputs": [
    {
     "ename": "UndefVarError",
     "evalue": "UndefVarError: vcat! not defined",
     "output_type": "error",
     "traceback": [
      "UndefVarError: vcat! not defined",
      "",
      "Stacktrace:",
      " [1] top-level scope at In[92]:2"
     ]
    }
   ],
   "source": [
    "v = [1,2,4]\n",
    "vcat!(v,[dddd3,6])"
   ]
  },
  {
   "cell_type": "code",
   "execution_count": 87,
   "metadata": {
    "scrolled": true
   },
   "outputs": [
    {
     "data": {
      "text/plain": [
       "11-element Array{Int64,1}:\n",
       "  1\n",
       "  2\n",
       "  3\n",
       "  4\n",
       "  5\n",
       "  9\n",
       " 10\n",
       " 11\n",
       " 12\n",
       " 13\n",
       " 14"
      ]
     },
     "execution_count": 87,
     "metadata": {},
     "output_type": "execute_result"
    }
   ],
   "source": [
    "vcat(1:5,9:14)"
   ]
  },
  {
   "cell_type": "code",
   "execution_count": 57,
   "metadata": {},
   "outputs": [
    {
     "data": {
      "text/plain": [
       "[(datetime.datetime(1518, 1, 29, 23, 58), 'Guard #617 begins shift'),\n",
       " (datetime.datetime(1518, 1, 30, 0, 22), 'falls asleep'),\n",
       " (datetime.datetime(1518, 1, 30, 0, 42), 'wakes up'),\n",
       " (datetime.datetime(1518, 1, 30, 0, 53), 'falls asleep'),\n",
       " (datetime.datetime(1518, 1, 30, 0, 58), 'wakes up')]"
      ]
     },
     "execution_count": 57,
     "metadata": {},
     "output_type": "execute_result"
    }
   ],
   "source": [
    "log_std[:5]"
   ]
  },
  {
   "cell_type": "code",
   "execution_count": 61,
   "metadata": {},
   "outputs": [],
   "source": [
    "guardlog = {}\n",
    "for x,y in sleeplog.items():\n",
    "    if y[\"guard\"] not in guardlog:\n",
    "        guardlog[y[\"guard\"]] = [0]*60\n",
    "    for i in y[\"out\"]:\n",
    "        guardlog[y[\"guard\"]][i] += 1"
   ]
  },
  {
   "cell_type": "code",
   "execution_count": 64,
   "metadata": {},
   "outputs": [
    {
     "data": {
      "text/plain": [
       "[(486, 617), (512, 1217), (517, 3187)]"
      ]
     },
     "execution_count": 64,
     "metadata": {},
     "output_type": "execute_result"
    }
   ],
   "source": [
    "sorted([(sum(v),k) for k,v in guardlog.items()])[-3:]"
   ]
  },
  {
   "cell_type": "code",
   "execution_count": 67,
   "metadata": {},
   "outputs": [
    {
     "name": "stdout",
     "output_type": "stream",
     "text": [
      "15 45\n"
     ]
    }
   ],
   "source": [
    "M = max(guardlog[3187])\n",
    "print(M,guardlog[3187].index(max(guardlog[3187])))"
   ]
  },
  {
   "cell_type": "code",
   "execution_count": 68,
   "metadata": {
    "scrolled": true
   },
   "outputs": [
    {
     "data": {
      "text/plain": [
       "143415"
      ]
     },
     "execution_count": 68,
     "metadata": {},
     "output_type": "execute_result"
    }
   ],
   "source": [
    "45*3187"
   ]
  },
  {
   "cell_type": "code",
   "execution_count": 69,
   "metadata": {
    "scrolled": false
   },
   "outputs": [
    {
     "data": {
      "text/plain": [
       "[(14, 1217), (15, 3187), (18, 2081)]"
      ]
     },
     "execution_count": 69,
     "metadata": {},
     "output_type": "execute_result"
    }
   ],
   "source": [
    "sorted([(max(v),k) for k,v in guardlog.items()])[-3:]"
   ]
  },
  {
   "cell_type": "code",
   "execution_count": 70,
   "metadata": {},
   "outputs": [
    {
     "name": "stdout",
     "output_type": "stream",
     "text": [
      "18 24\n"
     ]
    }
   ],
   "source": [
    "M = max(guardlog[2081])\n",
    "print(M,guardlog[2081].index(max(guardlog[2081])))"
   ]
  },
  {
   "cell_type": "code",
   "execution_count": 71,
   "metadata": {},
   "outputs": [
    {
     "data": {
      "text/plain": [
       "49944"
      ]
     },
     "execution_count": 71,
     "metadata": {},
     "output_type": "execute_result"
    }
   ],
   "source": [
    "24*2081"
   ]
  },
  {
   "cell_type": "code",
   "execution_count": null,
   "metadata": {},
   "outputs": [],
   "source": []
  }
 ],
 "metadata": {
  "kernelspec": {
   "display_name": "Julia 1.0.1",
   "language": "julia",
   "name": "julia-1.0"
  },
  "language_info": {
   "file_extension": ".jl",
   "mimetype": "application/julia",
   "name": "julia",
   "version": "1.0.1"
  }
 },
 "nbformat": 4,
 "nbformat_minor": 2
}
