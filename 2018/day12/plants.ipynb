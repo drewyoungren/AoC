{
 "cells": [
  {
   "cell_type": "code",
   "execution_count": 18,
   "metadata": {},
   "outputs": [
    {
     "data": {
      "text/plain": [
       "\"#.#####.#.#.####.####.#.#...#.......##..##.#.#.#.###..#.....#.####..#.#######.#....####.#....##....#\""
      ]
     },
     "execution_count": 18,
     "metadata": {},
     "output_type": "execute_result"
    }
   ],
   "source": [
    "s = open(\"input.txt\") do f\n",
    "    [chomp(x) for x in readlines(f)]\n",
    "end\n",
    "\n",
    "s[1:5]\n",
    "plantstr = split(s[1])[end]"
   ]
  },
  {
   "cell_type": "code",
   "execution_count": 21,
   "metadata": {},
   "outputs": [
    {
     "data": {
      "text/plain": [
       "52-element Array{Int64,1}:\n",
       "   1\n",
       "   3\n",
       "   4\n",
       "   5\n",
       "   6\n",
       "   7\n",
       "   9\n",
       "  11\n",
       "  13\n",
       "  14\n",
       "  15\n",
       "  16\n",
       "  18\n",
       "   ⋮\n",
       "  75\n",
       "  76\n",
       "  77\n",
       "  79\n",
       "  84\n",
       "  85\n",
       "  86\n",
       "  87\n",
       "  89\n",
       "  94\n",
       "  95\n",
       " 100"
      ]
     },
     "execution_count": 21,
     "metadata": {},
     "output_type": "execute_result"
    }
   ],
   "source": [
    "plants = findall(x -> x == '#',collect(plantstr))"
   ]
  },
  {
   "cell_type": "code",
   "execution_count": 7,
   "metadata": {},
   "outputs": [
    {
     "data": {
      "text/plain": [
       "Pair{SubString{String},Bool}"
      ]
     },
     "execution_count": 7,
     "metadata": {},
     "output_type": "execute_result"
    }
   ],
   "source": [
    "rules = Dict(y[1] => y[2] == \"#\" for y in [split(x, \" => \") for x in s[3:end]])\n",
    "eltype(rules)"
   ]
  },
  {
   "cell_type": "code",
   "execution_count": null,
   "metadata": {},
   "outputs": [],
   "source": [
    "function nabe(i,plants=plants)\n",
    "    sout = join([j in plants ? '#' : '.' for j in i-2:i+2])\n",
    "    return rules(sout)\n",
    "end\n",
    "\n",
    "function evolve(plants)\n",
    "    return "
   ]
  }
 ],
 "metadata": {
  "kernelspec": {
   "display_name": "Julia 1.0.1",
   "language": "julia",
   "name": "julia-1.0"
  },
  "language_info": {
   "file_extension": ".jl",
   "mimetype": "application/julia",
   "name": "julia",
   "version": "1.0.1"
  }
 },
 "nbformat": 4,
 "nbformat_minor": 2
}
