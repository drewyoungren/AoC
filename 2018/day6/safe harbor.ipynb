{
 "cells": [
  {
   "cell_type": "code",
   "execution_count": 25,
   "metadata": {},
   "outputs": [
    {
     "data": {
      "text/plain": [
       "50-element Array{Array{SubString{String},1},1}:\n",
       " [\"268\", \" 273\"]\n",
       " [\"211\", \" 325\"]\n",
       " [\"320\", \" 225\"]\n",
       " [\"320\", \" 207\"]\n",
       " [\"109\", \" 222\"]\n",
       " [\"267\", \" 283\"]\n",
       " [\"119\", \" 70\"] \n",
       " [\"138\", \" 277\"]\n",
       " [\"202\", \" 177\"]\n",
       " [\"251\", \" 233\"]\n",
       " [\"305\", \" 107\"]\n",
       " [\"230\", \" 279\"]\n",
       " [\"243\", \" 137\"]\n",
       " ⋮              \n",
       " [\"267\", \" 142\"]\n",
       " [\"244\", \" 153\"]\n",
       " [\"131\", \" 147\"]\n",
       " [\"245\", \" 323\"]\n",
       " [\"42\", \" 241\"] \n",
       " [\"90\", \" 207\"] \n",
       " [\"245\", \" 167\"]\n",
       " [\"335\", \" 106\"]\n",
       " [\"299\", \" 158\"]\n",
       " [\"181\", \" 186\"]\n",
       " [\"349\", \" 286\"]\n",
       " [\"327\", \" 108\"]"
      ]
     },
     "execution_count": 25,
     "metadata": {},
     "output_type": "execute_result"
    }
   ],
   "source": [
    "s = open(\"input.txt\") do f\n",
    "    [split(chomp(x),\",\") for x in readlines(f)]\n",
    "end"
   ]
  },
  {
   "cell_type": "code",
   "execution_count": 28,
   "metadata": {},
   "outputs": [
    {
     "data": {
      "text/plain": [
       "50-element Array{Array{Int64,2},1}:\n",
       " [268 273]\n",
       " [211 325]\n",
       " [320 225]\n",
       " [320 207]\n",
       " [109 222]\n",
       " [267 283]\n",
       " [119 70] \n",
       " [138 277]\n",
       " [202 177]\n",
       " [251 233]\n",
       " [305 107]\n",
       " [230 279]\n",
       " [243 137]\n",
       " ⋮        \n",
       " [267 142]\n",
       " [244 153]\n",
       " [131 147]\n",
       " [245 323]\n",
       " [42 241] \n",
       " [90 207] \n",
       " [245 167]\n",
       " [335 106]\n",
       " [299 158]\n",
       " [181 186]\n",
       " [349 286]\n",
       " [327 108]"
      ]
     },
     "execution_count": 28,
     "metadata": {},
     "output_type": "execute_result"
    }
   ],
   "source": [
    "s = [[parse(Int,y[1]) parse(Int,y[2])] for y in s]"
   ]
  },
  {
   "cell_type": "code",
   "execution_count": 29,
   "metadata": {},
   "outputs": [
    {
     "data": {
      "text/plain": [
       "50×2 Array{Int64,2}:\n",
       " 268  273\n",
       " 211  325\n",
       " 320  225\n",
       " 320  207\n",
       " 109  222\n",
       " 267  283\n",
       " 119   70\n",
       " 138  277\n",
       " 202  177\n",
       " 251  233\n",
       " 305  107\n",
       " 230  279\n",
       " 243  137\n",
       "   ⋮     \n",
       " 267  142\n",
       " 244  153\n",
       " 131  147\n",
       " 245  323\n",
       "  42  241\n",
       "  90  207\n",
       " 245  167\n",
       " 335  106\n",
       " 299  158\n",
       " 181  186\n",
       " 349  286\n",
       " 327  108"
      ]
     },
     "execution_count": 29,
     "metadata": {},
     "output_type": "execute_result"
    }
   ],
   "source": [
    "s = vcat(s...)"
   ]
  },
  {
   "cell_type": "code",
   "execution_count": 40,
   "metadata": {},
   "outputs": [
    {
     "data": {
      "text/plain": [
       "norm1 (generic function with 1 method)"
      ]
     },
     "execution_count": 40,
     "metadata": {},
     "output_type": "execute_result"
    }
   ],
   "source": [
    "norm1(x::Array) = sum([abs(y) for y in x])"
   ]
  },
  {
   "cell_type": "code",
   "execution_count": 42,
   "metadata": {},
   "outputs": [
    {
     "data": {
      "text/plain": [
       "118"
      ]
     },
     "execution_count": 42,
     "metadata": {},
     "output_type": "execute_result"
    }
   ],
   "source": [
    "norm1(s[1,:] - s[4,:])"
   ]
  },
  {
   "cell_type": "code",
   "execution_count": 47,
   "metadata": {},
   "outputs": [
    {
     "data": {
      "text/plain": [
       "346"
      ]
     },
     "execution_count": 47,
     "metadata": {},
     "output_type": "execute_result"
    }
   ],
   "source": [
    "maximum(s[:,2])"
   ]
  },
  {
   "cell_type": "code",
   "execution_count": 49,
   "metadata": {},
   "outputs": [
    {
     "data": {
      "text/plain": [
       "350×350 Array{Float64,2}:\n",
       " 0.0  0.0  0.0  0.0  0.0  0.0  0.0  0.0  …  0.0  0.0  0.0  0.0  0.0  0.0  0.0\n",
       " 0.0  0.0  0.0  0.0  0.0  0.0  0.0  0.0     0.0  0.0  0.0  0.0  0.0  0.0  0.0\n",
       " 0.0  0.0  0.0  0.0  0.0  0.0  0.0  0.0     0.0  0.0  0.0  0.0  0.0  0.0  0.0\n",
       " 0.0  0.0  0.0  0.0  0.0  0.0  0.0  0.0     0.0  0.0  0.0  0.0  0.0  0.0  0.0\n",
       " 0.0  0.0  0.0  0.0  0.0  0.0  0.0  0.0     0.0  0.0  0.0  0.0  0.0  0.0  0.0\n",
       " 0.0  0.0  0.0  0.0  0.0  0.0  0.0  0.0  …  0.0  0.0  0.0  0.0  0.0  0.0  0.0\n",
       " 0.0  0.0  0.0  0.0  0.0  0.0  0.0  0.0     0.0  0.0  0.0  0.0  0.0  0.0  0.0\n",
       " 0.0  0.0  0.0  0.0  0.0  0.0  0.0  0.0     0.0  0.0  0.0  0.0  0.0  0.0  0.0\n",
       " 0.0  0.0  0.0  0.0  0.0  0.0  0.0  0.0     0.0  0.0  0.0  0.0  0.0  0.0  0.0\n",
       " 0.0  0.0  0.0  0.0  0.0  0.0  0.0  0.0     0.0  0.0  0.0  0.0  0.0  0.0  0.0\n",
       " 0.0  0.0  0.0  0.0  0.0  0.0  0.0  0.0  …  0.0  0.0  0.0  0.0  0.0  0.0  0.0\n",
       " 0.0  0.0  0.0  0.0  0.0  0.0  0.0  0.0     0.0  0.0  0.0  0.0  0.0  0.0  0.0\n",
       " 0.0  0.0  0.0  0.0  0.0  0.0  0.0  0.0     0.0  0.0  0.0  0.0  0.0  0.0  0.0\n",
       " ⋮                        ⋮              ⋱            ⋮                      \n",
       " 0.0  0.0  0.0  0.0  0.0  0.0  0.0  0.0     0.0  0.0  0.0  0.0  0.0  0.0  0.0\n",
       " 0.0  0.0  0.0  0.0  0.0  0.0  0.0  0.0     0.0  0.0  0.0  0.0  0.0  0.0  0.0\n",
       " 0.0  0.0  0.0  0.0  0.0  0.0  0.0  0.0  …  0.0  0.0  0.0  0.0  0.0  0.0  0.0\n",
       " 0.0  0.0  0.0  0.0  0.0  0.0  0.0  0.0     0.0  0.0  0.0  0.0  0.0  0.0  0.0\n",
       " 0.0  0.0  0.0  0.0  0.0  0.0  0.0  0.0     0.0  0.0  0.0  0.0  0.0  0.0  0.0\n",
       " 0.0  0.0  0.0  0.0  0.0  0.0  0.0  0.0     0.0  0.0  0.0  0.0  0.0  0.0  0.0\n",
       " 0.0  0.0  0.0  0.0  0.0  0.0  0.0  0.0     0.0  0.0  0.0  0.0  0.0  0.0  0.0\n",
       " 0.0  0.0  0.0  0.0  0.0  0.0  0.0  0.0  …  0.0  0.0  0.0  0.0  0.0  0.0  0.0\n",
       " 0.0  0.0  0.0  0.0  0.0  0.0  0.0  0.0     0.0  0.0  0.0  0.0  0.0  0.0  0.0\n",
       " 0.0  0.0  0.0  0.0  0.0  0.0  0.0  0.0     0.0  0.0  0.0  0.0  0.0  0.0  0.0\n",
       " 0.0  0.0  0.0  0.0  0.0  0.0  0.0  0.0     0.0  0.0  0.0  0.0  0.0  0.0  0.0\n",
       " 0.0  0.0  0.0  0.0  0.0  0.0  0.0  0.0     0.0  0.0  0.0  0.0  0.0  0.0  0.0"
      ]
     },
     "execution_count": 49,
     "metadata": {},
     "output_type": "execute_result"
    }
   ],
   "source": [
    "A = zeros(350,350)"
   ]
  },
  {
   "cell_type": "code",
   "execution_count": 55,
   "metadata": {},
   "outputs": [
    {
     "data": {
      "text/plain": [
       "5×2 Array{Tuple{Int64,Int64},2}:\n",
       " (1, 268)  (6, 273) \n",
       " (2, 211)  (7, 325) \n",
       " (3, 320)  (8, 225) \n",
       " (4, 320)  (9, 207) \n",
       " (5, 109)  (10, 222)"
      ]
     },
     "execution_count": 55,
     "metadata": {},
     "output_type": "execute_result"
    }
   ],
   "source": [
    "[x for x in enumerate(s[1:5,1:2])]"
   ]
  },
  {
   "cell_type": "code",
   "execution_count": 57,
   "metadata": {},
   "outputs": [
    {
     "data": {
      "text/plain": [
       "50-element Array{Array{Int64,1},1}:\n",
       " [268, 273]\n",
       " [211, 325]\n",
       " [320, 225]\n",
       " [320, 207]\n",
       " [109, 222]\n",
       " [267, 283]\n",
       " [119, 70] \n",
       " [138, 277]\n",
       " [202, 177]\n",
       " [251, 233]\n",
       " [305, 107]\n",
       " [230, 279]\n",
       " [243, 137]\n",
       " ⋮         \n",
       " [267, 142]\n",
       " [244, 153]\n",
       " [131, 147]\n",
       " [245, 323]\n",
       " [42, 241] \n",
       " [90, 207] \n",
       " [245, 167]\n",
       " [335, 106]\n",
       " [299, 158]\n",
       " [181, 186]\n",
       " [349, 286]\n",
       " [327, 108]"
      ]
     },
     "execution_count": 57,
     "metadata": {},
     "output_type": "execute_result"
    }
   ],
   "source": [
    "ps = [Array(s[i,:]) for i in 1:length(s[:,1])]"
   ]
  },
  {
   "cell_type": "code",
   "execution_count": 60,
   "metadata": {},
   "outputs": [
    {
     "data": {
      "text/plain": [
       "109"
      ]
     },
     "execution_count": 60,
     "metadata": {},
     "output_type": "execute_result"
    }
   ],
   "source": [
    "norm1(ps[2] - ps[1])"
   ]
  },
  {
   "cell_type": "code",
   "execution_count": 66,
   "metadata": {},
   "outputs": [],
   "source": [
    "for i in 1:350, j in 1:350\n",
    "    l = [norm1([i,j]-x) for x in ps]\n",
    "    m = minimum(l)\n",
    "    w = findall(x -> x == m,l)\n",
    "    if length(w) == 1\n",
    "        A[i,j] = w[1]\n",
    "    end\n",
    "end"
   ]
  },
  {
   "cell_type": "code",
   "execution_count": 67,
   "metadata": {},
   "outputs": [
    {
     "data": {
      "text/plain": [
       "12×12 Array{Float64,2}:\n",
       " 15.0  15.0  15.0  15.0  15.0  15.0  15.0  15.0  15.0  15.0  15.0  15.0\n",
       " 15.0  15.0  15.0  15.0  15.0  15.0  15.0  15.0  15.0  15.0  15.0  15.0\n",
       " 15.0  15.0  15.0  15.0  15.0  15.0  15.0  15.0  15.0  15.0  15.0  15.0\n",
       " 15.0  15.0  15.0  15.0  15.0  15.0  15.0  15.0  15.0  15.0  15.0  15.0\n",
       " 15.0  15.0  15.0  15.0  15.0  15.0  15.0  15.0  15.0  15.0  15.0  15.0\n",
       " 15.0  15.0  15.0  15.0  15.0  15.0  15.0  15.0  15.0  15.0  15.0  15.0\n",
       " 15.0  15.0  15.0  15.0  15.0  15.0  15.0  15.0  15.0  15.0  15.0  15.0\n",
       " 15.0  15.0  15.0  15.0  15.0  15.0  15.0  15.0  15.0  15.0  15.0  15.0\n",
       " 15.0  15.0  15.0  15.0  15.0  15.0  15.0  15.0  15.0  15.0  15.0  15.0\n",
       " 15.0  15.0  15.0  15.0  15.0  15.0  15.0  15.0  15.0  15.0  15.0  15.0\n",
       " 15.0  15.0  15.0  15.0  15.0  15.0  15.0  15.0  15.0  15.0  15.0  15.0\n",
       " 15.0  15.0  15.0  15.0  15.0  15.0  15.0  15.0  15.0  15.0  15.0  15.0"
      ]
     },
     "execution_count": 67,
     "metadata": {},
     "output_type": "execute_result"
    }
   ],
   "source": [
    "A[1:12,1:12]"
   ]
  },
  {
   "cell_type": "code",
   "execution_count": 68,
   "metadata": {},
   "outputs": [
    {
     "data": {
      "text/plain": [
       "true"
      ]
     },
     "execution_count": 68,
     "metadata": {},
     "output_type": "execute_result"
    }
   ],
   "source": [
    "0 in A"
   ]
  },
  {
   "cell_type": "code",
   "execution_count": 71,
   "metadata": {},
   "outputs": [
    {
     "data": {
      "text/plain": [
       "false"
      ]
     },
     "execution_count": 71,
     "metadata": {},
     "output_type": "execute_result"
    }
   ],
   "source": [
    "1 in findall(x->x==15,A)"
   ]
  },
  {
   "cell_type": "code",
   "execution_count": 70,
   "metadata": {},
   "outputs": [
    {
     "data": {
      "text/plain": [
       "122500"
      ]
     },
     "execution_count": 70,
     "metadata": {},
     "output_type": "execute_result"
    }
   ],
   "source": [
    "350*350"
   ]
  },
  {
   "cell_type": "code",
   "execution_count": 72,
   "metadata": {},
   "outputs": [
    {
     "data": {
      "text/plain": [
       "50"
      ]
     },
     "execution_count": 72,
     "metadata": {},
     "output_type": "execute_result"
    }
   ],
   "source": [
    "length(ps)"
   ]
  },
  {
   "cell_type": "code",
   "execution_count": 78,
   "metadata": {},
   "outputs": [
    {
     "data": {
      "text/plain": [
       "Set([39, 42, 20, 14, 44, 4, 45, 13, 30, 1  …  12, 21, 10, 19, 22, 6, 24, 28, 5, 27, 41])"
      ]
     },
     "execution_count": 78,
     "metadata": {},
     "output_type": "execute_result"
    }
   ],
   "source": [
    "interior = setdiff(Set(1:50),union(Set(A[1,:]),Set(A[350,:]),Set(A[:,1]),Set(A[:,350])))"
   ]
  },
  {
   "cell_type": "code",
   "execution_count": 79,
   "metadata": {},
   "outputs": [
    {
     "data": {
      "text/plain": [
       "27"
      ]
     },
     "execution_count": 79,
     "metadata": {},
     "output_type": "execute_result"
    }
   ],
   "source": [
    "length(interior)"
   ]
  },
  {
   "cell_type": "code",
   "execution_count": 81,
   "metadata": {},
   "outputs": [],
   "source": [
    "areas = Dict()\n",
    "for i in interior\n",
    "    areas[i] = length(findall(x->x==i,A))\n",
    "end"
   ]
  },
  {
   "cell_type": "code",
   "execution_count": 82,
   "metadata": {},
   "outputs": [
    {
     "data": {
      "text/plain": [
       "Dict{Any,Any} with 27 entries:\n",
       "  1  => 1346\n",
       "  47 => 1712\n",
       "  40 => 627\n",
       "  39 => 1062\n",
       "  21 => 2424\n",
       "  9  => 1592\n",
       "  10 => 2630\n",
       "  42 => 1645\n",
       "  19 => 540\n",
       "  22 => 2679\n",
       "  44 => 1465\n",
       "  6  => 1462\n",
       "  24 => 1862\n",
       "  4  => 1400\n",
       "  3  => 1070\n",
       "  28 => 2935\n",
       "  5  => 1732\n",
       "  38 => 1136\n",
       "  45 => 1054\n",
       "  20 => 2700\n",
       "  14 => 2476\n",
       "  13 => 1170\n",
       "  27 => 2067\n",
       "  48 => 2737\n",
       "  41 => 3840\n",
       "  ⋮  => ⋮"
      ]
     },
     "execution_count": 82,
     "metadata": {},
     "output_type": "execute_result"
    }
   ],
   "source": [
    "areas"
   ]
  },
  {
   "cell_type": "code",
   "execution_count": 84,
   "metadata": {},
   "outputs": [
    {
     "data": {
      "text/plain": [
       "27-element Array{Tuple{Int64,Int64},1}:\n",
       " (540, 19) \n",
       " (627, 40) \n",
       " (1054, 45)\n",
       " (1062, 39)\n",
       " (1070, 3) \n",
       " (1136, 38)\n",
       " (1170, 13)\n",
       " (1346, 1) \n",
       " (1400, 4) \n",
       " (1462, 6) \n",
       " (1465, 44)\n",
       " (1560, 30)\n",
       " (1579, 12)\n",
       " ⋮         \n",
       " (1712, 47)\n",
       " (1732, 5) \n",
       " (1862, 24)\n",
       " (2067, 27)\n",
       " (2424, 21)\n",
       " (2476, 14)\n",
       " (2630, 10)\n",
       " (2679, 22)\n",
       " (2700, 20)\n",
       " (2737, 48)\n",
       " (2935, 28)\n",
       " (3840, 41)"
      ]
     },
     "execution_count": 84,
     "metadata": {},
     "output_type": "execute_result"
    }
   ],
   "source": [
    "sort([(v,k) for (k,v) in pairs(areas)])"
   ]
  },
  {
   "cell_type": "markdown",
   "metadata": {},
   "source": [
    "## Part Deux "
   ]
  },
  {
   "cell_type": "code",
   "execution_count": 85,
   "metadata": {},
   "outputs": [
    {
     "data": {
      "text/plain": [
       "350×350 Array{Float64,2}:\n",
       " -0.529341   -0.0142576   1.86253    …  -2.7335     -0.170893   1.07431  \n",
       " -1.21821     0.924994    0.606543      -0.275502   -0.475105   1.17537  \n",
       "  0.744677   -1.61        1.54389        0.377224    0.763689   0.0435735\n",
       " -0.544979    0.411008    1.41783        0.822521    1.00087   -1.06263  \n",
       " -1.40343     0.394858    0.161673       0.755351   -0.841273  -0.535978 \n",
       "  0.657743   -1.27695     0.83394    …   0.667369   -0.988915  -1.22316  \n",
       " -0.369575   -1.08852     0.682128      -1.22536     0.830559  -0.668685 \n",
       "  1.71842     0.105213   -0.921775       0.969072   -0.147406  -0.913432 \n",
       "  0.0610976   1.25305     0.292404       0.105416    0.280784   0.405318 \n",
       " -1.70025    -0.112967   -1.55641       -0.924652    0.724452   0.925183 \n",
       "  0.754388   -0.43973     1.24664    …   0.793952   -0.21849    0.596945 \n",
       " -2.07316    -0.258131   -0.099578       1.70932    -0.750924  -0.252907 \n",
       " -0.176726   -0.943109   -2.02633        0.169497   -1.41679    0.595456 \n",
       "  ⋮                                  ⋱                                   \n",
       " -0.480549    1.20661     0.569358       1.76866    -1.54325    2.31025  \n",
       " -2.73169    -0.505344   -0.339153       0.122672    0.542289   0.0757102\n",
       "  1.06341     1.78446    -0.461984   …  -0.378856    1.20072    0.0157817\n",
       " -0.514634    0.504778   -0.355297       1.29117    -1.34454   -0.422793 \n",
       " -0.43584     1.41226     0.978181      -1.35209    -0.76819    1.40194  \n",
       "  1.3413     -2.84113    -0.233115      -0.342294   -0.625201   0.506779 \n",
       " -0.157385   -0.322226   -1.18397        0.590145   -0.732937  -2.09092  \n",
       " -0.209848    0.66371     1.39468    …  -0.912796    0.530984   1.37541  \n",
       "  0.091041    0.214034   -1.32611        1.24157     0.156138   0.942017 \n",
       "  0.424644    0.430555   -1.50693       -0.843539   -0.836071  -1.67756  \n",
       "  0.490476   -0.163434   -0.967565       0.0775149  -1.75839    0.124259 \n",
       "  0.248355   -1.16018    -0.0357517      0.0832045   1.24183    0.989043 "
      ]
     },
     "execution_count": 85,
     "metadata": {},
     "output_type": "execute_result"
    }
   ],
   "source": [
    "B = randn(350,350)"
   ]
  },
  {
   "cell_type": "code",
   "execution_count": 87,
   "metadata": {},
   "outputs": [],
   "source": [
    "for i in 1:350, j in 1:350\n",
    "    l = [norm1([i,j]-x) for x in ps]\n",
    "    m = sum(l)\n",
    "    B[i,j] = m\n",
    "end\n"
   ]
  },
  {
   "cell_type": "code",
   "execution_count": 88,
   "metadata": {},
   "outputs": [
    {
     "data": {
      "text/plain": [
       "46542-element Array{CartesianIndex{2},1}:\n",
       " CartesianIndex(242, 78) \n",
       " CartesianIndex(243, 78) \n",
       " CartesianIndex(244, 78) \n",
       " CartesianIndex(226, 79) \n",
       " CartesianIndex(227, 79) \n",
       " CartesianIndex(228, 79) \n",
       " CartesianIndex(229, 79) \n",
       " CartesianIndex(230, 79) \n",
       " CartesianIndex(231, 79) \n",
       " CartesianIndex(232, 79) \n",
       " CartesianIndex(233, 79) \n",
       " CartesianIndex(234, 79) \n",
       " CartesianIndex(235, 79) \n",
       " ⋮                       \n",
       " CartesianIndex(235, 315)\n",
       " CartesianIndex(236, 315)\n",
       " CartesianIndex(237, 315)\n",
       " CartesianIndex(238, 315)\n",
       " CartesianIndex(239, 315)\n",
       " CartesianIndex(240, 315)\n",
       " CartesianIndex(241, 315)\n",
       " CartesianIndex(242, 315)\n",
       " CartesianIndex(243, 315)\n",
       " CartesianIndex(244, 315)\n",
       " CartesianIndex(245, 315)\n",
       " CartesianIndex(246, 315)"
      ]
     },
     "execution_count": 88,
     "metadata": {},
     "output_type": "execute_result"
    }
   ],
   "source": [
    "safe = findall(x->x<10000,B)"
   ]
  },
  {
   "cell_type": "code",
   "execution_count": 89,
   "metadata": {},
   "outputs": [
    {
     "data": {
      "text/plain": [
       "46542"
      ]
     },
     "execution_count": 89,
     "metadata": {},
     "output_type": "execute_result"
    }
   ],
   "source": [
    "length(safe)"
   ]
  },
  {
   "cell_type": "code",
   "execution_count": null,
   "metadata": {},
   "outputs": [],
   "source": []
  }
 ],
 "metadata": {
  "kernelspec": {
   "display_name": "Julia 1.0.1",
   "language": "julia",
   "name": "julia-1.0"
  },
  "language_info": {
   "file_extension": ".jl",
   "mimetype": "application/julia",
   "name": "julia",
   "version": "1.0.1"
  }
 },
 "nbformat": 4,
 "nbformat_minor": 2
}
