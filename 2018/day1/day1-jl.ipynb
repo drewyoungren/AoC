{
 "cells": [
  {
   "cell_type": "code",
   "execution_count": 30,
   "metadata": {},
   "outputs": [
    {
     "data": {
      "text/plain": [
       "1017-element Array{Int64,1}:\n",
       "     -16\n",
       "      12\n",
       "      -6\n",
       "     -16\n",
       "       4\n",
       "      19\n",
       "     -10\n",
       "      20\n",
       "     -16\n",
       "      -6\n",
       "       3\n",
       "     -12\n",
       "      -7\n",
       "       ⋮\n",
       "      12\n",
       "      29\n",
       "     -12\n",
       "      21\n",
       "      -2\n",
       "      -8\n",
       "       4\n",
       "       5\n",
       "     -11\n",
       "      19\n",
       "     -14\n",
       " -113326"
      ]
     },
     "execution_count": 30,
     "metadata": {},
     "output_type": "execute_result"
    }
   ],
   "source": [
    "s = open(\"input.txt\") do file\n",
    "    [tryparse(Int,chomp(x)) for x in readlines(file)];\n",
    "end"
   ]
  },
  {
   "cell_type": "code",
   "execution_count": 9,
   "metadata": {},
   "outputs": [
    {
     "data": {
      "text/plain": [
       "1017"
      ]
     },
     "execution_count": 9,
     "metadata": {},
     "output_type": "execute_result"
    }
   ],
   "source": [
    "N = length(s)"
   ]
  },
  {
   "cell_type": "code",
   "execution_count": 7,
   "metadata": {},
   "outputs": [
    {
     "data": {
      "text/plain": [
       "416"
      ]
     },
     "execution_count": 7,
     "metadata": {},
     "output_type": "execute_result"
    }
   ],
   "source": [
    "sum(s)"
   ]
  },
  {
   "cell_type": "code",
   "execution_count": 29,
   "metadata": {},
   "outputs": [
    {
     "name": "stdout",
     "output_type": "stream",
     "text": [
      "Part 2: 56752\n"
     ]
    }
   ],
   "source": [
    "tot = 0 \n",
    "i = 1\n",
    "seen = Set{Int}()\n",
    "while !in(tot,seen)\n",
    "    push!(seen,tot)\n",
    "    tot += s[i]\n",
    "    i = mod1(i+1,N)\n",
    "end\n",
    "println(\"Part 2: \",tot)\n",
    "    "
   ]
  }
 ],
 "metadata": {
  "kernelspec": {
   "display_name": "Julia 1.0.1",
   "language": "julia",
   "name": "julia-1.0"
  },
  "language_info": {
   "file_extension": ".jl",
   "mimetype": "application/julia",
   "name": "julia",
   "version": "1.0.1"
  }
 },
 "nbformat": 4,
 "nbformat_minor": 2
}
