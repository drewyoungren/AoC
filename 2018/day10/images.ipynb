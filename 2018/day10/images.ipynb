{
 "cells": [
  {
   "cell_type": "code",
   "execution_count": 1,
   "metadata": {},
   "outputs": [
    {
     "data": {
      "text/plain": [
       "322-element Array{SubString{String},1}:\n",
       " \"position=<-42346,  10806> velocity=< 4, -1>\"\n",
       " \"position=<-31708, -21106> velocity=< 3,  2>\"\n",
       " \"position=<-10445, -10472> velocity=< 1,  1>\"\n",
       " \"position=<-21064, -42388> velocity=< 2,  4>\"\n",
       " \"position=< 53393,  32093> velocity=<-5, -3>\"\n",
       " \"position=<-52992,  10809> velocity=< 5, -1>\"\n",
       " \"position=<-52965,  42724> velocity=< 5, -4>\"\n",
       " \"position=<-42326, -10464> velocity=< 4,  1>\"\n",
       " \"position=< 10872, -31750> velocity=<-1,  3>\"\n",
       " \"position=<-10433, -42381> velocity=< 1,  4>\"\n",
       " \"position=< 32115, -42384> velocity=<-3,  4>\"\n",
       " \"position=< 21496, -42389> velocity=<-2,  4>\"\n",
       " \"position=< 53378,  21454> velocity=<-5, -2>\"\n",
       " ⋮                                            \n",
       " \"position=<-21096, -53024> velocity=< 2,  5>\"\n",
       " \"position=<-42342, -10470> velocity=< 4,  1>\"\n",
       " \"position=<-31706,  53367> velocity=< 3, -5>\"\n",
       " \"position=< 42779, -10470> velocity=<-4,  1>\"\n",
       " \"position=< 42789, -42389> velocity=<-4,  4>\"\n",
       " \"position=< 53398,  32085> velocity=<-5, -3>\"\n",
       " \"position=<-42355,  53366> velocity=< 4, -5>\"\n",
       " \"position=< 10869,  10810> velocity=<-1, -1>\"\n",
       " \"position=< 32147,  53368> velocity=<-3, -5>\"\n",
       " \"position=<-31708, -21106> velocity=< 3,  2>\"\n",
       " \"position=< 53409,  32093> velocity=<-5, -3>\"\n",
       " \"position=< 21492,  42728> velocity=<-2, -4>\""
      ]
     },
     "execution_count": 1,
     "metadata": {},
     "output_type": "execute_result"
    }
   ],
   "source": [
    "s = open(\"input.txt\") do f \n",
    "    [chomp(x) for x in readlines(f)]\n",
    "end"
   ]
  },
  {
   "cell_type": "code",
   "execution_count": 11,
   "metadata": {},
   "outputs": [
    {
     "data": {
      "text/plain": [
       "r\"<\\s*([-\\d]+),\\s*([-\\d]+)>.*<\\s*([-\\d]+),\\s*([-\\d]+)>\""
      ]
     },
     "execution_count": 11,
     "metadata": {},
     "output_type": "execute_result"
    }
   ],
   "source": [
    "pat = r\"<\\s*([-\\d]+),\\s*([-\\d]+)>.*<\\s*([-\\d]+),\\s*([-\\d]+)>\""
   ]
  },
  {
   "cell_type": "code",
   "execution_count": 14,
   "metadata": {},
   "outputs": [
    {
     "ename": "ArgumentError",
     "evalue": "ArgumentError: invalid base 10 digit 'p'",
     "output_type": "error",
     "traceback": [
      "ArgumentError: invalid base 10 digit 'p'",
      "",
      "Stacktrace:",
      " [1] #parse#331(::Int64, ::Function, ::Type{Int64}, ::Char) at /Applications/JuliaPro-1.0.1.1.app/Contents/Resources/julia/Contents/Resources/julia/lib/julia/sys.dylib:?",
      " [2] parse(::Type{Int64}, ::Char) at ./parse.jl:38",
      " [3] (::getfield(Main, Symbol(\"##9#10\")))(::Int64) at ./none:0",
      " [4] iterate at ./generator.jl:47 [inlined]",
      " [5] collect(::Base.Generator{UnitRange{Int64},getfield(Main, Symbol(\"##9#10\"))}) at ./array.jl:619",
      " [6] top-level scope at In[14]:1"
     ]
    }
   ],
   "source": [
    "[parse(Int,s[1][i]) for i in 1:4]"
   ]
  },
  {
   "cell_type": "code",
   "execution_count": 17,
   "metadata": {},
   "outputs": [
    {
     "data": {
      "text/plain": [
       "322-element Array{Array{Int64,1},1}:\n",
       " [-42346, 10806, 4, -1]\n",
       " [-31708, -21106, 3, 2]\n",
       " [-10445, -10472, 1, 1]\n",
       " [-21064, -42388, 2, 4]\n",
       " [53393, 32093, -5, -3]\n",
       " [-52992, 10809, 5, -1]\n",
       " [-52965, 42724, 5, -4]\n",
       " [-42326, -10464, 4, 1]\n",
       " [10872, -31750, -1, 3]\n",
       " [-10433, -42381, 1, 4]\n",
       " [32115, -42384, -3, 4]\n",
       " [21496, -42389, -2, 4]\n",
       " [53378, 21454, -5, -2]\n",
       " ⋮                     \n",
       " [-21096, -53024, 2, 5]\n",
       " [-42342, -10470, 4, 1]\n",
       " [-31706, 53367, 3, -5]\n",
       " [42779, -10470, -4, 1]\n",
       " [42789, -42389, -4, 4]\n",
       " [53398, 32085, -5, -3]\n",
       " [-42355, 53366, 4, -5]\n",
       " [10869, 10810, -1, -1]\n",
       " [32147, 53368, -3, -5]\n",
       " [-31708, -21106, 3, 2]\n",
       " [53409, 32093, -5, -3]\n",
       " [21492, 42728, -2, -4]"
      ]
     },
     "execution_count": 17,
     "metadata": {},
     "output_type": "execute_result"
    }
   ],
   "source": [
    "a = [[parse(Int,match(pat,x)[i]) for i in 1:4] for x in s]"
   ]
  },
  {
   "cell_type": "code",
   "execution_count": 19,
   "metadata": {
    "scrolled": true
   },
   "outputs": [
    {
     "data": {
      "text/plain": [
       "322×2 Array{Int64,2}:\n",
       " -42346   10806\n",
       " -31708  -21106\n",
       " -10445  -10472\n",
       " -21064  -42388\n",
       "  53393   32093\n",
       " -52992   10809\n",
       " -52965   42724\n",
       " -42326  -10464\n",
       "  10872  -31750\n",
       " -10433  -42381\n",
       "  32115  -42384\n",
       "  21496  -42389\n",
       "  53378   21454\n",
       "      ⋮        \n",
       " -21096  -53024\n",
       " -42342  -10470\n",
       " -31706   53367\n",
       "  42779  -10470\n",
       "  42789  -42389\n",
       "  53398   32085\n",
       " -42355   53366\n",
       "  10869   10810\n",
       "  32147   53368\n",
       " -31708  -21106\n",
       "  53409   32093\n",
       "  21492   42728"
      ]
     },
     "execution_count": 19,
     "metadata": {},
     "output_type": "execute_result"
    }
   ],
   "source": [
    "p = [x[j] for x in a, j in 1:2]"
   ]
  },
  {
   "cell_type": "code",
   "execution_count": 21,
   "metadata": {
    "scrolled": true
   },
   "outputs": [
    {
     "data": {
      "text/plain": [
       "322×2 Array{Int64,2}:\n",
       "  4  -1\n",
       "  3   2\n",
       "  1   1\n",
       "  2   4\n",
       " -5  -3\n",
       "  5  -1\n",
       "  5  -4\n",
       "  4   1\n",
       " -1   3\n",
       "  1   4\n",
       " -3   4\n",
       " -2   4\n",
       " -5  -2\n",
       "  ⋮    \n",
       "  2   5\n",
       "  4   1\n",
       "  3  -5\n",
       " -4   1\n",
       " -4   4\n",
       " -5  -3\n",
       "  4  -5\n",
       " -1  -1\n",
       " -3  -5\n",
       "  3   2\n",
       " -5  -3\n",
       " -2  -4"
      ]
     },
     "execution_count": 21,
     "metadata": {},
     "output_type": "execute_result"
    }
   ],
   "source": [
    "v = [x[j] for x in a, j in 3:4]"
   ]
  },
  {
   "cell_type": "code",
   "execution_count": 25,
   "metadata": {},
   "outputs": [
    {
     "data": {
      "text/plain": [
       "rr (generic function with 1 method)"
      ]
     },
     "execution_count": 25,
     "metadata": {},
     "output_type": "execute_result"
    }
   ],
   "source": [
    "function rr(t)\n",
    "    global p,v\n",
    "    pos = p + t*v\n",
    "    Mx = maximum(pos[:,1])\n",
    "    My = maximum(pos[:,2])\n",
    "    mx = minimum(pos[:,1])\n",
    "    my = minimum(pos[:,2])\n",
    "    return (Mx-mx,My-my)\n",
    "end"
   ]
  },
  {
   "cell_type": "code",
   "execution_count": 64,
   "metadata": {},
   "outputs": [
    {
     "data": {
      "text/plain": [
       "(322, 2)"
      ]
     },
     "execution_count": 64,
     "metadata": {},
     "output_type": "execute_result"
    }
   ],
   "source": [
    "size(B)"
   ]
  },
  {
   "cell_type": "code",
   "execution_count": 65,
   "metadata": {},
   "outputs": [],
   "source": [
    "m = 213000\n",
    "T = 1\n",
    "for t in 1:100000\n",
    "    ss = sum(rr(t))\n",
    "    if ss < m\n",
    "        m = ss\n",
    "        T = t\n",
    "    end\n",
    "end\n",
    "        \n",
    "    "
   ]
  },
  {
   "cell_type": "code",
   "execution_count": 67,
   "metadata": {},
   "outputs": [
    {
     "data": {
      "text/plain": [
       "(70, 10639)"
      ]
     },
     "execution_count": 67,
     "metadata": {},
     "output_type": "execute_result"
    }
   ],
   "source": [
    "m,T"
   ]
  },
  {
   "cell_type": "code",
   "execution_count": 68,
   "metadata": {},
   "outputs": [
    {
     "data": {
      "text/plain": [
       "322×2 Array{Int64,2}:\n",
       " 210  167\n",
       " 209  172\n",
       " 194  167\n",
       " 214  168\n",
       " 198  176\n",
       " 203  170\n",
       " 230  168\n",
       " 230  175\n",
       " 233  167\n",
       " 206  175\n",
       " 198  172\n",
       " 218  167\n",
       " 183  176\n",
       "   ⋮     \n",
       " 182  171\n",
       " 214  169\n",
       " 211  172\n",
       " 223  169\n",
       " 233  167\n",
       " 203  168\n",
       " 201  171\n",
       " 230  171\n",
       " 230  173\n",
       " 209  172\n",
       " 214  176\n",
       " 214  172"
      ]
     },
     "execution_count": 68,
     "metadata": {},
     "output_type": "execute_result"
    }
   ],
   "source": [
    "B = p + T * v"
   ]
  },
  {
   "cell_type": "code",
   "execution_count": 30,
   "metadata": {},
   "outputs": [
    {
     "name": "stderr",
     "output_type": "stream",
     "text": [
      "┌ Info: Precompiling Images [916415d5-f1e6-5110-898d-aaa5f9f070e0]\n",
      "└ @ Base loading.jl:1189\n"
     ]
    }
   ],
   "source": [
    "using Images"
   ]
  },
  {
   "cell_type": "code",
   "execution_count": 90,
   "metadata": {},
   "outputs": [
    {
     "data": {
      "text/plain": [
       "(182, 167)"
      ]
     },
     "execution_count": 90,
     "metadata": {},
     "output_type": "execute_result"
    }
   ],
   "source": [
    "minimum(B[:,1]),minimum(B[:,2])"
   ]
  },
  {
   "cell_type": "code",
   "execution_count": 82,
   "metadata": {},
   "outputs": [
    {
     "data": {
      "text/plain": [
       "Set(Tuple{Int64,Int64}[(35, 1), (11, 1), (28, 10), (49, 2), (22, 2), (54, 2), (1, 10), (9, 9), (33, 6), (28, 6)  …  (10, 1), (1, 9), (25, 2), (20, 1), (42, 7), (3, 10), (54, 7), (51, 1), (62, 10), (45, 7), (54, 8)])"
      ]
     },
     "execution_count": 82,
     "metadata": {},
     "output_type": "execute_result"
    }
   ],
   "source": [
    "b = Set([Tuple(B[i,:] - [181,166]) for i in 1:322])"
   ]
  },
  {
   "cell_type": "code",
   "execution_count": 84,
   "metadata": {},
   "outputs": [
    {
     "name": "stdout",
     "output_type": "stream",
     "text": [
      "#        ####   #####    ####   #####   #    #   ####   #             \n",
      "#       #    #  #    #  #    #  #    #  #    #  #    #  #             \n",
      "#       #       #    #  #       #    #   #  #   #       #             \n",
      "#       #       #    #  #       #    #   #  #   #       #             \n",
      "#       #       #####   #       #####     ##    #       #             \n",
      "#       #       #       #  ###  #         ##    #  ###  #             \n",
      "#       #       #       #    #  #        #  #   #    #  #             \n",
      "#       #       #       #    #  #        #  #   #    #  #             \n",
      "#       #    #  #       #   ##  #       #    #  #   ##  #             \n",
      "######   ####   #        ### #  #       #    #   ### #  ######        \n",
      "                                                                      \n",
      "                                                                      \n",
      "                                                                      \n",
      "                                                                      \n",
      "                                                                      \n",
      "                                                                      \n",
      "                                                                      \n",
      "                                                                      \n",
      "                                                                      \n",
      "                                                                      \n"
     ]
    }
   ],
   "source": [
    "for i in 1:20\n",
    "    for j in 1:70\n",
    "        print( (j,i) in b ? \"#\" : \" \")\n",
    "    end\n",
    "    print(\"\\n\")\n",
    "end"
   ]
  },
  {
   "cell_type": "code",
   "execution_count": 87,
   "metadata": {},
   "outputs": [],
   "source": [
    "img = ones(Int,20,70)\n",
    "for i in 1:20\n",
    "    for j in 1:70\n",
    "        img[i,j] = (j,i) in b ? 0 : 1\n",
    "    end\n",
    "end"
   ]
  },
  {
   "cell_type": "code",
   "execution_count": 88,
   "metadata": {},
   "outputs": [
    {
     "data": {
      "image/png": "[encoded data removed]",
      "text/plain": [
       "20×70 Array{Gray{N0f8},2} with eltype Gray{Normed{UInt8,8}}:\n",
       " Gray{N0f8}(0.0)  Gray{N0f8}(1.0)  …  Gray{N0f8}(1.0)  Gray{N0f8}(1.0)\n",
       " Gray{N0f8}(0.0)  Gray{N0f8}(1.0)     Gray{N0f8}(1.0)  Gray{N0f8}(1.0)\n",
       " Gray{N0f8}(0.0)  Gray{N0f8}(1.0)     Gray{N0f8}(1.0)  Gray{N0f8}(1.0)\n",
       " Gray{N0f8}(0.0)  Gray{N0f8}(1.0)     Gray{N0f8}(1.0)  Gray{N0f8}(1.0)\n",
       " Gray{N0f8}(0.0)  Gray{N0f8}(1.0)     Gray{N0f8}(1.0)  Gray{N0f8}(1.0)\n",
       " Gray{N0f8}(0.0)  Gray{N0f8}(1.0)  …  Gray{N0f8}(1.0)  Gray{N0f8}(1.0)\n",
       " Gray{N0f8}(0.0)  Gray{N0f8}(1.0)     Gray{N0f8}(1.0)  Gray{N0f8}(1.0)\n",
       " Gray{N0f8}(0.0)  Gray{N0f8}(1.0)     Gray{N0f8}(1.0)  Gray{N0f8}(1.0)\n",
       " Gray{N0f8}(0.0)  Gray{N0f8}(1.0)     Gray{N0f8}(1.0)  Gray{N0f8}(1.0)\n",
       " Gray{N0f8}(0.0)  Gray{N0f8}(0.0)     Gray{N0f8}(1.0)  Gray{N0f8}(1.0)\n",
       " Gray{N0f8}(1.0)  Gray{N0f8}(1.0)  …  Gray{N0f8}(1.0)  Gray{N0f8}(1.0)\n",
       " Gray{N0f8}(1.0)  Gray{N0f8}(1.0)     Gray{N0f8}(1.0)  Gray{N0f8}(1.0)\n",
       " Gray{N0f8}(1.0)  Gray{N0f8}(1.0)     Gray{N0f8}(1.0)  Gray{N0f8}(1.0)\n",
       " Gray{N0f8}(1.0)  Gray{N0f8}(1.0)     Gray{N0f8}(1.0)  Gray{N0f8}(1.0)\n",
       " Gray{N0f8}(1.0)  Gray{N0f8}(1.0)     Gray{N0f8}(1.0)  Gray{N0f8}(1.0)\n",
       " Gray{N0f8}(1.0)  Gray{N0f8}(1.0)  …  Gray{N0f8}(1.0)  Gray{N0f8}(1.0)\n",
       " Gray{N0f8}(1.0)  Gray{N0f8}(1.0)     Gray{N0f8}(1.0)  Gray{N0f8}(1.0)\n",
       " Gray{N0f8}(1.0)  Gray{N0f8}(1.0)     Gray{N0f8}(1.0)  Gray{N0f8}(1.0)\n",
       " Gray{N0f8}(1.0)  Gray{N0f8}(1.0)     Gray{N0f8}(1.0)  Gray{N0f8}(1.0)\n",
       " Gray{N0f8}(1.0)  Gray{N0f8}(1.0)     Gray{N0f8}(1.0)  Gray{N0f8}(1.0)"
      ]
     },
     "execution_count": 88,
     "metadata": {},
     "output_type": "execute_result"
    }
   ],
   "source": [
    "Gray.(img)"
   ]
  },
  {
   "cell_type": "code",
   "execution_count": 89,
   "metadata": {},
   "outputs": [
    {
     "data": {
      "text/plain": [
       "10639"
      ]
     },
     "execution_count": 89,
     "metadata": {},
     "output_type": "execute_result"
    }
   ],
   "source": [
    "T"
   ]
  },
  {
   "cell_type": "code",
   "execution_count": null,
   "metadata": {},
   "outputs": [],
   "source": []
  }
 ],
 "metadata": {
  "kernelspec": {
   "display_name": "Julia 1.0.1",
   "language": "julia",
   "name": "julia-1.0"
  },
  "language_info": {
   "file_extension": ".jl",
   "mimetype": "application/julia",
   "name": "julia",
   "version": "1.0.1"
  }
 },
 "nbformat": 4,
 "nbformat_minor": 2
}
