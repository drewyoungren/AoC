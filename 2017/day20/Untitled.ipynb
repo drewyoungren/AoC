{
 "cells": [
  {
   "cell_type": "code",
   "execution_count": 6,
   "metadata": {},
   "outputs": [
    {
     "data": {
      "text/plain": [
       "1000-element Array{Array{SubString{String},1},1}:\n",
       " [\"p=<1500,413,-535\", \" v=<-119,22,36\", \" a=<-5,-12,3>\"]      \n",
       " [\"p=<65,1223,-530\", \" v=<-14,-136,52\", \" a=<2,2,0>\"]         \n",
       " [\"p=<260,-387,800\", \" v=<49,14,-103\", \" a=<-13,4,4>\"]        \n",
       " [\"p=<429,726,462\", \" v=<-36,-36,-19\", \" a=<0,-6,-4>\"]        \n",
       " [\"p=<1705,-165,1331\", \" v=<-134,9,-104\", \" a=<-3,0,-3>\"]     \n",
       " [\"p=<341,693,-473\", \" v=<-28,9,-18\", \" a=<0,-13,10>\"]        \n",
       " [\"p=<2816,-2250,1464\", \" v=<-91,41,149\", \" a=<-4,6,-20>\"]    \n",
       " [\"p=<-1237,-1704,-531\", \" v=<47,125,35\", \" a=<1,-4,-1>\"]     \n",
       " [\"p=<-4828,-171,-447\", \" v=<86,8,-24\", \" a=<13,0,4>\"]        \n",
       " [\"p=<2553,3286,-5524\", \" v=<-128,45,41\", \" a=<3,-9,8>\"]      \n",
       " [\"p=<1065,8038,-3700\", \" v=<1,-87,17\", \" a=<-2,-10,6>\"]      \n",
       " [\"p=<1081,-4698,860\", \" v=<50,113,-43\", \" a=<-5,2,1>\"]       \n",
       " [\"p=<-4103,102,-7540\", \" v=<47,-37,137\", \" a=<5,2,6>\"]       \n",
       " ⋮                                                            \n",
       " [\"p=<299,2821,-1374\", \" v=<44,402,-193\", \" a=<-7,-25,13>\"]   \n",
       " [\"p=<-2317,106,-1824\", \" v=<-331,20,-262\", \" a=<23,-1,13>\"]  \n",
       " [\"p=<784,-2450,-1388\", \" v=<116,-346,-195\", \" a=<-11,26,14>\"]\n",
       " [\"p=<2738,-544,-356\", \" v=<393,-77,-49\", \" a=<-26,10,-3>\"]   \n",
       " [\"p=<1355,1483,2334\", \" v=<195,211,331\", \" a=<-12,-19,-17>\"] \n",
       " [\"p=<2570,-849,-414\", \" v=<369,-117,-60\", \" a=<-21,9,9>\"]    \n",
       " [\"p=<313,-1203,-2974\", \" v=<41,-173,-422\", \" a=<-4,16,26>\"]  \n",
       " [\"p=<133,-3658,193\", \" v=<22,-524,27\", \" a=<-4,42,2>\"]       \n",
       " [\"p=<1293,-1644,2714\", \" v=<179,-232,383\", \" a=<-12,15,-33>\"]\n",
       " [\"p=<152,1845,1804\", \" v=<24,263,261\", \" a=<-1,-14,-18>\"]    \n",
       " [\"p=<1059,2077,-1799\", \" v=<154,296,-251\", \" a=<-7,-19,13>\"] \n",
       " [\"p=<-2954,-985,167\", \" v=<-418,-140,23\", \" a=<29,7,-3>\"]    "
      ]
     },
     "execution_count": 6,
     "metadata": {},
     "output_type": "execute_result"
    }
   ],
   "source": [
    "s = open(\"input.txt\") do f\n",
    "    [split(chomp(x),\">,\") for x in readlines(f)]\n",
    "end"
   ]
  },
  {
   "cell_type": "code",
   "execution_count": 25,
   "metadata": {},
   "outputs": [
    {
     "data": {
      "text/plain": [
       "r\"(\\w)=<(.+),(.+),([-\\d]*)\""
      ]
     },
     "execution_count": 25,
     "metadata": {},
     "output_type": "execute_result"
    }
   ],
   "source": [
    "pat =r\"(\\w)=<(.+),(.+),([-\\d]*)\""
   ]
  },
  {
   "cell_type": "code",
   "execution_count": 26,
   "metadata": {},
   "outputs": [
    {
     "data": {
      "text/plain": [
       "RegexMatch(\"p=<1500,413,-535\", 1=\"p\", 2=\"1500\", 3=\"413\", 4=\"-535\")"
      ]
     },
     "execution_count": 26,
     "metadata": {},
     "output_type": "execute_result"
    }
   ],
   "source": [
    "match(pat,s[1][1])"
   ]
  },
  {
   "cell_type": "code",
   "execution_count": 27,
   "metadata": {},
   "outputs": [],
   "source": [
    "particles = []\n",
    "for x in s\n",
    "    p = Dict{String,Array{Int}}()\n",
    "    for y in x\n",
    "        m = match(pat,y)\n",
    "        p[m[1]] = [parse(Int,j) for j in [m[2],m[3],m[4]]]\n",
    "    end\n",
    "    push!(particles,p)\n",
    "end"
   ]
  },
  {
   "cell_type": "code",
   "execution_count": 34,
   "metadata": {},
   "outputs": [
    {
     "data": {
      "text/plain": [
       "3-element Array{Int64,1}:\n",
       " -5\n",
       "  2\n",
       "  1"
      ]
     },
     "execution_count": 34,
     "metadata": {},
     "output_type": "execute_result"
    }
   ],
   "source": [
    "particles[12][\"a\"]"
   ]
  },
  {
   "cell_type": "code",
   "execution_count": 33,
   "metadata": {
    "scrolled": true
   },
   "outputs": [
    {
     "data": {
      "text/plain": [
       "8"
      ]
     },
     "execution_count": 33,
     "metadata": {},
     "output_type": "execute_result"
    }
   ],
   "source": [
    "n1(particles[12][\"a\"])"
   ]
  },
  {
   "cell_type": "code",
   "execution_count": 38,
   "metadata": {},
   "outputs": [
    {
     "data": {
      "text/plain": [
       "1000-element Array{Array{Int64,1},1}:\n",
       " [2, 47, 214]  \n",
       " [2, 161, 166] \n",
       " [2, 464, 199] \n",
       " [3, 109, 248] \n",
       " [3, 142, 193] \n",
       " [3, 301, 102] \n",
       " [3, 503, 221] \n",
       " [4, 1, 202]   \n",
       " [4, 69, 139]  \n",
       " [4, 77, 107]  \n",
       " [4, 151, 74]  \n",
       " [4, 212, 47]  \n",
       " [4, 273, 124] \n",
       " ⋮             \n",
       " [58, 685, 751]\n",
       " [58, 686, 704]\n",
       " [58, 856, 837]\n",
       " [59, 762, 748]\n",
       " [59, 907, 775]\n",
       " [59, 987, 713]\n",
       " [60, 594, 714]\n",
       " [60, 749, 745]\n",
       " [60, 772, 779]\n",
       " [60, 996, 794]\n",
       " [64, 791, 794]\n",
       " [66, 586, 812]"
      ]
     },
     "execution_count": 38,
     "metadata": {},
     "output_type": "execute_result"
    }
   ],
   "source": [
    "sort([[n1(x[\"a\"]),i-1,n1(x[\"v\"])] for (i,x) in enumerate(particles)])"
   ]
  },
  {
   "cell_type": "code",
   "execution_count": 32,
   "metadata": {},
   "outputs": [
    {
     "data": {
      "text/plain": [
       "n1 (generic function with 1 method)"
      ]
     },
     "execution_count": 32,
     "metadata": {},
     "output_type": "execute_result"
    }
   ],
   "source": [
    "n1(v) = sum(map(abs,v))"
   ]
  },
  {
   "cell_type": "code",
   "execution_count": 46,
   "metadata": {},
   "outputs": [
    {
     "data": {
      "text/plain": [
       "apos (generic function with 1 method)"
      ]
     },
     "execution_count": 46,
     "metadata": {},
     "output_type": "execute_result"
    }
   ],
   "source": [
    "apos(k) = [particles[j][\"p\"][i] + k*particles[j][\"v\"][i]+ (k*(k+1))÷2*particles[j][\"a\"][i] for j in 1:1000,i in 1:3] "
   ]
  },
  {
   "cell_type": "code",
   "execution_count": 47,
   "metadata": {},
   "outputs": [
    {
     "data": {
      "text/plain": [
       "1000×3 Array{Int64,2}:\n",
       "  -885   -697    365\n",
       "    95   -577    250\n",
       "  -565    303   -265\n",
       "  -111   -534   -303\n",
       "  -665    -30   -589\n",
       "   -79   -732    457\n",
       "   971   -915   1299\n",
       "  -412   -309   -126\n",
       " -1978    -51   -327\n",
       "   993   2881  -3949\n",
       "   840   5533  -2725\n",
       "  1231  -2763    335\n",
       " -2798   -213  -4765\n",
       "     ⋮              \n",
       "   119   5851  -2709\n",
       " -4522    286  -4194\n",
       "  1204  -4520  -2633\n",
       "  5513   -499  -1451\n",
       "  2840   2368   5259\n",
       "  5585  -1524   -234\n",
       "   448  -1878  -6184\n",
       "   -17  -6478    838\n",
       "  2538  -3324   4499\n",
       "   392   4110   3559\n",
       "  2529   4237  -4004\n",
       " -5744  -2245    152"
      ]
     },
     "execution_count": 47,
     "metadata": {},
     "output_type": "execute_result"
    }
   ],
   "source": [
    "apos(15)"
   ]
  },
  {
   "cell_type": "code",
   "execution_count": 62,
   "metadata": {},
   "outputs": [
    {
     "data": {
      "text/plain": [
       "1000×3×3 Array{Int64,3}:\n",
       "[:, :, 1] =\n",
       "  1500    413   -535\n",
       "    65   1223   -530\n",
       "   260   -387    800\n",
       "   429    726    462\n",
       "  1705   -165   1331\n",
       "   341    693   -473\n",
       "  2816  -2250   1464\n",
       " -1237  -1704   -531\n",
       " -4828   -171   -447\n",
       "  2553   3286  -5524\n",
       "  1065   8038  -3700\n",
       "  1081  -4698    860\n",
       " -4103    102  -7540\n",
       "     ⋮              \n",
       "   299   2821  -1374\n",
       " -2317    106  -1824\n",
       "   784  -2450  -1388\n",
       "  2738   -544   -356\n",
       "  1355   1483   2334\n",
       "  2570   -849   -414\n",
       "   313  -1203  -2974\n",
       "   133  -3658    193\n",
       "  1293  -1644   2714\n",
       "   152   1845   1804\n",
       "  1059   2077  -1799\n",
       " -2954   -985    167\n",
       "\n",
       "[:, :, 2] =\n",
       " -119    22    36\n",
       "  -14  -136    52\n",
       "   49    14  -103\n",
       "  -36   -36   -19\n",
       " -134     9  -104\n",
       "  -28     9   -18\n",
       "  -91    41   149\n",
       "   47   125    35\n",
       "   86     8   -24\n",
       " -128    45    41\n",
       "    1   -87    17\n",
       "   50   113   -43\n",
       "   47   -37   137\n",
       "    ⋮            \n",
       "   44   402  -193\n",
       " -331    20  -262\n",
       "  116  -346  -195\n",
       "  393   -77   -49\n",
       "  195   211   331\n",
       "  369  -117   -60\n",
       "   41  -173  -422\n",
       "   22  -524    27\n",
       "  179  -232   383\n",
       "   24   263   261\n",
       "  154   296  -251\n",
       " -418  -140    23\n",
       "\n",
       "[:, :, 3] =\n",
       "  -5  -12    3\n",
       "   2    2    0\n",
       " -13    4    4\n",
       "   0   -6   -4\n",
       "  -3    0   -3\n",
       "   0  -13   10\n",
       "  -4    6  -20\n",
       "   1   -4   -1\n",
       "  13    0    4\n",
       "   3   -9    8\n",
       "  -2  -10    6\n",
       "  -5    2    1\n",
       "   5    2    6\n",
       "   ⋮          \n",
       "  -7  -25   13\n",
       "  23   -1   13\n",
       " -11   26   14\n",
       " -26   10   -3\n",
       " -12  -19  -17\n",
       " -21    9    9\n",
       "  -4   16   26\n",
       "  -4   42    2\n",
       " -12   15  -33\n",
       "  -1  -14  -18\n",
       "  -7  -19   13\n",
       "  29    7   -3"
      ]
     },
     "execution_count": 62,
     "metadata": {},
     "output_type": "execute_result"
    }
   ],
   "source": [
    "A = [particles[j][k][i]  for j in 1:1000,i in 1:3,k in [\"p\",\"v\",\"a\"]] "
   ]
  },
  {
   "cell_type": "code",
   "execution_count": 64,
   "metadata": {},
   "outputs": [
    {
     "data": {
      "text/plain": [
       "bpos (generic function with 1 method)"
      ]
     },
     "execution_count": 64,
     "metadata": {},
     "output_type": "execute_result"
    }
   ],
   "source": [
    "bpos(k) = A[:,:,1] +  + k*A[:,:,2] + ((k*(k+1))÷2)*A[:,:,3]"
   ]
  },
  {
   "cell_type": "code",
   "execution_count": 63,
   "metadata": {},
   "outputs": [
    {
     "data": {
      "text/plain": [
       "1000×3 Array{Int64,2}:\n",
       "  1500    413   -535\n",
       "    65   1223   -530\n",
       "   260   -387    800\n",
       "   429    726    462\n",
       "  1705   -165   1331\n",
       "   341    693   -473\n",
       "  2816  -2250   1464\n",
       " -1237  -1704   -531\n",
       " -4828   -171   -447\n",
       "  2553   3286  -5524\n",
       "  1065   8038  -3700\n",
       "  1081  -4698    860\n",
       " -4103    102  -7540\n",
       "     ⋮              \n",
       "   299   2821  -1374\n",
       " -2317    106  -1824\n",
       "   784  -2450  -1388\n",
       "  2738   -544   -356\n",
       "  1355   1483   2334\n",
       "  2570   -849   -414\n",
       "   313  -1203  -2974\n",
       "   133  -3658    193\n",
       "  1293  -1644   2714\n",
       "   152   1845   1804\n",
       "  1059   2077  -1799\n",
       " -2954   -985    167"
      ]
     },
     "execution_count": 63,
     "metadata": {},
     "output_type": "execute_result"
    }
   ],
   "source": [
    "A[:,:,1]"
   ]
  },
  {
   "cell_type": "code",
   "execution_count": 65,
   "metadata": {},
   "outputs": [
    {
     "data": {
      "text/plain": [
       "1000×3 Array{Int64,2}:\n",
       "  1500    413   -535\n",
       "    65   1223   -530\n",
       "   260   -387    800\n",
       "   429    726    462\n",
       "  1705   -165   1331\n",
       "   341    693   -473\n",
       "  2816  -2250   1464\n",
       " -1237  -1704   -531\n",
       " -4828   -171   -447\n",
       "  2553   3286  -5524\n",
       "  1065   8038  -3700\n",
       "  1081  -4698    860\n",
       " -4103    102  -7540\n",
       "     ⋮              \n",
       "   299   2821  -1374\n",
       " -2317    106  -1824\n",
       "   784  -2450  -1388\n",
       "  2738   -544   -356\n",
       "  1355   1483   2334\n",
       "  2570   -849   -414\n",
       "   313  -1203  -2974\n",
       "   133  -3658    193\n",
       "  1293  -1644   2714\n",
       "   152   1845   1804\n",
       "  1059   2077  -1799\n",
       " -2954   -985    167"
      ]
     },
     "execution_count": 65,
     "metadata": {},
     "output_type": "execute_result"
    }
   ],
   "source": [
    "apos(0)"
   ]
  },
  {
   "cell_type": "code",
   "execution_count": 69,
   "metadata": {},
   "outputs": [
    {
     "name": "stdout",
     "output_type": "stream",
     "text": [
      "  0.000074 seconds (26 allocations: 141.516 KiB)\n",
      "  0.002268 seconds (13.22 k allocations: 230.172 KiB)\n"
     ]
    },
    {
     "data": {
      "text/plain": [
       "1000×3 Array{Int64,2}:\n",
       "  -885   -697    365\n",
       "    95   -577    250\n",
       "  -565    303   -265\n",
       "  -111   -534   -303\n",
       "  -665    -30   -589\n",
       "   -79   -732    457\n",
       "   971   -915   1299\n",
       "  -412   -309   -126\n",
       " -1978    -51   -327\n",
       "   993   2881  -3949\n",
       "   840   5533  -2725\n",
       "  1231  -2763    335\n",
       " -2798   -213  -4765\n",
       "     ⋮              \n",
       "   119   5851  -2709\n",
       " -4522    286  -4194\n",
       "  1204  -4520  -2633\n",
       "  5513   -499  -1451\n",
       "  2840   2368   5259\n",
       "  5585  -1524   -234\n",
       "   448  -1878  -6184\n",
       "   -17  -6478    838\n",
       "  2538  -3324   4499\n",
       "   392   4110   3559\n",
       "  2529   4237  -4004\n",
       " -5744  -2245    152"
      ]
     },
     "execution_count": 69,
     "metadata": {},
     "output_type": "execute_result"
    }
   ],
   "source": [
    "@time bpos(15)"
   ]
  },
  {
   "cell_type": "code",
   "execution_count": 99,
   "metadata": {},
   "outputs": [
    {
     "data": {
      "text/plain": [
       "562-element Array{Any,1}:\n",
       "  64\n",
       "  65\n",
       "   1\n",
       "   2\n",
       "   3\n",
       "   4\n",
       "   5\n",
       "   6\n",
       " 412\n",
       " 413\n",
       " 414\n",
       " 415\n",
       " 416\n",
       "   ⋮\n",
       "  73\n",
       "  74\n",
       "  75\n",
       "  76\n",
       "  77\n",
       " 395\n",
       " 396\n",
       " 397\n",
       " 398\n",
       " 399\n",
       " 400\n",
       " 401"
      ]
     },
     "execution_count": 99,
     "metadata": {},
     "output_type": "execute_result"
    }
   ],
   "source": [
    "goners=[]\n",
    "for l in 1:1000\n",
    "    x = bpos(l)\n",
    "    track = Dict()\n",
    "    for (y,z) in [(Tuple(x[i,:]),i)  for i in 1:size(x,1) if !(i in goners)]\n",
    "        track[y] = push!(get(track,y,[]),z)\n",
    "    end\n",
    "    goners = vcat(goners,[v for v in values(track) if length(v) > 1]...)\n",
    "#     if !isempty(goners) println(gongon) end\n",
    "end\n",
    "goners"
   ]
  },
  {
   "cell_type": "code",
   "execution_count": null,
   "metadata": {},
   "outputs": [],
   "source": []
  },
  {
   "cell_type": "code",
   "execution_count": 93,
   "metadata": {},
   "outputs": [
    {
     "data": {
      "text/plain": [
       "4×7 Array{Int64,2}:\n",
       " 1  2   3   4   5   6   7\n",
       " 2  4   6   8  10  12  14\n",
       " 3  6   9  12  15  18  21\n",
       " 4  8  12  16  20  24  28"
      ]
     },
     "execution_count": 93,
     "metadata": {},
     "output_type": "execute_result"
    }
   ],
   "source": [
    "B = [i*j for i in 1:4,j in 1:7]"
   ]
  },
  {
   "cell_type": "code",
   "execution_count": 95,
   "metadata": {},
   "outputs": [
    {
     "ename": "DimensionMismatch",
     "evalue": "DimensionMismatch(\"tried to assign 0-element array to 1×7 destination\")",
     "output_type": "error",
     "traceback": [
      "DimensionMismatch(\"tried to assign 0-element array to 1×7 destination\")",
      "",
      "Stacktrace:",
      " [1] throw_setindex_mismatch(::Array{Any,1}, ::Tuple{Int64,Int64}) at ./indices.jl:169",
      " [2] macro expansion at ./indices.jl:221 [inlined]",
      " [3] _unsafe_setindex!(::IndexLinear, ::Array{Int64,2}, ::Array{Any,1}, ::Int64, ::Base.Slice{Base.OneTo{Int64}}) at ./multidimensional.jl:636",
      " [4] _setindex! at ./multidimensional.jl:631 [inlined]",
      " [5] setindex!(::Array{Int64,2}, ::Array{Any,1}, ::Int64, ::Function) at ./abstractarray.jl:998",
      " [6] top-level scope at In[95]:1"
     ]
    }
   ],
   "source": [
    "B[2,:]=[]"
   ]
  },
  {
   "cell_type": "code",
   "execution_count": null,
   "metadata": {},
   "outputs": [],
   "source": []
  }
 ],
 "metadata": {
  "kernelspec": {
   "display_name": "Julia 1.0.1",
   "language": "julia",
   "name": "julia-1.0"
  },
  "language_info": {
   "file_extension": ".jl",
   "mimetype": "application/julia",
   "name": "julia",
   "version": "1.0.1"
  }
 },
 "nbformat": 4,
 "nbformat_minor": 2
}
