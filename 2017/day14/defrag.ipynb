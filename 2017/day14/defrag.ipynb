{
 "cells": [
  {
   "cell_type": "code",
   "execution_count": 1,
   "metadata": {},
   "outputs": [],
   "source": [
    "# My input (key)\n",
    "s = \"ljoxqyyw\""
   ]
  },
  {
   "cell_type": "code",
   "execution_count": 2,
   "metadata": {},
   "outputs": [],
   "source": [
    "def snip_pins(v,pos,l):\n",
    "    N = len(v)\n",
    "    return [v[switchin(i, N, pos, l)] for i in range(N)]\n",
    "    "
   ]
  },
  {
   "cell_type": "code",
   "execution_count": 3,
   "metadata": {},
   "outputs": [],
   "source": [
    "def switchin(i,N,pos,l):\n",
    "    if (i - pos) % N < l:\n",
    "        return (pos + l - 1 - (i-pos)) %N\n",
    "    else: return i"
   ]
  },
  {
   "cell_type": "code",
   "execution_count": 24,
   "metadata": {},
   "outputs": [
    {
     "data": {
      "text/plain": [
       "67"
      ]
     },
     "execution_count": 24,
     "metadata": {},
     "output_type": "execute_result"
    }
   ],
   "source": [
    "0 ^ 67"
   ]
  },
  {
   "cell_type": "code",
   "execution_count": 4,
   "metadata": {},
   "outputs": [],
   "source": [
    "def knothash(hashee):\n",
    "    s = [ord(c) for c in hashee] + [17, 31, 73, 47, 23]\n",
    "    current_pos = 0\n",
    "    skip_size = 0\n",
    "    sout = \"\"\n",
    "    t = list(range(256))\n",
    "    for _ in range(64):\n",
    "        for l in s:\n",
    "            t = snip_pins(t,current_pos,l)\n",
    "            current_pos += l + skip_size\n",
    "            skip_size += 1\n",
    "    for i in range(16):\n",
    "        tot = 0\n",
    "        for j in range(16):\n",
    "            tot ^= t[i*16+j]\n",
    "        h = hex(tot)[-2:]\n",
    "        if h[0] == 'x':\n",
    "            h = '0' + h[1]\n",
    "        sout += h\n",
    "    return sout"
   ]
  },
  {
   "cell_type": "code",
   "execution_count": 5,
   "metadata": {},
   "outputs": [
    {
     "data": {
      "text/plain": [
       "'a2582a3a0e66e6e86e3812dcb672a272'"
      ]
     },
     "execution_count": 5,
     "metadata": {},
     "output_type": "execute_result"
    }
   ],
   "source": [
    "knothash(\"\")"
   ]
  },
  {
   "cell_type": "code",
   "execution_count": 7,
   "metadata": {},
   "outputs": [
    {
     "data": {
      "text/plain": [
       "True"
      ]
     },
     "execution_count": 7,
     "metadata": {},
     "output_type": "execute_result"
    }
   ],
   "source": [
    "knothash(\"AoC 2017\") == \"33efeb34ea91902bb2f59c9920caa6cd\""
   ]
  },
  {
   "cell_type": "code",
   "execution_count": 39,
   "metadata": {},
   "outputs": [
    {
     "data": {
      "text/plain": [
       "'3efbe78a8d82f29979031a4aa0b16a9d'"
      ]
     },
     "execution_count": 39,
     "metadata": {},
     "output_type": "execute_result"
    }
   ],
   "source": [
    "knothash(\"1,2,3\")"
   ]
  },
  {
   "cell_type": "code",
   "execution_count": 40,
   "metadata": {},
   "outputs": [
    {
     "data": {
      "text/plain": [
       "'63960835bcdc130f0b66d7ff4f6a5a8e'"
      ]
     },
     "execution_count": 40,
     "metadata": {},
     "output_type": "execute_result"
    }
   ],
   "source": [
    "knothash(\"1,2,4\")"
   ]
  },
  {
   "cell_type": "code",
   "execution_count": 41,
   "metadata": {},
   "outputs": [
    {
     "data": {
      "text/plain": [
       "'28e7c4360520718a5dc811d3942cf1fd'"
      ]
     },
     "execution_count": 41,
     "metadata": {},
     "output_type": "execute_result"
    }
   ],
   "source": [
    "knothash(\"31,2,85,1,80,109,35,63,98,255,0,13,105,254,128,33\")"
   ]
  },
  {
   "cell_type": "markdown",
   "metadata": {},
   "source": [
    "The empty string becomes a2582a3a0e66e6e86e3812dcb672a272.\n",
    "AoC 2017 becomes 33efeb34ea91902bb2f59c9920caa6cd.\n",
    "1,2,3 becomes 3efbe78a8d82f29979031a4aa0b16a9d.\n",
    "1,2,4 becomes 63960835bcdc130f0b66d7ff4f6a5a8e."
   ]
  },
  {
   "cell_type": "code",
   "execution_count": 14,
   "metadata": {},
   "outputs": [
    {
     "data": {
      "text/plain": [
       "'0b110011111011111110101100110100111010101001000110010000001010111011001011110101100111001001100100100000110010101010011011001101'"
      ]
     },
     "execution_count": 14,
     "metadata": {},
     "output_type": "execute_result"
    }
   ],
   "source": [
    "bin(int(\"33efeb34ea91902bb2f59c9920caa6cd\",16))"
   ]
  },
  {
   "cell_type": "code",
   "execution_count": 16,
   "metadata": {},
   "outputs": [
    {
     "data": {
      "text/plain": [
       "'00110011111011111110101100110100111010101001000110010000001010111011001011110101100111001001100100100000110010101010011011001101'"
      ]
     },
     "execution_count": 16,
     "metadata": {},
     "output_type": "execute_result"
    }
   ],
   "source": [
    "bin(int(\"33efeb34ea91902bb2f59c9920caa6cd\",16))[2:].zfill(128)"
   ]
  },
  {
   "cell_type": "raw",
   "metadata": {},
   "source": [
    "import numpy as np"
   ]
  },
  {
   "cell_type": "code",
   "execution_count": 27,
   "metadata": {},
   "outputs": [],
   "source": [
    "disk = np.zeros([128,128])"
   ]
  },
  {
   "cell_type": "code",
   "execution_count": 22,
   "metadata": {},
   "outputs": [],
   "source": [
    "tot = 0\n",
    "for n in range(128):\n",
    "    h = knothash(f\"{s}-{n}\")\n",
    "    bh = bin(int(h,16))[2:].zfill(128)\n",
    "    tot += sum([int(c) for c in bh])"
   ]
  },
  {
   "cell_type": "code",
   "execution_count": 30,
   "metadata": {},
   "outputs": [],
   "source": [
    "r = np.ndarray([4,9])"
   ]
  },
  {
   "cell_type": "code",
   "execution_count": 40,
   "metadata": {},
   "outputs": [
    {
     "data": {
      "text/plain": [
       "5.154406309673401e-62"
      ]
     },
     "execution_count": 40,
     "metadata": {},
     "output_type": "execute_result"
    }
   ],
   "source": [
    "r[1,2]"
   ]
  },
  {
   "cell_type": "code",
   "execution_count": 28,
   "metadata": {
    "scrolled": true
   },
   "outputs": [
    {
     "data": {
      "text/plain": [
       "array([1, 2, 3, 4, 5, 5, 5, 5, 5])"
      ]
     },
     "execution_count": 28,
     "metadata": {},
     "output_type": "execute_result"
    }
   ],
   "source": [
    "np.array([1,2,3,4,5,5,5,5,5])"
   ]
  },
  {
   "cell_type": "code",
   "execution_count": 73,
   "metadata": {},
   "outputs": [],
   "source": [
    "tot = 0\n",
    "for n in range(128):\n",
    "    h = knothash(f\"{s}-{n}\")\n",
    "    bh = bin(int(h,16))[2:].zfill(128)\n",
    "    disk[n] = [int(c) for c in bh]"
   ]
  },
  {
   "cell_type": "code",
   "execution_count": 74,
   "metadata": {},
   "outputs": [],
   "source": [
    "reg = 1\n",
    "regdata = {}\n",
    "for i in range(128):\n",
    "    for j in range(128):\n",
    "        if disk[i,j] == 1:\n",
    "            regdata[(i,j)] = regdata.get((i,j),[])\n",
    "            if i<127 and disk[i+1,j] == 1:\n",
    "                regdata[(i,j)] += [(i+1,j)]\n",
    "            if j<127 and disk[i,j+1] == 1:\n",
    "                regdata[(i,j)] += [(i,j+1)]\n",
    "            if i>0 and disk[i-1,j] == 1:\n",
    "                regdata[(i,j)] += [(i-1,j)]\n",
    "            if j>0 and disk[i,j-1] == 1:\n",
    "                regdata[(i,j)] += [(i,j-1)]\n"
   ]
  },
  {
   "cell_type": "code",
   "execution_count": 75,
   "metadata": {},
   "outputs": [
    {
     "data": {
      "text/plain": [
       "[[(0, 0), [(0, 1)]],\n",
       " [(0, 1), [(1, 1), (0, 2), (0, 0)]],\n",
       " [(0, 2), [(1, 2), (0, 1)]],\n",
       " [(0, 4), [(0, 5)]],\n",
       " [(0, 5), [(0, 4)]],\n",
       " [(1, 1), [(1, 2), (0, 1)]],\n",
       " [(1, 2), [(2, 2), (1, 3), (0, 2), (1, 1)]],\n",
       " [(1, 3), [(2, 3), (1, 2)]],\n",
       " [(2, 0), [(3, 0)]],\n",
       " [(2, 2), [(2, 3), (1, 2)]],\n",
       " [(2, 3), [(2, 4), (1, 3), (2, 2)]],\n",
       " [(2, 4), [(3, 4), (2, 5), (2, 3)]],\n",
       " [(2, 5), [(3, 5), (2, 6), (2, 4)]],\n",
       " [(3, 0), [(4, 0), (3, 1), (2, 0)]],\n",
       " [(3, 1), [(4, 1), (3, 0)]],\n",
       " [(3, 4), [(3, 5), (2, 4)]],\n",
       " [(3, 5), [(3, 6), (2, 5), (3, 4)]],\n",
       " [(4, 0), [(4, 1), (3, 0)]],\n",
       " [(4, 1), [(4, 2), (3, 1), (4, 0)]],\n",
       " [(4, 2), [(4, 3), (4, 1)]],\n",
       " [(4, 3), [(4, 2)]],\n",
       " [(5, 5), []]]"
      ]
     },
     "execution_count": 75,
     "metadata": {},
     "output_type": "execute_result"
    }
   ],
   "source": [
    "[[(i,j),regdata[(i,j)]] for i in range(6) for j in range(6) if (i,j) in regdata]"
   ]
  },
  {
   "cell_type": "code",
   "execution_count": 76,
   "metadata": {},
   "outputs": [
    {
     "data": {
      "text/plain": [
       "array([[1., 1., 1., 0., 1., 1.],\n",
       "       [0., 1., 1., 1., 0., 0.],\n",
       "       [1., 0., 1., 1., 1., 1.],\n",
       "       [1., 1., 0., 0., 1., 1.],\n",
       "       [1., 1., 1., 1., 0., 0.],\n",
       "       [0., 0., 0., 0., 0., 1.]])"
      ]
     },
     "execution_count": 76,
     "metadata": {},
     "output_type": "execute_result"
    }
   ],
   "source": [
    "disk[0:6,0:6]"
   ]
  },
  {
   "cell_type": "code",
   "execution_count": 77,
   "metadata": {},
   "outputs": [],
   "source": [
    "def find_dists(node):\n",
    "    node_distances = {node : 0}\n",
    "    for d in range(len(regdata)):\n",
    "        leafs = [k for (k,v) in node_distances.items() if v == d]\n",
    "        for l in leafs:\n",
    "            for n in regdata[l]:\n",
    "                node_distances[n] = node_distances.get(n,d+1)\n",
    "    return node_distances\n"
   ]
  },
  {
   "cell_type": "code",
   "execution_count": 78,
   "metadata": {},
   "outputs": [],
   "source": [
    "n0 = find_dists((2,2))\n",
    "gps = 1\n",
    "eqcl = [n0]\n",
    "leftovers = list(set(regdata.keys()).difference(set(n0.keys())))\n",
    "while len(leftovers) > 0:\n",
    "    node = leftovers[0]\n",
    "    n0 = find_dists(node)\n",
    "    eqcl.append(n0)\n",
    "    leftovers = list(set(leftovers).difference(set(n0.keys())))\n"
   ]
  },
  {
   "cell_type": "code",
   "execution_count": 79,
   "metadata": {},
   "outputs": [
    {
     "data": {
      "text/plain": [
       "1074"
      ]
     },
     "execution_count": 79,
     "metadata": {},
     "output_type": "execute_result"
    }
   ],
   "source": [
    "len(eqcl)"
   ]
  },
  {
   "cell_type": "code",
   "execution_count": null,
   "metadata": {},
   "outputs": [],
   "source": []
  }
 ],
 "metadata": {
  "kernelspec": {
   "display_name": "Python 3",
   "language": "python",
   "name": "python3"
  },
  "language_info": {
   "codemirror_mode": {
    "name": "ipython",
    "version": 3
   },
   "file_extension": ".py",
   "mimetype": "text/x-python",
   "name": "python",
   "nbconvert_exporter": "python",
   "pygments_lexer": "ipython3",
   "version": "3.6.6"
  }
 },
 "nbformat": 4,
 "nbformat_minor": 2
}
