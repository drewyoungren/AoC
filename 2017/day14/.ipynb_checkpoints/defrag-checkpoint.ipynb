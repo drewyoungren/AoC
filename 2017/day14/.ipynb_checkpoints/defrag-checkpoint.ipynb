{
 "cells": [
  {
   "cell_type": "code",
   "execution_count": 1,
   "metadata": {},
   "outputs": [],
   "source": [
    "# My input (key)\n",
    "s = \"ljoxqyyw\""
   ]
  },
  {
   "cell_type": "code",
   "execution_count": 2,
   "metadata": {},
   "outputs": [],
   "source": [
    "def snip_pins(v,pos,l):\n",
    "    N = len(v)\n",
    "    return [v[switchin(i, N, pos, l)] for i in range(N)]\n",
    "    "
   ]
  },
  {
   "cell_type": "code",
   "execution_count": 3,
   "metadata": {},
   "outputs": [],
   "source": [
    "def switchin(i,N,pos,l):\n",
    "    if (i - pos) % N < l:\n",
    "        return (pos + l - 1 - (i-pos)) %N\n",
    "    else: return i"
   ]
  },
  {
   "cell_type": "code",
   "execution_count": 4,
   "metadata": {},
   "outputs": [],
   "source": [
    "def knothash(hashee):\n",
    "    s = [ord(c) for c in hashee] + [17, 31, 73, 47, 23]\n",
    "    current_pos = 0\n",
    "    skip_size = 0\n",
    "    sout = \"\"\n",
    "    t = list(range(256))\n",
    "    for _ in range(64):\n",
    "        for l in s:\n",
    "            t = snip_pins(t,current_pos,l)\n",
    "            current_pos += l + skip_size\n",
    "            skip_size += 1\n",
    "    for i in range(16):\n",
    "        tot = 0\n",
    "        for j in range(16):\n",
    "            tot ^= t[i*16+j]\n",
    "        h = hex(tot)[-2:]\n",
    "        if h[0] == 'x':\n",
    "            h = '0' + h[1]\n",
    "        sout += h\n",
    "    return sout"
   ]
  },
  {
   "cell_type": "code",
   "execution_count": 5,
   "metadata": {},
   "outputs": [
    {
     "data": {
      "text/plain": [
       "'a2582a3a0e66e6e86e3812dcb672a272'"
      ]
     },
     "execution_count": 5,
     "metadata": {},
     "output_type": "execute_result"
    }
   ],
   "source": [
    "knothash(\"\")"
   ]
  },
  {
   "cell_type": "code",
   "execution_count": 7,
   "metadata": {},
   "outputs": [
    {
     "data": {
      "text/plain": [
       "True"
      ]
     },
     "execution_count": 7,
     "metadata": {},
     "output_type": "execute_result"
    }
   ],
   "source": [
    "knothash(\"AoC 2017\") == \"33efeb34ea91902bb2f59c9920caa6cd\""
   ]
  },
  {
   "cell_type": "code",
   "execution_count": 39,
   "metadata": {},
   "outputs": [
    {
     "data": {
      "text/plain": [
       "'3efbe78a8d82f29979031a4aa0b16a9d'"
      ]
     },
     "execution_count": 39,
     "metadata": {},
     "output_type": "execute_result"
    }
   ],
   "source": [
    "knothash(\"1,2,3\")"
   ]
  },
  {
   "cell_type": "code",
   "execution_count": 40,
   "metadata": {},
   "outputs": [
    {
     "data": {
      "text/plain": [
       "'63960835bcdc130f0b66d7ff4f6a5a8e'"
      ]
     },
     "execution_count": 40,
     "metadata": {},
     "output_type": "execute_result"
    }
   ],
   "source": [
    "knothash(\"1,2,4\")"
   ]
  },
  {
   "cell_type": "code",
   "execution_count": 41,
   "metadata": {},
   "outputs": [
    {
     "data": {
      "text/plain": [
       "'28e7c4360520718a5dc811d3942cf1fd'"
      ]
     },
     "execution_count": 41,
     "metadata": {},
     "output_type": "execute_result"
    }
   ],
   "source": [
    "knothash(\"31,2,85,1,80,109,35,63,98,255,0,13,105,254,128,33\")"
   ]
  },
  {
   "cell_type": "markdown",
   "metadata": {},
   "source": [
    "The empty string becomes a2582a3a0e66e6e86e3812dcb672a272.\n",
    "AoC 2017 becomes 33efeb34ea91902bb2f59c9920caa6cd.\n",
    "1,2,3 becomes 3efbe78a8d82f29979031a4aa0b16a9d.\n",
    "1,2,4 becomes 63960835bcdc130f0b66d7ff4f6a5a8e."
   ]
  },
  {
   "cell_type": "code",
   "execution_count": 14,
   "metadata": {},
   "outputs": [
    {
     "data": {
      "text/plain": [
       "'0b110011111011111110101100110100111010101001000110010000001010111011001011110101100111001001100100100000110010101010011011001101'"
      ]
     },
     "execution_count": 14,
     "metadata": {},
     "output_type": "execute_result"
    }
   ],
   "source": [
    "bin(int(\"33efeb34ea91902bb2f59c9920caa6cd\",16))"
   ]
  },
  {
   "cell_type": "code",
   "execution_count": 16,
   "metadata": {},
   "outputs": [
    {
     "data": {
      "text/plain": [
       "'00110011111011111110101100110100111010101001000110010000001010111011001011110101100111001001100100100000110010101010011011001101'"
      ]
     },
     "execution_count": 16,
     "metadata": {},
     "output_type": "execute_result"
    }
   ],
   "source": [
    "bin(int(\"33efeb34ea91902bb2f59c9920caa6cd\",16))[2:].zfill(128)"
   ]
  },
  {
   "cell_type": "code",
   "execution_count": 24,
   "metadata": {},
   "outputs": [],
   "source": [
    "import numpy as np"
   ]
  },
  {
   "cell_type": "code",
   "execution_count": null,
   "metadata": {},
   "outputs": [],
   "source": []
  },
  {
   "cell_type": "code",
   "execution_count": 22,
   "metadata": {},
   "outputs": [],
   "source": [
    "tot = 0\n",
    "for n in range(128):\n",
    "    h = knothash(f\"{s}-{n}\")\n",
    "    bh = bin(int(h,16))[2:].zfill(128)\n",
    "    tot += sum([int(c) for c in bh])"
   ]
  },
  {
   "cell_type": "code",
   "execution_count": 23,
   "metadata": {},
   "outputs": [
    {
     "data": {
      "text/plain": [
       "8316"
      ]
     },
     "execution_count": 23,
     "metadata": {},
     "output_type": "execute_result"
    }
   ],
   "source": [
    "tot"
   ]
  },
  {
   "cell_type": "code",
   "execution_count": null,
   "metadata": {},
   "outputs": [],
   "source": []
  }
 ],
 "metadata": {
  "kernelspec": {
   "display_name": "Python 3",
   "language": "python",
   "name": "python3"
  },
  "language_info": {
   "codemirror_mode": {
    "name": "ipython",
    "version": 3
   },
   "file_extension": ".py",
   "mimetype": "text/x-python",
   "name": "python",
   "nbconvert_exporter": "python",
   "pygments_lexer": "ipython3",
   "version": "3.6.6"
  }
 },
 "nbformat": 4,
 "nbformat_minor": 2
}
