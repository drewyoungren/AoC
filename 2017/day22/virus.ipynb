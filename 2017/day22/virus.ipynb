{
 "cells": [
  {
   "cell_type": "code",
   "execution_count": 31,
   "metadata": {},
   "outputs": [
    {
     "data": {
      "text/plain": [
       "25×25 Array{Char,2}:\n",
       " '.'  '#'  '.'  '#'  '.'  '#'  '.'  '#'  …  '#'  '.'  '.'  '#'  '.'  '#'  '.'\n",
       " '.'  '#'  '#'  '#'  '#'  '.'  '.'  '.'     '.'  '.'  '#'  '#'  '.'  '#'  '.'\n",
       " '.'  '.'  '.'  '#'  '.'  '#'  '#'  '#'     '#'  '.'  '.'  '.'  '#'  '.'  '#'\n",
       " '.'  '#'  '#'  '#'  '.'  '.'  '#'  '#'     '.'  '#'  '#'  '.'  '.'  '.'  '#'\n",
       " '.'  '#'  '#'  '#'  '#'  '.'  '.'  '.'     '#'  '.'  '#'  '.'  '.'  '#'  '#'\n",
       " '.'  '.'  '#'  '.'  '.'  '.'  '#'  '#'  …  '#'  '.'  '.'  '.'  '.'  '#'  '.'\n",
       " '#'  '#'  '#'  '.'  '#'  '#'  '.'  '.'     '.'  '#'  '#'  '.'  '#'  '#'  '#'\n",
       " '.'  '.'  '#'  '#'  '#'  '.'  '.'  '.'     '#'  '#'  '#'  '.'  '#'  '.'  '#'\n",
       " '#'  '#'  '#'  '#'  '.'  '#'  '#'  '.'     '.'  '.'  '#'  '#'  '#'  '#'  '#'\n",
       " '.'  '#'  '#'  '#'  '.'  '#'  '#'  '.'     '#'  '#'  '#'  '.'  '#'  '#'  '.'\n",
       " '.'  '#'  '.'  '.'  '.'  '#'  '#'  '#'  …  '.'  '.'  '#'  '.'  '#'  '.'  '#'\n",
       " '.'  '#'  '#'  '#'  '#'  '#'  '#'  '.'     '.'  '#'  '.'  '#'  '#'  '.'  '#'\n",
       " '.'  '.'  '.'  '#'  '.'  '#'  '#'  '#'     '#'  '#'  '#'  '.'  '#'  '.'  '.'\n",
       " '#'  '#'  '.'  '.'  '#'  '.'  '#'  '.'     '.'  '#'  '.'  '#'  '#'  '#'  '#'\n",
       " '#'  '#'  '#'  '.'  '#'  '#'  '.'  '#'     '#'  '#'  '#'  '#'  '#'  '#'  '.'\n",
       " '#'  '.'  '#'  '#'  '#'  '.'  '.'  '#'  …  '.'  '.'  '.'  '#'  '.'  '#'  '#'\n",
       " '#'  '#'  '#'  '#'  '#'  '#'  '.'  '.'     '.'  '.'  '.'  '.'  '.'  '.'  '#'\n",
       " '.'  '.'  '.'  '#'  '.'  '#'  '.'  '.'     '#'  '.'  '.'  '.'  '.'  '#'  '#'\n",
       " '#'  '#'  '.'  '#'  '#'  '#'  '#'  '.'     '#'  '.'  '.'  '#'  '.'  '.'  '.'\n",
       " '#'  '.'  '.'  '.'  '.'  '#'  '#'  '.'     '.'  '.'  '#'  '#'  '.'  '#'  '.'\n",
       " '.'  '#'  '.'  '#'  '.'  '#'  '#'  '.'  …  '.'  '#'  '#'  '#'  '#'  '.'  '.'\n",
       " '#'  '#'  '.'  '.'  '.'  '.'  '#'  '.'     '#'  '#'  '#'  '#'  '.'  '#'  '.'\n",
       " '.'  '.'  '.'  '.'  '.'  '.'  '.'  '.'     '#'  '.'  '#'  '.'  '.'  '.'  '#'\n",
       " '.'  '.'  '#'  '#'  '#'  '#'  '#'  '.'     '#'  '#'  '#'  '#'  '#'  '#'  '.'\n",
       " '.'  '#'  '.'  '#'  '.'  '#'  '#'  '#'     '#'  '#'  '.'  '#'  '#'  '.'  '#'"
      ]
     },
     "execution_count": 31,
     "metadata": {},
     "output_type": "execute_result"
    }
   ],
   "source": [
    "s = open(\"input.txt\") do f\n",
    "    hcat([collect(chomp(x)) for x in readlines(f)]...)\n",
    "end\n",
    "\n",
    "b = [s[j,i] for j in 1:25,i in 1:25]"
   ]
  },
  {
   "cell_type": "code",
   "execution_count": 10,
   "metadata": {},
   "outputs": [
    {
     "data": {
      "text/plain": [
       "([0, 0], 1)"
      ]
     },
     "execution_count": 10,
     "metadata": {},
     "output_type": "execute_result"
    }
   ],
   "source": [
    "infected = Set()\n",
    "n=length(s[1,:])\n",
    "for i in 1:n,j in 1:n\n",
    "    if b[i,j] == '#'\n",
    "        push!(infected,(j-13,13-i))\n",
    "    end\n",
    "end\n",
    "pos=([0,0],1)\n",
    "    "
   ]
  },
  {
   "cell_type": "code",
   "execution_count": 6,
   "metadata": {},
   "outputs": [
    {
     "data": {
      "text/plain": [
       "4-element Array{Char,1}:\n",
       " 'n'\n",
       " 'e'\n",
       " 's'\n",
       " 'w'"
      ]
     },
     "execution_count": 6,
     "metadata": {},
     "output_type": "execute_result"
    }
   ],
   "source": [
    "CARD = collect(\"nesw\")"
   ]
  },
  {
   "cell_type": "code",
   "execution_count": 7,
   "metadata": {},
   "outputs": [
    {
     "data": {
      "text/plain": [
       "Set(Any[(0, 0), (-12, -3), (8, -10), (7, -1), (7, -11), (8, 9), (9, 1), (6, -2), (9, -7), (-11, -1)  …  (-2, -5), (8, -11), (-4, 1), (-1, 9), (4, -7), (-10, -11), (1, -3), (-1, -7), (-2, 6), (-5, 9), (2, -10)])"
      ]
     },
     "execution_count": 7,
     "metadata": {},
     "output_type": "execute_result"
    }
   ],
   "source": [
    "infected"
   ]
  },
  {
   "cell_type": "code",
   "execution_count": 8,
   "metadata": {},
   "outputs": [
    {
     "data": {
      "text/plain": [
       "315"
      ]
     },
     "execution_count": 8,
     "metadata": {},
     "output_type": "execute_result"
    }
   ],
   "source": [
    "length(infected)"
   ]
  },
  {
   "cell_type": "code",
   "execution_count": 16,
   "metadata": {},
   "outputs": [
    {
     "data": {
      "text/plain": [
       "Dict{Int64,Array{Int64,1}} with 4 entries:\n",
       "  4 => [-1, 0]\n",
       "  2 => [1, 0]\n",
       "  3 => [0, -1]\n",
       "  1 => [0, 1]"
      ]
     },
     "execution_count": 16,
     "metadata": {},
     "output_type": "execute_result"
    }
   ],
   "source": [
    "DIR = Dict(1 => [0,1],2 => [1,0],3 => [0,-1],4 => [-1,0])"
   ]
  },
  {
   "cell_type": "code",
   "execution_count": 64,
   "metadata": {
    "scrolled": false
   },
   "outputs": [
    {
     "data": {
      "text/plain": [
       "update (generic function with 2 methods)"
      ]
     },
     "execution_count": 64,
     "metadata": {},
     "output_type": "execute_result"
    }
   ],
   "source": [
    "function update(pos)\n",
    "    global total,infected\n",
    "    v,i = pos\n",
    "    if Tuple(v) in infected\n",
    "        delete!(infected,Tuple(v))\n",
    "        i = mod1(i+1,4)\n",
    "    else\n",
    "        push!(infected,Tuple(v))\n",
    "        i = mod1(i-1,4)\n",
    "        total += 1\n",
    "    end\n",
    "    return [v+DIR[i],i]\n",
    "end\n",
    "    "
   ]
  },
  {
   "cell_type": "code",
   "execution_count": 96,
   "metadata": {},
   "outputs": [
    {
     "name": "stdout",
     "output_type": "stream",
     "text": [
      ". . . . . . # . # . . . . # # # # . # # . # . . . \n",
      "# # . # # . # . # # # # . # # . # . # . # # . . # \n",
      ". # . # # # # # # # . # . . # # # . . . . . . # . \n",
      "# # # # # . . # # # . # # . . # # # # . # . . # # \n",
      ". # . . # . # # . . . # . # # # # . # . . . . # . \n",
      "# . # . . . # . # # # # # . # . # # # # # . . # # \n",
      ". . # # . # . . # # # # # # . . . . # # # # . # # \n",
      "# . # # . # . . . . # . # . # # . . . . . . . . # \n",
      ". # . . . . # . . . . # # # . # . . . . # # # # . \n",
      ". . . . # . . # # . # . # . # # . # . . . . # . # \n",
      ". # . # # . # . # # # # . . # . . # . # # . . # # \n",
      "# # . # # # # . # . . # # # . . . # . # . . . # # \n",
      ". . . . # . . . . # . . # . . # # # # . # # . . . \n",
      ". . # . # . # . # . . # . # # # . . . # . . . # # \n",
      ". # . . # . . # # . . # # . # . # . . # # . # . . \n",
      "# # # # . # . # . . . # # . # . . # # . # # # . . \n",
      "# # # . # . . . . # . . . # . . # . . # . . . # # \n",
      ". # # . . . . # # . . . . . . . # # # # . # . # # \n",
      "# . # . # # . # . # . . # . # . . # # . . # # # # \n",
      ". . . # . . # # . # . # # # # . . . . . # # . # # \n",
      ". # . # # . # # # # # . # . # . . . . # # # # # . \n",
      "# # . . . . . . # . . # . # # # . . # # # # . # # \n",
      ". . # . . . # # # # # # # # # . . . . . # . . # # \n",
      "# # . . # # # . # # . . . # # # . # . # . # . # . \n",
      ". . # # # . # # # . # # . # . # # # . . . . # . # \n",
      "5259 Any[[-6, -6], 3]\n"
     ]
    }
   ],
   "source": [
    "infected = Set()\n",
    "\n",
    "n=length(b[1,:])\n",
    "for i in 1:n,j in 1:n\n",
    "    if b[j,i] == '#'\n",
    "        push!(infected,(j-13,13-i))\n",
    "    end\n",
    "end\n",
    "pretty(infected)\n",
    "total = 0\n",
    "# infected=Set([(1,1),(-1,0)]) # test\n",
    "pos=([0,0],1)\n",
    "\n",
    "for i in 1:10000\n",
    "    global pos\n",
    "    pos = update(pos)\n",
    "#     pretty(infected)\n",
    "#     println(pos,infected)\n",
    "end\n",
    "println(total,\" \",pos)"
   ]
  },
  {
   "cell_type": "code",
   "execution_count": 89,
   "metadata": {},
   "outputs": [
    {
     "data": {
      "text/plain": [
       "pretty (generic function with 1 method)"
      ]
     },
     "execution_count": 89,
     "metadata": {},
     "output_type": "execute_result"
    }
   ],
   "source": [
    "function pretty(pts)\n",
    "    x2 = maximum([abs(x[1]) for x in pts])\n",
    "    y2 = maximum([abs(x[2]) for x in pts])\n",
    "#     x1 = minimum([x[1] for x in pts])\n",
    "#     y1 = minimum([x[2] for x in pts])\n",
    "#     println(x1,x2,y1,y2)\n",
    "    for i in y2:-1:-y2\n",
    "        for j in -x2:x2\n",
    "            if (j,i) in pts\n",
    "                print(\"# \")\n",
    "            else\n",
    "                print(\". \")\n",
    "            end\n",
    "        end\n",
    "        print(\"\\n\")\n",
    "    end\n",
    "    \n",
    "end"
   ]
  },
  {
   "cell_type": "code",
   "execution_count": 81,
   "metadata": {},
   "outputs": [
    {
     "name": "stdout",
     "output_type": "stream",
     "text": [
      "#..#.\n"
     ]
    }
   ],
   "source": [
    "pretty(infected)"
   ]
  },
  {
   "cell_type": "code",
   "execution_count": 70,
   "metadata": {},
   "outputs": [
    {
     "data": {
      "text/plain": [
       "Set(Tuple{Int64,Int64}[(0, 0), (-2, 1), (1, 1), (-1, 0), (-2, 0)])"
      ]
     },
     "execution_count": 70,
     "metadata": {},
     "output_type": "execute_result"
    }
   ],
   "source": [
    "infected"
   ]
  },
  {
   "cell_type": "markdown",
   "metadata": {},
   "source": [
    "## 2"
   ]
  },
  {
   "cell_type": "code",
   "execution_count": 101,
   "metadata": {
    "scrolled": false
   },
   "outputs": [
    {
     "data": {
      "text/plain": [
       "update (generic function with 2 methods)"
      ]
     },
     "execution_count": 101,
     "metadata": {},
     "output_type": "execute_result"
    }
   ],
   "source": [
    "function update(pos)\n",
    "    global total,infected\n",
    "    v,i = pos\n",
    "    status = get(infected,Tuple(v),\".\")\n",
    "    if status == \"F\"\n",
    "        delete!(infected,Tuple(v))\n",
    "        i = mod1(i+2,4)\n",
    "    elseif status == \"#\"\n",
    "        infected[Tuple(v)] = \"F\"\n",
    "        i = mod1(i+1,4)\n",
    "    elseif status == \"W\"\n",
    "        infected[Tuple(v)] = \"#\"\n",
    "        total += 1\n",
    "    else\n",
    "        infected[Tuple(v)] = \"W\"\n",
    "        i = mod1(i-1,4)\n",
    "    end\n",
    "    return [v+DIR[i],i]\n",
    "end\n",
    "    "
   ]
  },
  {
   "cell_type": "code",
   "execution_count": 104,
   "metadata": {},
   "outputs": [
    {
     "data": {
      "text/plain": [
       "pretty (generic function with 1 method)"
      ]
     },
     "execution_count": 104,
     "metadata": {},
     "output_type": "execute_result"
    }
   ],
   "source": [
    "function pretty(pts)\n",
    "    x2 = maximum([abs(x[1]) for x in keys(pts)])\n",
    "    y2 = maximum([abs(x[2]) for x in keys(pts)])\n",
    "#     x1 = minimum([x[1] for x in pts])\n",
    "#     y1 = minimum([x[2] for x in pts])\n",
    "#     println(x1,x2,y1,y2)\n",
    "    for i in y2:-1:-y2\n",
    "        for j in -x2:x2\n",
    "            print(get(infected,(j,i),\".\")*\" \")\n",
    "        end\n",
    "        print(\"\\n\")\n",
    "    end\n",
    "    \n",
    "end"
   ]
  },
  {
   "cell_type": "code",
   "execution_count": 109,
   "metadata": {},
   "outputs": [
    {
     "name": "stdout",
     "output_type": "stream",
     "text": [
      ". . . . . . # . # . . . . # # # # . # # . # . . . \n",
      "# # . # # . # . # # # # . # # . # . # . # # . . # \n",
      ". # . # # # # # # # . # . . # # # . . . . . . # . \n",
      "# # # # # . . # # # . # # . . # # # # . # . . # # \n",
      ". # . . # . # # . . . # . # # # # . # . . . . # . \n",
      "# . # . . . # . # # # # # . # . # # # # # . . # # \n",
      ". . # # . # . . # # # # # # . . . . # # # # . # # \n",
      "# . # # . # . . . . # . # . # # . . . . . . . . # \n",
      ". # . . . . # . . . . # # # . # . . . . # # # # . \n",
      ". . . . # . . # # . # . # . # # . # . . . . # . # \n",
      ". # . # # . # . # # # # . . # . . # . # # . . # # \n",
      "# # . # # # # . # . . # # # . . . # . # . . . # # \n",
      ". . . . # . . . . # . . # . . # # # # . # # . . . \n",
      ". . # . # . # . # . . # . # # # . . . # . . . # # \n",
      ". # . . # . . # # . . # # . # . # . . # # . # . . \n",
      "# # # # . # . # . . . # # . # . . # # . # # # . . \n",
      "# # # . # . . . . # . . . # . . # . . # . . . # # \n",
      ". # # . . . . # # . . . . . . . # # # # . # . # # \n",
      "# . # . # # . # . # . . # . # . . # # . . # # # # \n",
      ". . . # . . # # . # . # # # # . . . . . # # . # # \n",
      ". # . # # . # # # # # . # . # . . . . # # # # # . \n",
      "# # . . . . . . # . . # . # # # . . # # # # . # # \n",
      ". . # . . . # # # # # # # # # . . . . . # . . # # \n",
      "# # . . # # # . # # . . . # # # . # . # . # . # . \n",
      ". . # # # . # # # . # # . # . # # # . . . . # . # \n",
      "2511722 Any[[-148, 18], 3]\n"
     ]
    }
   ],
   "source": [
    "infected = Dict{Tuple,String}()\n",
    "\n",
    "n=length(b[1,:])\n",
    "for i in 1:n,j in 1:n\n",
    "    if b[j,i] == '#'\n",
    "        infected[(j-13,13-i)] = \"#\"\n",
    "    end\n",
    "end\n",
    "pretty(infected)\n",
    "total = 0\n",
    "# infected=Dict((1,1)=>\"#\",(-1,0)=>\"#\") # test\n",
    "pos=([0,0],1)\n",
    "\n",
    "for i in 1:10000000\n",
    "    global pos\n",
    "    pos = update(pos)\n",
    "#     pretty(infected)\n",
    "#     println(pos,infected)\n",
    "end\n",
    "println(total,\" \",pos)"
   ]
  },
  {
   "cell_type": "code",
   "execution_count": null,
   "metadata": {},
   "outputs": [],
   "source": []
  }
 ],
 "metadata": {
  "kernelspec": {
   "display_name": "Julia 1.0.1",
   "language": "julia",
   "name": "julia-1.0"
  },
  "language_info": {
   "file_extension": ".jl",
   "mimetype": "application/julia",
   "name": "julia",
   "version": "1.0.1"
  }
 },
 "nbformat": 4,
 "nbformat_minor": 2
}
