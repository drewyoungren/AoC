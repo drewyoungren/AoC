{
 "cells": [
  {
   "cell_type": "code",
   "execution_count": 5,
   "metadata": {},
   "outputs": [
    {
     "data": {
      "text/plain": [
       "32-element Array{Array{SubString{String},1},1}:\n",
       " [\"set\", \"b\", \"99\"]     \n",
       " [\"set\", \"c\", \"b\"]      \n",
       " [\"jnz\", \"a\", \"2\"]      \n",
       " [\"jnz\", \"1\", \"5\"]      \n",
       " [\"mul\", \"b\", \"100\"]    \n",
       " [\"sub\", \"b\", \"-100000\"]\n",
       " [\"set\", \"c\", \"b\"]      \n",
       " [\"sub\", \"c\", \"-17000\"] \n",
       " [\"set\", \"f\", \"1\"]      \n",
       " [\"set\", \"d\", \"2\"]      \n",
       " [\"set\", \"e\", \"2\"]      \n",
       " [\"set\", \"g\", \"d\"]      \n",
       " [\"mul\", \"g\", \"e\"]      \n",
       " ⋮                      \n",
       " [\"sub\", \"d\", \"-1\"]     \n",
       " [\"set\", \"g\", \"d\"]      \n",
       " [\"sub\", \"g\", \"b\"]      \n",
       " [\"jnz\", \"g\", \"-13\"]    \n",
       " [\"jnz\", \"f\", \"2\"]      \n",
       " [\"sub\", \"h\", \"-1\"]     \n",
       " [\"set\", \"g\", \"b\"]      \n",
       " [\"sub\", \"g\", \"c\"]      \n",
       " [\"jnz\", \"g\", \"2\"]      \n",
       " [\"jnz\", \"1\", \"3\"]      \n",
       " [\"sub\", \"b\", \"-17\"]    \n",
       " [\"jnz\", \"1\", \"-23\"]    "
      ]
     },
     "execution_count": 5,
     "metadata": {},
     "output_type": "execute_result"
    }
   ],
   "source": [
    "ss = open(\"input.txt\") do f\n",
    "    [split(chomp(x)) for x in readlines(f)]\n",
    "end"
   ]
  },
  {
   "cell_type": "code",
   "execution_count": 6,
   "metadata": {},
   "outputs": [
    {
     "data": {
      "text/plain": [
       "8-element Array{String,1}:\n",
       " \"a\"\n",
       " \"b\"\n",
       " \"c\"\n",
       " \"d\"\n",
       " \"e\"\n",
       " \"f\"\n",
       " \"g\"\n",
       " \"h\""
      ]
     },
     "execution_count": 6,
     "metadata": {},
     "output_type": "execute_result"
    }
   ],
   "source": [
    "abc = [\"a\",\"b\",\"c\",\"d\",\"e\",\"f\",\"g\",\"h\"]"
   ]
  },
  {
   "cell_type": "code",
   "execution_count": 7,
   "metadata": {},
   "outputs": [],
   "source": [
    "tt = []\n",
    "for i in 1:length(ss)\n",
    "    w,x,y = ss[i]\n",
    "#     print(w,x,y)\n",
    "    if ! (y in abc)\n",
    "        if (x in abc)\n",
    "            push!(tt,[w,x[1],parse(Int,y)])\n",
    "        else\n",
    "            push!(tt,[w,parse(Int,x),parse(Int,y)])\n",
    "        end\n",
    "    else \n",
    "        if (x in abc)\n",
    "            push!(tt,[w,x[1],y[1]])\n",
    "        else\n",
    "            push!(tt,[w,parse(Int,x),y[1]])\n",
    "        end\n",
    "    end\n",
    "end"
   ]
  },
  {
   "cell_type": "code",
   "execution_count": 8,
   "metadata": {},
   "outputs": [
    {
     "data": {
      "text/plain": [
       "jnz (generic function with 8 methods)"
      ]
     },
     "execution_count": 8,
     "metadata": {},
     "output_type": "execute_result"
    }
   ],
   "source": [
    "function a(x::Char,y::Int,reg=reg)\n",
    "    reg[x] += y\n",
    "    return 1\n",
    "end\n",
    "function a(x::Char,y::Char,reg=reg)\n",
    "    reg[x] += reg[y]\n",
    "    return 1\n",
    "end\n",
    "function st(x::Char,y::Int,reg=reg)\n",
    "    reg[x] = y\n",
    "    return 1\n",
    "end\n",
    "function st(x::Char,y::Char,reg=reg)\n",
    "    reg[x] = reg[y]\n",
    "    return 1\n",
    "end\n",
    "function sub(x::Char,y::Int,reg=reg)\n",
    "    reg[x] += -y\n",
    "    return 1\n",
    "end\n",
    "function sub(x::Char,y::Char,reg=reg)\n",
    "    reg[x] += -reg[y]\n",
    "    return 1\n",
    "end\n",
    "function m(x::Char,y::Int,reg=reg)\n",
    "    global total\n",
    "    total += 1\n",
    "    reg[x] *= y\n",
    "    return 1\n",
    "end\n",
    "function m(x::Char,y::Char,reg=reg)\n",
    "    global total\n",
    "    total += 1\n",
    "    reg[x] *= reg[y]\n",
    "    return 1\n",
    "end\n",
    "function jnz(x::Char,y::Int,reg=reg)\n",
    "    return reg[x] !=0 ? y : 1\n",
    "end\n",
    "function jnz(x::Char,y::Char,reg=reg)\n",
    "    return reg[x] !=0 ? reg[y] : 1\n",
    "end\n",
    "function jnz(x::Int,y::Int,reg=reg)\n",
    "    return x !=0 ? y : 1\n",
    "end\n",
    "function jnz(x::Int,y::Char,reg=reg)\n",
    "    return x !=0 ? reg[y] : 1\n",
    "end"
   ]
  },
  {
   "cell_type": "code",
   "execution_count": 9,
   "metadata": {},
   "outputs": [
    {
     "data": {
      "text/plain": [
       "Dict{String,Function} with 5 entries:\n",
       "  \"add\" => a\n",
       "  \"sub\" => sub\n",
       "  \"set\" => st\n",
       "  \"mul\" => m\n",
       "  \"jnz\" => jnz"
      ]
     },
     "execution_count": 9,
     "metadata": {},
     "output_type": "execute_result"
    }
   ],
   "source": [
    "go = Dict(\"add\" => a,\"sub\"=> sub,\"mul\" => m,\"set\"=>st,\"jnz\"=>jnz)"
   ]
  },
  {
   "cell_type": "code",
   "execution_count": 10,
   "metadata": {},
   "outputs": [],
   "source": [
    "reg = Dict{Char,Int}(x => 0 for x in 'a':'h')\n",
    "pos = 1\n",
    "total = 0\n",
    "while pos <= length(ss)\n",
    "# for xx in 1:100000\n",
    "    f,x,y = tt[pos]\n",
    "    pos += go[f](x,y)\n",
    "end"
   ]
  },
  {
   "cell_type": "code",
   "execution_count": 11,
   "metadata": {
    "scrolled": true
   },
   "outputs": [
    {
     "data": {
      "text/plain": [
       "(Dict('f'=>0,'g'=>0,'a'=>0,'c'=>99,'d'=>99,'e'=>99,'h'=>1,'b'=>99), 9409)"
      ]
     },
     "execution_count": 11,
     "metadata": {},
     "output_type": "execute_result"
    }
   ],
   "source": [
    "reg,total"
   ]
  },
  {
   "cell_type": "markdown",
   "metadata": {},
   "source": [
    "## part two"
   ]
  },
  {
   "cell_type": "code",
   "execution_count": 12,
   "metadata": {
    "scrolled": true
   },
   "outputs": [],
   "source": [
    "using Primes"
   ]
  },
  {
   "cell_type": "code",
   "execution_count": 23,
   "metadata": {},
   "outputs": [
    {
     "name": "stdout",
     "output_type": "stream",
     "text": [
      "10002000300040005000600070008000"
     ]
    }
   ],
   "source": [
    "reg = Dict{Char,Int}(x => 0 for x in 'a':'h')\n",
    "reg['a'] = 1\n",
    "pos = 1\n",
    "total = 0\n",
    "rec = []\n",
    "xx = 1 \n",
    "while (pos <= length(tt)) \n",
    "    xx += 1\n",
    "    if (xx % 1000 == 0)\n",
    "        print(xx)\n",
    "    end\n",
    "        #     global pos\n",
    "#     if pos <= length(ss)\n",
    "#         break\n",
    "    if pos == 11\n",
    "        d,e,b = reg['d'],2,reg['b']\n",
    "        if !isprime(b)\n",
    "            reg['f'] = 0\n",
    "        end\n",
    "        reg['d'] = b\n",
    "        reg['e'] = b\n",
    "        reg['g'] = 0\n",
    "        pos = 25         \n",
    "    end\n",
    "    f,x,y = tt[pos]\n",
    "    pos += go[f](x,y)\n",
    "    push!(rec,(pos,join([\"$(reg[c[1]])|\" for c in abc])))\n",
    "end"
   ]
  },
  {
   "cell_type": "code",
   "execution_count": 24,
   "metadata": {},
   "outputs": [
    {
     "data": {
      "text/plain": [
       "(Dict('f'=>0,'g'=>0,'a'=>1,'c'=>126900,'d'=>126900,'e'=>126900,'h'=>913,'b'=>126900), 1)"
      ]
     },
     "execution_count": 24,
     "metadata": {},
     "output_type": "execute_result"
    }
   ],
   "source": [
    "(reg,total)"
   ]
  },
  {
   "cell_type": "code",
   "execution_count": 25,
   "metadata": {},
   "outputs": [
    {
     "data": {
      "text/plain": [
       "913"
      ]
     },
     "execution_count": 25,
     "metadata": {},
     "output_type": "execute_result"
    }
   ],
   "source": [
    "reg['h']"
   ]
  },
  {
   "cell_type": "code",
   "execution_count": null,
   "metadata": {},
   "outputs": [],
   "source": [
    "for t in tt\n",
    "    println(t) end"
   ]
  },
  {
   "cell_type": "code",
   "execution_count": null,
   "metadata": {},
   "outputs": [],
   "source": [
    "rec[end-20:end]"
   ]
  },
  {
   "cell_type": "code",
   "execution_count": null,
   "metadata": {},
   "outputs": [],
   "source": [
    "10 in ((1:3) .* (4:5)')"
   ]
  },
  {
   "cell_type": "code",
   "execution_count": null,
   "metadata": {},
   "outputs": [],
   "source": []
  }
 ],
 "metadata": {
  "kernelspec": {
   "display_name": "Julia 1.0.1",
   "language": "julia",
   "name": "julia-1.0"
  },
  "language_info": {
   "file_extension": ".jl",
   "mimetype": "application/julia",
   "name": "julia",
   "version": "1.0.1"
  }
 },
 "nbformat": 4,
 "nbformat_minor": 2
}
