{
 "cells": [
  {
   "cell_type": "code",
   "execution_count": 68,
   "metadata": {},
   "outputs": [
    {
     "data": {
      "text/plain": [
       "Dict{Any,Any} with 0 entries"
      ]
     },
     "execution_count": 68,
     "metadata": {},
     "output_type": "execute_result"
    }
   ],
   "source": [
    "reg = Dict()"
   ]
  },
  {
   "cell_type": "code",
   "execution_count": 46,
   "metadata": {},
   "outputs": [
    {
     "data": {
      "text/plain": [
       "32-element Array{Array{SubString{String},1},1}:\n",
       " [\"set\", \"b\", \"99\"]     \n",
       " [\"set\", \"c\", \"b\"]      \n",
       " [\"jnz\", \"a\", \"2\"]      \n",
       " [\"jnz\", \"1\", \"5\"]      \n",
       " [\"mul\", \"b\", \"100\"]    \n",
       " [\"sub\", \"b\", \"-100000\"]\n",
       " [\"set\", \"c\", \"b\"]      \n",
       " [\"sub\", \"c\", \"-17000\"] \n",
       " [\"set\", \"f\", \"1\"]      \n",
       " [\"set\", \"d\", \"2\"]      \n",
       " [\"set\", \"e\", \"2\"]      \n",
       " [\"set\", \"g\", \"d\"]      \n",
       " [\"mul\", \"g\", \"e\"]      \n",
       " ⋮                      \n",
       " [\"sub\", \"d\", \"-1\"]     \n",
       " [\"set\", \"g\", \"d\"]      \n",
       " [\"sub\", \"g\", \"b\"]      \n",
       " [\"jnz\", \"g\", \"-13\"]    \n",
       " [\"jnz\", \"f\", \"2\"]      \n",
       " [\"sub\", \"h\", \"-1\"]     \n",
       " [\"set\", \"g\", \"b\"]      \n",
       " [\"sub\", \"g\", \"c\"]      \n",
       " [\"jnz\", \"g\", \"2\"]      \n",
       " [\"jnz\", \"1\", \"3\"]      \n",
       " [\"sub\", \"b\", \"-17\"]    \n",
       " [\"jnz\", \"1\", \"-23\"]    "
      ]
     },
     "execution_count": 46,
     "metadata": {},
     "output_type": "execute_result"
    }
   ],
   "source": [
    "ss = open(\"input.txt\") do f\n",
    "    [split(chomp(x)) for x in readlines(f)]\n",
    "end"
   ]
  },
  {
   "cell_type": "code",
   "execution_count": 56,
   "metadata": {},
   "outputs": [
    {
     "data": {
      "text/plain": [
       "8-element Array{String,1}:\n",
       " \"a\"\n",
       " \"b\"\n",
       " \"c\"\n",
       " \"d\"\n",
       " \"e\"\n",
       " \"f\"\n",
       " \"g\"\n",
       " \"h\""
      ]
     },
     "execution_count": 56,
     "metadata": {},
     "output_type": "execute_result"
    }
   ],
   "source": [
    "abc = [\"a\",\"b\",\"c\",\"d\",\"e\",\"f\",\"g\",\"h\"]"
   ]
  },
  {
   "cell_type": "code",
   "execution_count": 85,
   "metadata": {},
   "outputs": [],
   "source": [
    "tt = []\n",
    "for i in 1:length(ss)\n",
    "    w,x,y = ss[i]\n",
    "#     print(w,x,y)\n",
    "    if ! (y in abc)\n",
    "        if (x in abc)\n",
    "            push!(tt,[w,x[1],parse(Int,y)])\n",
    "        else\n",
    "            push!(tt,[w,parse(Int,x),parse(Int,y)])\n",
    "        end\n",
    "    else \n",
    "        if (x in abc)\n",
    "            push!(tt,[w,x[1],y[1]])\n",
    "        else\n",
    "            push!(tt,[w,parse(Int,x),y[1]])\n",
    "        end\n",
    "    end\n",
    "end"
   ]
  },
  {
   "cell_type": "code",
   "execution_count": 86,
   "metadata": {},
   "outputs": [
    {
     "data": {
      "text/plain": [
       "32-element Array{Any,1}:\n",
       " Any[\"set\", 'b', 99]     \n",
       " Any[\"set\", 'c', 'b']    \n",
       " Any[\"jnz\", 'a', 2]      \n",
       " Any[\"jnz\", 1, 5]        \n",
       " Any[\"mul\", 'b', 100]    \n",
       " Any[\"sub\", 'b', -100000]\n",
       " Any[\"set\", 'c', 'b']    \n",
       " Any[\"sub\", 'c', -17000] \n",
       " Any[\"set\", 'f', 1]      \n",
       " Any[\"set\", 'd', 2]      \n",
       " Any[\"set\", 'e', 2]      \n",
       " Any[\"set\", 'g', 'd']    \n",
       " Any[\"mul\", 'g', 'e']    \n",
       " ⋮                       \n",
       " Any[\"sub\", 'd', -1]     \n",
       " Any[\"set\", 'g', 'd']    \n",
       " Any[\"sub\", 'g', 'b']    \n",
       " Any[\"jnz\", 'g', -13]    \n",
       " Any[\"jnz\", 'f', 2]      \n",
       " Any[\"sub\", 'h', -1]     \n",
       " Any[\"set\", 'g', 'b']    \n",
       " Any[\"sub\", 'g', 'c']    \n",
       " Any[\"jnz\", 'g', 2]      \n",
       " Any[\"jnz\", 1, 3]        \n",
       " Any[\"sub\", 'b', -17]    \n",
       " Any[\"jnz\", 1, -23]      "
      ]
     },
     "execution_count": 86,
     "metadata": {},
     "output_type": "execute_result"
    }
   ],
   "source": [
    "tt"
   ]
  },
  {
   "cell_type": "code",
   "execution_count": null,
   "metadata": {},
   "outputs": [],
   "source": []
  },
  {
   "cell_type": "code",
   "execution_count": 88,
   "metadata": {},
   "outputs": [
    {
     "data": {
      "text/plain": [
       "jnz (generic function with 8 methods)"
      ]
     },
     "execution_count": 88,
     "metadata": {},
     "output_type": "execute_result"
    }
   ],
   "source": [
    "function a(x::Char,y::Int,reg=reg)\n",
    "    reg[x] += y\n",
    "    return 1\n",
    "end\n",
    "function a(x::Char,y::Char,reg=reg)\n",
    "    reg[x] += reg[y]\n",
    "    return 1\n",
    "end\n",
    "function st(x::Char,y::Int,reg=reg)\n",
    "    reg[x] = y\n",
    "    return 1\n",
    "end\n",
    "function st(x::Char,y::Char,reg=reg)\n",
    "    reg[x] = reg[y]\n",
    "    return 1\n",
    "end\n",
    "function sub(x::Char,y::Int,reg=reg)\n",
    "    reg[x] += -y\n",
    "    return 1\n",
    "end\n",
    "function sub(x::Char,y::Char,reg=reg)\n",
    "    reg[x] += -reg[y]\n",
    "    return 1\n",
    "end\n",
    "function m(x::Char,y::Int,reg=reg)\n",
    "    global total\n",
    "    total += 1\n",
    "    reg[x] *= y\n",
    "    return 1\n",
    "end\n",
    "function m(x::Char,y::Char,reg=reg)\n",
    "    global total\n",
    "    total += 1\n",
    "    reg[x] *= reg[y]\n",
    "    return 1\n",
    "end\n",
    "function jnz(x::Char,y::Int,reg=reg)\n",
    "    return reg[x] !=0 ? y : 1\n",
    "end\n",
    "function jnz(x::Char,y::Char,reg=reg)\n",
    "    return reg[x] !=0 ? reg[y] : 1\n",
    "end\n",
    "function jnz(x::Int,y::Int,reg=reg)\n",
    "    return x !=0 ? y : 1\n",
    "end\n",
    "function jnz(x::Int,y::Char,reg=reg)\n",
    "    return x !=0 ? reg[y] : 1\n",
    "end"
   ]
  },
  {
   "cell_type": "code",
   "execution_count": 80,
   "metadata": {},
   "outputs": [
    {
     "data": {
      "text/plain": [
       "Dict{String,Function} with 5 entries:\n",
       "  \"add\" => a\n",
       "  \"sub\" => sub\n",
       "  \"set\" => st\n",
       "  \"mul\" => m\n",
       "  \"jnz\" => jnz"
      ]
     },
     "execution_count": 80,
     "metadata": {},
     "output_type": "execute_result"
    }
   ],
   "source": [
    "go = Dict(\"add\" => a,\"sub\"=> sub,\"mul\" => m,\"set\"=>st,\"jnz\"=>jnz)"
   ]
  },
  {
   "cell_type": "code",
   "execution_count": 23,
   "metadata": {},
   "outputs": [
    {
     "data": {
      "text/plain": [
       "move (generic function with 2 methods)"
      ]
     },
     "execution_count": 23,
     "metadata": {},
     "output_type": "execute_result"
    }
   ],
   "source": [
    "function move(s,reg=reg)\n",
    "    global total\n",
    "    offset = 1\n",
    "    if s[1] == \"set\"\n",
    "        reg[s[2]] = get(reg,s[3],s[3])\n",
    "    elseif s[1] == \"add\"\n",
    "        try \n",
    "            reg[s[2]] = get(reg,s[2],0) + parse(Int,s[3])\n",
    "        catch\n",
    "            reg[s[2]] = get(reg,s[2],0) + get(reg,s[3],0)\n",
    "        end\n",
    "    elseif s[1] == \"mul\"\n",
    "        total += 1\n",
    "        try \n",
    "            reg[s[2]] = get(reg,s[2],0) * parse(Int,s[3])\n",
    "        catch\n",
    "            reg[s[2]] = 0\n",
    "        end\n",
    "    elseif s[1] == \"sub\"\n",
    "        try \n",
    "            reg[s[2]] = get(reg,s[2],0) - parse(Int,s[3])\n",
    "        catch\n",
    "            reg[s[2]] = get(reg,s[2],0) - get(reg,s[3],0)\n",
    "        end\n",
    "#     elseif s[1] == \"mod\"\n",
    "#         try \n",
    "#             reg[s[2]] = get(reg,s[2],0) % parse(Int,s[3])\n",
    "#         catch\n",
    "#             reg[s[2]] = get(reg,s[2],0) % get(reg,s[3],0)\n",
    "#         end\n",
    "#     elseif s[1] == \"snd\"\n",
    "#         try \n",
    "#             reg[\"snd\"] = push!(get(reg,\"snd\",[]),parse(Int,s[2])) \n",
    "#         catch\n",
    "#             reg[\"snd\"] = push!(get(reg,\"snd\",[]),get(reg,s[2],0)) \n",
    "#         end\n",
    "#         reg[\"ctr\"] += 1\n",
    "    elseif s[1] == \"jnz\"\n",
    "#         X=0\n",
    "#         try \n",
    "#             X = parse(Int,s[2])\n",
    "#         catch\n",
    "            X = get(reg,s[2],0)\n",
    "#         end\n",
    "        if X != 0\n",
    "            try \n",
    "                offset = parse(Int,s[3])\n",
    "            catch\n",
    "                offset = get(reg,s[3],0)\n",
    "            end\n",
    "        end\n",
    "#     elseif s[1] == \"rcv\"\n",
    "#         q = registers[(p+1)%2][\"snd\"]\n",
    "#         if isempty(q)\n",
    "#             reg[\"hold\"] = true\n",
    "#             offset = 0\n",
    "#         else\n",
    "#             reg[s[2]] = popfirst!(q)\n",
    "#             reg[\"hold\"] = false\n",
    "#         end\n",
    "    end\n",
    "    return offset\n",
    "end\n",
    "    "
   ]
  },
  {
   "cell_type": "code",
   "execution_count": 43,
   "metadata": {},
   "outputs": [
    {
     "data": {
      "text/plain": [
       "Dict{Char,Int64} with 8 entries:\n",
       "  'f' => 0\n",
       "  'g' => 0\n",
       "  'a' => 0\n",
       "  'c' => 0\n",
       "  'd' => 0\n",
       "  'e' => 0\n",
       "  'h' => 0\n",
       "  'b' => 0"
      ]
     },
     "execution_count": 43,
     "metadata": {},
     "output_type": "execute_result"
    }
   ],
   "source": [
    "reg = Dict{Char,Int}(x => 0 for x in 'a':'h')\n"
   ]
  },
  {
   "cell_type": "code",
   "execution_count": 92,
   "metadata": {},
   "outputs": [],
   "source": [
    "reg = Dict{Char,Int}(x => 0 for x in 'a':'h')\n",
    "pos = 1\n",
    "total = 0\n",
    "while pos <= length(ss)\n",
    "# for xx in 1:100000\n",
    "    f,x,y = tt[pos]\n",
    "    pos += go[f](x,y)\n",
    "end"
   ]
  },
  {
   "cell_type": "code",
   "execution_count": 93,
   "metadata": {
    "scrolled": true
   },
   "outputs": [
    {
     "data": {
      "text/plain": [
       "(Dict('f'=>0,'g'=>0,'a'=>0,'c'=>99,'d'=>99,'e'=>99,'h'=>1,'b'=>99), 9409)"
      ]
     },
     "execution_count": 93,
     "metadata": {},
     "output_type": "execute_result"
    }
   ],
   "source": [
    "reg,total"
   ]
  },
  {
   "cell_type": "markdown",
   "metadata": {},
   "source": [
    "## part two"
   ]
  },
  {
   "cell_type": "code",
   "execution_count": null,
   "metadata": {},
   "outputs": [],
   "source": []
  },
  {
   "cell_type": "code",
   "execution_count": 126,
   "metadata": {},
   "outputs": [],
   "source": [
    "reg = Dict{Char,Int}(x => 0 for x in 'a':'h')\n",
    "# reg['a'] = 1\n",
    "pos = 1\n",
    "total = 0\n",
    "rec = []\n",
    "while pos <= length(ss)\n",
    "# for xx in 1:100000\n",
    "    if pos == 26\n",
    "        push!(rec,(pos,join([\"$(reg[c[1]])|\" for c in abc])))\n",
    "    end\n",
    "    f,x,y = tt[pos]\n",
    "    pos += go[f](x,y)\n",
    "end"
   ]
  },
  {
   "cell_type": "code",
   "execution_count": 127,
   "metadata": {
    "scrolled": true
   },
   "outputs": [
    {
     "data": {
      "text/plain": [
       "1"
      ]
     },
     "execution_count": 127,
     "metadata": {},
     "output_type": "execute_result"
    }
   ],
   "source": [
    "length(rec)"
   ]
  },
  {
   "cell_type": "code",
   "execution_count": 130,
   "metadata": {},
   "outputs": [],
   "source": [
    "reg = Dict{Char,Int}(x => 0 for x in 'a':'h')\n",
    "reg['a'] = 1\n",
    "pos = 1\n",
    "total = 0\n",
    "rec = []\n",
    "# while pos <= length(ss)\n",
    "for xx in 1:100000\n",
    "    if pos == 12\n",
    "        d,e,b = reg['d'],reg['e'],reg['b']\n",
    "        if (b % d == 0) & (e <= b÷d<=b)\n",
    "            reg['f'] = 0\n",
    "        end\n",
    "        reg['e'] = b\n",
    "        reg['g'] = 0\n",
    "        pos = 21         \n",
    "    else\n",
    "        f,x,y = tt[pos]\n",
    "        pos += go[f](x,y)\n",
    "        push!(rec,(pos,join([\"$(reg[c[1]])|\" for c in abc])))\n",
    "    end\n",
    "end"
   ]
  },
  {
   "cell_type": "code",
   "execution_count": 131,
   "metadata": {},
   "outputs": [
    {
     "data": {
      "text/plain": [
       "83335"
      ]
     },
     "execution_count": 131,
     "metadata": {},
     "output_type": "execute_result"
    }
   ],
   "source": [
    "length(rec)"
   ]
  },
  {
   "cell_type": "code",
   "execution_count": 129,
   "metadata": {},
   "outputs": [
    {
     "data": {
      "text/plain": [
       "Dict{Char,Int64} with 8 entries:\n",
       "  'f' => 0\n",
       "  'g' => -93233\n",
       "  'a' => 1\n",
       "  'c' => 126900\n",
       "  'd' => 16667\n",
       "  'e' => 2\n",
       "  'h' => 0\n",
       "  'b' => 109900"
      ]
     },
     "execution_count": 129,
     "metadata": {},
     "output_type": "execute_result"
    }
   ],
   "source": [
    "reg"
   ]
  },
  {
   "cell_type": "code",
   "execution_count": 119,
   "metadata": {},
   "outputs": [
    {
     "name": "stdout",
     "output_type": "stream",
     "text": [
      "Any[\"set\", 'b', 99]\n",
      "Any[\"set\", 'c', 'b']\n",
      "Any[\"jnz\", 'a', 2]\n",
      "Any[\"jnz\", 1, 5]\n",
      "Any[\"mul\", 'b', 100]\n",
      "Any[\"sub\", 'b', -100000]\n",
      "Any[\"set\", 'c', 'b']\n",
      "Any[\"sub\", 'c', -17000]\n",
      "Any[\"set\", 'f', 1]\n",
      "Any[\"set\", 'd', 2]\n",
      "Any[\"set\", 'e', 2]\n",
      "Any[\"set\", 'g', 'd']\n",
      "Any[\"mul\", 'g', 'e']\n",
      "Any[\"sub\", 'g', 'b']\n",
      "Any[\"jnz\", 'g', 2]\n",
      "Any[\"set\", 'f', 0]\n",
      "Any[\"sub\", 'e', -1]\n",
      "Any[\"set\", 'g', 'e']\n",
      "Any[\"sub\", 'g', 'b']\n",
      "Any[\"jnz\", 'g', -8]\n",
      "Any[\"sub\", 'd', -1]\n",
      "Any[\"set\", 'g', 'd']\n",
      "Any[\"sub\", 'g', 'b']\n",
      "Any[\"jnz\", 'g', -13]\n",
      "Any[\"jnz\", 'f', 2]\n",
      "Any[\"sub\", 'h', -1]\n",
      "Any[\"set\", 'g', 'b']\n",
      "Any[\"sub\", 'g', 'c']\n",
      "Any[\"jnz\", 'g', 2]\n",
      "Any[\"jnz\", 1, 3]\n",
      "Any[\"sub\", 'b', -17]\n",
      "Any[\"jnz\", 1, -23]\n"
     ]
    }
   ],
   "source": [
    "for t in tt\n",
    "    println(t) end"
   ]
  },
  {
   "cell_type": "code",
   "execution_count": null,
   "metadata": {},
   "outputs": [],
   "source": []
  }
 ],
 "metadata": {
  "kernelspec": {
   "display_name": "Julia 1.0.1",
   "language": "julia",
   "name": "julia-1.0"
  },
  "language_info": {
   "file_extension": ".jl",
   "mimetype": "application/julia",
   "name": "julia",
   "version": "1.0.1"
  }
 },
 "nbformat": 4,
 "nbformat_minor": 2
}
