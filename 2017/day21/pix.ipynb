{
 "cells": [
  {
   "cell_type": "code",
   "execution_count": 1,
   "metadata": {},
   "outputs": [
    {
     "data": {
      "text/plain": [
       "108-element Array{Array{SubString{String},1},1}:\n",
       " [\"../..\", \".../.##/.##\"]              \n",
       " [\"#./..\", \".#./.#./##.\"]              \n",
       " [\"##/..\", \"##./.../..#\"]              \n",
       " [\".#/#.\", \"#../..#/##.\"]              \n",
       " [\"##/#.\", \".../.#./..#\"]              \n",
       " [\"##/##\", \"#.#/.##/.##\"]              \n",
       " [\".../.../...\", \"##../.#../##../#..#\"]\n",
       " [\"#../.../...\", \"..#./##.#/#.##/....\"]\n",
       " [\".#./.../...\", \"####/#.##/..../...#\"]\n",
       " [\"##./.../...\", \"####/...#/.###/..##\"]\n",
       " [\"#.#/.../...\", \"..#./..#./##../##.#\"]\n",
       " [\"###/.../...\", \"..#./..#./##../...#\"]\n",
       " [\".#./#../...\", \"##.#/###./###./#..#\"]\n",
       " ⋮                                     \n",
       " [\"#.#/.../#.#\", \"#.../##.#/#.##/##.#\"]\n",
       " [\"###/.../#.#\", \"#.#./#.##/##.#/.##.\"]\n",
       " [\"###/#../#.#\", \"##../.#.#/##.#/#...\"]\n",
       " [\"#.#/.#./#.#\", \".##./.#../#.../.#.#\"]\n",
       " [\"###/.#./#.#\", \"#.#./..##/###./..##\"]\n",
       " [\"###/##./#.#\", \".###/..##/..#./..#.\"]\n",
       " [\"#.#/#.#/#.#\", \".#../##.#/.#.#/.#.#\"]\n",
       " [\"###/#.#/#.#\", \"##.#/.#.#/...#/...#\"]\n",
       " [\"#.#/###/#.#\", \"##.#/.#../####/#..#\"]\n",
       " [\"###/###/#.#\", \"...#/..##/##../#..#\"]\n",
       " [\"###/#.#/###\", \"..##/.##./.##./#.##\"]\n",
       " [\"###/###/###\", \"#.#./.#.#/#.../.##.\"]"
      ]
     },
     "execution_count": 1,
     "metadata": {},
     "output_type": "execute_result"
    }
   ],
   "source": [
    "s = open(\"input.txt\") do f\n",
    "    [split(chomp(x),\" => \") for x in readlines(f)]\n",
    "end"
   ]
  },
  {
   "cell_type": "code",
   "execution_count": 2,
   "metadata": {},
   "outputs": [
    {
     "data": {
      "text/plain": [
       "Dict{SubString{String},SubString{String}} with 108 entries:\n",
       "  \"###/###/##.\" => \".##./#.#./#.##/##..\"\n",
       "  \".#./.##/#..\" => \"##../.###/..../###.\"\n",
       "  \"##./.##/#..\" => \".###/.###/##../.##.\"\n",
       "  \"##./###/...\" => \".##./#..#/.###/.#..\"\n",
       "  \"##/#.\"       => \".../.#./..#\"\n",
       "  \"###/#.#/#..\" => \".#.#/..##/.###/##..\"\n",
       "  \"..#/#.#/#..\" => \".#../..#./.##./.#..\"\n",
       "  \"..#/#../...\" => \".##./..../...#/.###\"\n",
       "  \"###/.#./#..\" => \"#.../####/#.##/#.#.\"\n",
       "  \"#.#/.##/##.\" => \"##.#/.#.#/.#.#/.#.#\"\n",
       "  \"..#/###/#..\" => \"####/###./###./....\"\n",
       "  \"#.#/###/...\" => \"..../#.#./#.../#..#\"\n",
       "  \"###/#.#/###\" => \"..##/.##./.##./#.##\"\n",
       "  \"#../#.#/#..\" => \"####/#.../####/##.#\"\n",
       "  \"###/#../#..\" => \".##./##../.#.#/##.#\"\n",
       "  \".##/..#/#..\" => \".###/.#../#.##/.##.\"\n",
       "  \"##./..#/#..\" => \"#.#./####/.###/...#\"\n",
       "  \".../.../...\" => \"##../.#../##../#..#\"\n",
       "  \"#../###/#..\" => \"..../.#../.##./.#.#\"\n",
       "  \"##./#../...\" => \".#../..##/#.#./#.#.\"\n",
       "  \".#./.#./...\" => \".##./##.#/..##/.#..\"\n",
       "  \"..#/##./...\" => \".#../.#.#/#.##/####\"\n",
       "  \"#./..\"       => \".#./.#./##.\"\n",
       "  \"###/###/.#.\" => \"#.#./#.#./##../.#..\"\n",
       "  \"#.#/##./...\" => \"..#./#.##/..../.##.\"\n",
       "  ⋮             => ⋮"
      ]
     },
     "execution_count": 2,
     "metadata": {},
     "output_type": "execute_result"
    }
   ],
   "source": [
    "rules = Dict(x=>y for (x,y) in s)"
   ]
  },
  {
   "cell_type": "code",
   "execution_count": 3,
   "metadata": {
    "scrolled": true
   },
   "outputs": [
    {
     "data": {
      "text/plain": [
       "h2i (generic function with 1 method)"
      ]
     },
     "execution_count": 3,
     "metadata": {},
     "output_type": "execute_result"
    }
   ],
   "source": [
    "function h2i(x)\n",
    "    return(hcat(map(collect,split(x,\"/\"))...))\n",
    "end"
   ]
  },
  {
   "cell_type": "code",
   "execution_count": 4,
   "metadata": {},
   "outputs": [
    {
     "data": {
      "text/plain": [
       "rot (generic function with 2 methods)"
      ]
     },
     "execution_count": 4,
     "metadata": {},
     "output_type": "execute_result"
    }
   ],
   "source": [
    "function rot(A,m=1)\n",
    "    n = size(A,1)\n",
    "    ctr = ((n+1)/2)*[1,1]\n",
    "    R = [0 1;-1 0]\n",
    "    return [A[map(Int,(ctr+(R^m)*([i,j]-ctr)))...] for i in 1:n,j in 1:n]\n",
    "end"
   ]
  },
  {
   "cell_type": "code",
   "execution_count": 5,
   "metadata": {},
   "outputs": [
    {
     "data": {
      "text/plain": [
       "flip (generic function with 1 method)"
      ]
     },
     "execution_count": 5,
     "metadata": {},
     "output_type": "execute_result"
    }
   ],
   "source": [
    "function flip(A)\n",
    "    n = size(A,1)\n",
    "    ctr = ((n+1)/2)*[1,1]\n",
    "    R = [1 0;0 -1]\n",
    "    return [A[map(Int,(ctr+(R)*([i,j]-ctr)))...] for i in 1:n,j in 1:n]\n",
    "end"
   ]
  },
  {
   "cell_type": "code",
   "execution_count": 6,
   "metadata": {},
   "outputs": [
    {
     "data": {
      "text/plain": [
       "lookup (generic function with 1 method)"
      ]
     },
     "execution_count": 6,
     "metadata": {},
     "output_type": "execute_result"
    }
   ],
   "source": [
    "function lookup(A)\n",
    "    for m in 0:3\n",
    "        h = i2h(rot(A,m))\n",
    "        if h in keys(rules)\n",
    "            return h2i(rules[h])\n",
    "        end\n",
    "        h = i2h(rot(flip(A),m))\n",
    "        if h in keys(rules)\n",
    "            return h2i(rules[h])\n",
    "        end\n",
    "    end\n",
    "end\n",
    "    "
   ]
  },
  {
   "cell_type": "code",
   "execution_count": 7,
   "metadata": {},
   "outputs": [
    {
     "data": {
      "text/plain": [
       "i2h (generic function with 1 method)"
      ]
     },
     "execution_count": 7,
     "metadata": {},
     "output_type": "execute_result"
    }
   ],
   "source": [
    "function i2h(A)\n",
    "    n = size(A,1)\n",
    "    return join([join(A[i,:]) for i in 1:n],\"/\")\n",
    "end"
   ]
  },
  {
   "cell_type": "code",
   "execution_count": 31,
   "metadata": {},
   "outputs": [
    {
     "data": {
      "text/plain": [
       "upgrade (generic function with 1 method)"
      ]
     },
     "execution_count": 31,
     "metadata": {},
     "output_type": "execute_result"
    }
   ],
   "source": [
    "function upgrade(A)\n",
    "    n = size(A,1)\n",
    "    if n % 2 == 0\n",
    "        return hvcat(n÷2,[lookup(A[i:i+1,j:j+1]) for j = 1:2:n,i=1:2:n]...)\n",
    "    elseif n % 3 == 0\n",
    "        return hvcat(n÷3,[lookup(A[i:i+2,j:j+2]) for j = 1:3:n,i=1:3:n]...)\n",
    "    end\n",
    "end\n",
    "        "
   ]
  },
  {
   "cell_type": "code",
   "execution_count": 9,
   "metadata": {},
   "outputs": [
    {
     "data": {
      "text/plain": [
       "4×4 Array{Char,2}:\n",
       " '.'  '#'  '.'  '#'\n",
       " '#'  '#'  '.'  '.'\n",
       " '#'  '.'  '.'  '.'\n",
       " '.'  '#'  '.'  '.'"
      ]
     },
     "execution_count": 9,
     "metadata": {},
     "output_type": "execute_result"
    }
   ],
   "source": [
    "lookup(lookup(['.' '.';'#' '.']))"
   ]
  },
  {
   "cell_type": "code",
   "execution_count": 10,
   "metadata": {},
   "outputs": [
    {
     "data": {
      "text/plain": [
       "3×3 Array{Char,2}:\n",
       " '.'  '.'  '#'\n",
       " '#'  '#'  '#'\n",
       " '.'  '.'  '.'"
      ]
     },
     "execution_count": 10,
     "metadata": {},
     "output_type": "execute_result"
    }
   ],
   "source": [
    "upgrade(['.' '.';'#' '.'])"
   ]
  },
  {
   "cell_type": "code",
   "execution_count": 11,
   "metadata": {},
   "outputs": [
    {
     "data": {
      "text/plain": [
       "4"
      ]
     },
     "execution_count": 11,
     "metadata": {},
     "output_type": "execute_result"
    }
   ],
   "source": [
    "ctpix(A) = length([x for x in A if x == '#'])\n",
    "ctpix(upgrade(['.' '.';'#' '.']))"
   ]
  },
  {
   "cell_type": "code",
   "execution_count": 30,
   "metadata": {},
   "outputs": [
    {
     "data": {
      "text/plain": [
       "4×2 Array{Tuple{Int64,Int64},2}:\n",
       " (1, 5)  (1, 6)\n",
       " (2, 5)  (2, 6)\n",
       " (3, 5)  (3, 6)\n",
       " (4, 5)  (4, 6)"
      ]
     },
     "execution_count": 30,
     "metadata": {},
     "output_type": "execute_result"
    }
   ],
   "source": [
    "[(i,j) for i=1:4,j=5:6]"
   ]
  },
  {
   "cell_type": "code",
   "execution_count": 34,
   "metadata": {},
   "outputs": [],
   "source": [
    "B = h2i(\".#./..#/###\")\n",
    "for j in 1:18\n",
    "    B = upgrade(B)\n",
    "end"
   ]
  },
  {
   "cell_type": "code",
   "execution_count": 35,
   "metadata": {},
   "outputs": [
    {
     "data": {
      "text/plain": [
       "1984683"
      ]
     },
     "execution_count": 35,
     "metadata": {},
     "output_type": "execute_result"
    }
   ],
   "source": [
    "ctpix(B)"
   ]
  },
  {
   "cell_type": "code",
   "execution_count": 22,
   "metadata": {},
   "outputs": [
    {
     "data": {
      "text/plain": [
       "(2187, 2187)"
      ]
     },
     "execution_count": 22,
     "metadata": {},
     "output_type": "execute_result"
    }
   ],
   "source": [
    "size(B)"
   ]
  },
  {
   "cell_type": "code",
   "execution_count": 14,
   "metadata": {
    "scrolled": true
   },
   "outputs": [
    {
     "data": {
      "text/plain": [
       "pretty (generic function with 1 method)"
      ]
     },
     "execution_count": 14,
     "metadata": {},
     "output_type": "execute_result"
    }
   ],
   "source": [
    "function pretty(A)\n",
    "    n = size(A,1)\n",
    "    println(join([join(A[i,:]) for i in 1:n],\"\\n\"))\n",
    "end"
   ]
  },
  {
   "cell_type": "code",
   "execution_count": null,
   "metadata": {},
   "outputs": [],
   "source": []
  }
 ],
 "metadata": {
  "kernelspec": {
   "display_name": "Julia 1.0.1",
   "language": "julia",
   "name": "julia-1.0"
  },
  "language_info": {
   "file_extension": ".jl",
   "mimetype": "application/julia",
   "name": "julia",
   "version": "1.0.1"
  }
 },
 "nbformat": 4,
 "nbformat_minor": 2
}
