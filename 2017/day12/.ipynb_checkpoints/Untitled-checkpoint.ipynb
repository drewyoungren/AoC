{
 "cells": [
  {
   "cell_type": "code",
   "execution_count": 2,
   "metadata": {},
   "outputs": [
    {
     "data": {
      "text/plain": [
       "2000-element Array{SubString{String},1}:\n",
       " \"0 <-> 584, 830\"               \n",
       " \"1 <-> 415, 531\"               \n",
       " \"2 <-> 514, 1419\"              \n",
       " \"3 <-> 3\"                      \n",
       " \"4 <-> 1043\"                   \n",
       " \"5 <-> 440\"                    \n",
       " \"6 <-> 452, 1651, 1861\"        \n",
       " \"7 <-> 368, 783, 1364\"         \n",
       " \"8 <-> 813\"                    \n",
       " \"9 <-> 79, 1562\"               \n",
       " \"10 <-> 465, 1947\"             \n",
       " \"11 <-> 408, 1095\"             \n",
       " \"12 <-> 12, 1386\"              \n",
       " ⋮                              \n",
       " \"1988 <-> 473, 1636, 1791\"     \n",
       " \"1989 <-> 462\"                 \n",
       " \"1990 <-> 856, 1358, 1588\"     \n",
       " \"1991 <-> 1108, 1397, 1660\"    \n",
       " \"1992 <-> 235, 973, 1579, 1747\"\n",
       " \"1993 <-> 972\"                 \n",
       " \"1994 <-> 42, 93, 593\"         \n",
       " \"1995 <-> 773, 1499\"           \n",
       " \"1996 <-> 95, 1996\"            \n",
       " \"1997 <-> 510, 796\"            \n",
       " \"1998 <-> 626\"                 \n",
       " \"1999 <-> 964, 1568\"           "
      ]
     },
     "execution_count": 2,
     "metadata": {},
     "output_type": "execute_result"
    }
   ],
   "source": [
    "s = open(\"input.txt\") do f\n",
    "    [chomp(x) for x in readlines(f)]\n",
    "end"
   ]
  },
  {
   "cell_type": "code",
   "execution_count": 3,
   "metadata": {},
   "outputs": [
    {
     "data": {
      "text/plain": [
       "2-element Array{SubString{String},1}:\n",
       " \"0\"       \n",
       " \"584, 830\""
      ]
     },
     "execution_count": 3,
     "metadata": {},
     "output_type": "execute_result"
    }
   ],
   "source": [
    "x = s[1]\n",
    "split(x, \" <-> \")"
   ]
  },
  {
   "cell_type": "code",
   "execution_count": 5,
   "metadata": {},
   "outputs": [
    {
     "data": {
      "text/plain": [
       "2-element Array{Int64,1}:\n",
       " 584\n",
       " 830"
      ]
     },
     "execution_count": 5,
     "metadata": {},
     "output_type": "execute_result"
    }
   ],
   "source": [
    "[parse(Int,x) for x in split(\"584, 830\",\", \")]"
   ]
  },
  {
   "cell_type": "code",
   "execution_count": 9,
   "metadata": {},
   "outputs": [
    {
     "data": {
      "text/plain": [
       "proc_edge (generic function with 1 method)"
      ]
     },
     "execution_count": 9,
     "metadata": {},
     "output_type": "execute_result"
    }
   ],
   "source": [
    "function proc_edge(s)\n",
    "    k,v = split(s, \" <-> \")\n",
    "    k = parse(Int,k)\n",
    "    v = Set([parse(Int,x) for x in split(v,\", \")])\n",
    "    return k => v\n",
    "end"
   ]
  },
  {
   "cell_type": "code",
   "execution_count": 12,
   "metadata": {},
   "outputs": [],
   "source": [
    "nabes = Dict{Int,Set}(proc_edge(x) for x in s);"
   ]
  },
  {
   "cell_type": "code",
   "execution_count": 22,
   "metadata": {},
   "outputs": [
    {
     "data": {
      "text/plain": [
       "0"
      ]
     },
     "execution_count": 22,
     "metadata": {},
     "output_type": "execute_result"
    }
   ],
   "source": [
    "get(nabes,2404,0)"
   ]
  },
  {
   "cell_type": "code",
   "execution_count": 23,
   "metadata": {},
   "outputs": [
    {
     "data": {
      "text/plain": [
       "find_dists (generic function with 1 method)"
      ]
     },
     "execution_count": 23,
     "metadata": {},
     "output_type": "execute_result"
    }
   ],
   "source": [
    "function find_dists(node)\n",
    "    node_distances = Dict{Int,Int}(node => 0)\n",
    "    for d in 0:(length(nabes) - 1)\n",
    "        leafs = [k for (k,v) in pairs(node_distances) if v == d]\n",
    "        for l in leafs\n",
    "            for n in nabes[l]\n",
    "                node_distances[n] = get(node_distances,n,d+1)\n",
    "            end                \n",
    "        end\n",
    "    end\n",
    "    return node_distances\n",
    "end\n",
    "    "
   ]
  },
  {
   "cell_type": "code",
   "execution_count": 25,
   "metadata": {},
   "outputs": [
    {
     "data": {
      "text/plain": [
       "Dict{Int64,Int64} with 113 entries:\n",
       "  584  => 1\n",
       "  830  => 1\n",
       "  1757 => 9\n",
       "  1242 => 17\n",
       "  698  => 9\n",
       "  1444 => 17\n",
       "  757  => 11\n",
       "  1887 => 11\n",
       "  55   => 14\n",
       "  1018 => 7\n",
       "  1132 => 15\n",
       "  181  => 15\n",
       "  1998 => 18\n",
       "  1534 => 11\n",
       "  1422 => 16\n",
       "  1352 => 10\n",
       "  1005 => 12\n",
       "  1169 => 18\n",
       "  1952 => 10\n",
       "  31   => 6\n",
       "  1527 => 16\n",
       "  986  => 4\n",
       "  1471 => 11\n",
       "  1134 => 15\n",
       "  256  => 2\n",
       "  ⋮    => ⋮"
      ]
     },
     "execution_count": 25,
     "metadata": {},
     "output_type": "execute_result"
    }
   ],
   "source": [
    "n0 = find_dists(0)"
   ]
  },
  {
   "cell_type": "code",
   "execution_count": 26,
   "metadata": {},
   "outputs": [
    {
     "data": {
      "text/plain": [
       "113"
      ]
     },
     "execution_count": 26,
     "metadata": {},
     "output_type": "execute_result"
    }
   ],
   "source": [
    "length(n0)"
   ]
  },
  {
   "cell_type": "code",
   "execution_count": 48,
   "metadata": {},
   "outputs": [
    {
     "data": {
      "text/plain": [
       "1760"
      ]
     },
     "execution_count": 48,
     "metadata": {},
     "output_type": "execute_result"
    }
   ],
   "source": [
    "collect(setdiff(Set(keys(nabes)),keys(n0)))[1]"
   ]
  },
  {
   "cell_type": "code",
   "execution_count": 37,
   "metadata": {},
   "outputs": [
    {
     "data": {
      "text/plain": [
       "1704"
      ]
     },
     "execution_count": 37,
     "metadata": {},
     "output_type": "execute_result"
    }
   ],
   "source": []
  },
  {
   "cell_type": "code",
   "execution_count": 34,
   "metadata": {},
   "outputs": [
    {
     "ename": "MethodError",
     "evalue": "MethodError: no method matching getindex(::Base.KeySet{Int64,Dict{Int64,Int64}}, ::Int64)",
     "output_type": "error",
     "traceback": [
      "MethodError: no method matching getindex(::Base.KeySet{Int64,Dict{Int64,Int64}}, ::Int64)",
      "",
      "Stacktrace:",
      " [1] top-level scope at In[34]:1"
     ]
    }
   ],
   "source": []
  },
  {
   "cell_type": "code",
   "execution_count": null,
   "metadata": {},
   "outputs": [],
   "source": []
  }
 ],
 "metadata": {
  "kernelspec": {
   "display_name": "Julia 1.0.1",
   "language": "julia",
   "name": "julia-1.0"
  },
  "language_info": {
   "file_extension": ".jl",
   "mimetype": "application/julia",
   "name": "julia",
   "version": "1.0.1"
  }
 },
 "nbformat": 4,
 "nbformat_minor": 2
}
