{
 "cells": [
  {
   "cell_type": "code",
   "execution_count": 1,
   "metadata": {},
   "outputs": [
    {
     "data": {
      "text/plain": [
       "2000-element Array{SubString{String},1}:\n",
       " \"0 <-> 584, 830\"               \n",
       " \"1 <-> 415, 531\"               \n",
       " \"2 <-> 514, 1419\"              \n",
       " \"3 <-> 3\"                      \n",
       " \"4 <-> 1043\"                   \n",
       " \"5 <-> 440\"                    \n",
       " \"6 <-> 452, 1651, 1861\"        \n",
       " \"7 <-> 368, 783, 1364\"         \n",
       " \"8 <-> 813\"                    \n",
       " \"9 <-> 79, 1562\"               \n",
       " \"10 <-> 465, 1947\"             \n",
       " \"11 <-> 408, 1095\"             \n",
       " \"12 <-> 12, 1386\"              \n",
       " ⋮                              \n",
       " \"1988 <-> 473, 1636, 1791\"     \n",
       " \"1989 <-> 462\"                 \n",
       " \"1990 <-> 856, 1358, 1588\"     \n",
       " \"1991 <-> 1108, 1397, 1660\"    \n",
       " \"1992 <-> 235, 973, 1579, 1747\"\n",
       " \"1993 <-> 972\"                 \n",
       " \"1994 <-> 42, 93, 593\"         \n",
       " \"1995 <-> 773, 1499\"           \n",
       " \"1996 <-> 95, 1996\"            \n",
       " \"1997 <-> 510, 796\"            \n",
       " \"1998 <-> 626\"                 \n",
       " \"1999 <-> 964, 1568\"           "
      ]
     },
     "execution_count": 1,
     "metadata": {},
     "output_type": "execute_result"
    }
   ],
   "source": [
    "s = open(\"input.txt\") do f\n",
    "    [chomp(x) for x in readlines(f)]\n",
    "end"
   ]
  },
  {
   "cell_type": "code",
   "execution_count": 3,
   "metadata": {},
   "outputs": [
    {
     "data": {
      "text/plain": [
       "2-element Array{SubString{String},1}:\n",
       " \"0\"       \n",
       " \"584, 830\""
      ]
     },
     "execution_count": 3,
     "metadata": {},
     "output_type": "execute_result"
    }
   ],
   "source": [
    "x = s[1]\n",
    "split(x, \" <-> \")"
   ]
  },
  {
   "cell_type": "code",
   "execution_count": 5,
   "metadata": {},
   "outputs": [
    {
     "data": {
      "text/plain": [
       "2-element Array{Int64,1}:\n",
       " 584\n",
       " 830"
      ]
     },
     "execution_count": 5,
     "metadata": {},
     "output_type": "execute_result"
    }
   ],
   "source": [
    "[parse(Int,x) for x in split(\"584, 830\",\", \")]"
   ]
  },
  {
   "cell_type": "code",
   "execution_count": 2,
   "metadata": {},
   "outputs": [
    {
     "data": {
      "text/plain": [
       "proc_edge (generic function with 1 method)"
      ]
     },
     "execution_count": 2,
     "metadata": {},
     "output_type": "execute_result"
    }
   ],
   "source": [
    "function proc_edge(s)\n",
    "    k,v = split(s, \" <-> \")\n",
    "    k = parse(Int,k)\n",
    "    v = Set([parse(Int,x) for x in split(v,\", \")])\n",
    "    return k => v\n",
    "end"
   ]
  },
  {
   "cell_type": "code",
   "execution_count": 3,
   "metadata": {},
   "outputs": [],
   "source": [
    "nabes = Dict{Int,Set}(proc_edge(x) for x in s);"
   ]
  },
  {
   "cell_type": "code",
   "execution_count": 22,
   "metadata": {},
   "outputs": [
    {
     "data": {
      "text/plain": [
       "0"
      ]
     },
     "execution_count": 22,
     "metadata": {},
     "output_type": "execute_result"
    }
   ],
   "source": [
    "get(nabes,2404,0)"
   ]
  },
  {
   "cell_type": "code",
   "execution_count": 4,
   "metadata": {},
   "outputs": [
    {
     "data": {
      "text/plain": [
       "find_dists (generic function with 1 method)"
      ]
     },
     "execution_count": 4,
     "metadata": {},
     "output_type": "execute_result"
    }
   ],
   "source": [
    "function find_dists(node)\n",
    "    node_distances = Dict{Int,Int}(node => 0)\n",
    "    for d in 0:(length(nabes) - 1)\n",
    "        leafs = [k for (k,v) in pairs(node_distances) if v == d]\n",
    "        for l in leafs\n",
    "            for n in nabes[l]\n",
    "                node_distances[n] = get(node_distances,n,d+1)\n",
    "            end                \n",
    "        end\n",
    "    end\n",
    "    return node_distances\n",
    "end\n",
    "    "
   ]
  },
  {
   "cell_type": "code",
   "execution_count": 5,
   "metadata": {},
   "outputs": [],
   "source": [
    "n0 = find_dists(0);"
   ]
  },
  {
   "cell_type": "code",
   "execution_count": 6,
   "metadata": {},
   "outputs": [
    {
     "data": {
      "text/plain": [
       "113"
      ]
     },
     "execution_count": 6,
     "metadata": {},
     "output_type": "execute_result"
    }
   ],
   "source": [
    "length(n0)"
   ]
  },
  {
   "cell_type": "code",
   "execution_count": 7,
   "metadata": {},
   "outputs": [
    {
     "data": {
      "text/plain": [
       "1887-element Array{Int64,1}:\n",
       " 1760\n",
       "  306\n",
       " 1316\n",
       " 1333\n",
       " 1671\n",
       " 1131\n",
       "   74\n",
       " 1662\n",
       " 1265\n",
       " 1469\n",
       " 1461\n",
       "  285\n",
       " 1881\n",
       "    ⋮\n",
       "  928\n",
       "  632\n",
       " 1296\n",
       " 1140\n",
       " 1366\n",
       "  341\n",
       "  321\n",
       " 1110\n",
       " 1042\n",
       " 1535\n",
       " 1241\n",
       "  322"
      ]
     },
     "execution_count": 7,
     "metadata": {},
     "output_type": "execute_result"
    }
   ],
   "source": [
    "gps = 1\n",
    "leftovers = collect(setdiff(Set(keys(nabes)),keys(n0)))"
   ]
  },
  {
   "cell_type": "code",
   "execution_count": 11,
   "metadata": {},
   "outputs": [],
   "source": [
    "gps = 1\n",
    "eqcl = [n0]\n",
    "leftovers = collect(setdiff(Set(keys(nabes)),keys(n0)))\n",
    "while length(leftovers) > 0\n",
    "    node = leftovers[1]\n",
    "    n0 = find_dists(node)\n",
    "    push!(eqcl,n0)\n",
    "    leftovers = collect(setdiff(Set(leftovers),keys(n0)))\n",
    "end\n",
    "    "
   ]
  },
  {
   "cell_type": "code",
   "execution_count": 12,
   "metadata": {},
   "outputs": [
    {
     "data": {
      "text/plain": [
       "202"
      ]
     },
     "execution_count": 12,
     "metadata": {},
     "output_type": "execute_result"
    }
   ],
   "source": [
    "length(eqcl)"
   ]
  },
  {
   "cell_type": "code",
   "execution_count": null,
   "metadata": {},
   "outputs": [],
   "source": []
  }
 ],
 "metadata": {
  "kernelspec": {
   "display_name": "Julia 1.0.1",
   "language": "julia",
   "name": "julia-1.0"
  },
  "language_info": {
   "file_extension": ".jl",
   "mimetype": "application/julia",
   "name": "julia",
   "version": "1.0.1"
  }
 },
 "nbformat": 4,
 "nbformat_minor": 2
}
