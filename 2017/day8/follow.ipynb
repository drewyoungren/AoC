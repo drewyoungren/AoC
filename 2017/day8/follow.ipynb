{
 "cells": [
  {
   "cell_type": "code",
   "execution_count": 2,
   "metadata": {},
   "outputs": [],
   "source": [
    "with open(\"input.txt\") as f:\n",
    "    s = [x.rstrip() for x in f.readlines()]"
   ]
  },
  {
   "cell_type": "code",
   "execution_count": 11,
   "metadata": {},
   "outputs": [],
   "source": [
    "op = {\"<\": lambda x,y: x < y,\n",
    "      \"<=\": lambda x,y: x <= y,\n",
    "      \">=\": lambda x,y: x >= y,\n",
    "      \">\": lambda x,y: x > y,\n",
    "      \"==\": lambda x,y: x == y,\n",
    "      \"!=\": lambda x,y: x != y,\n",
    "     }"
   ]
  },
  {
   "cell_type": "code",
   "execution_count": 12,
   "metadata": {
    "scrolled": true
   },
   "outputs": [
    {
     "data": {
      "text/plain": [
       "'j inc -19 if jhb >= 10'"
      ]
     },
     "execution_count": 12,
     "metadata": {},
     "output_type": "execute_result"
    }
   ],
   "source": [
    "s[0]"
   ]
  },
  {
   "cell_type": "code",
   "execution_count": 35,
   "metadata": {},
   "outputs": [],
   "source": [
    "reg_data = {}\n",
    "biggest = 0"
   ]
  },
  {
   "cell_type": "code",
   "execution_count": 38,
   "metadata": {},
   "outputs": [],
   "source": [
    "def proc_reg(x):\n",
    "    stuff = x.split()\n",
    "    reg = stuff[0] \n",
    "    pm = \"i\" in stuff[1] and 1 or -1\n",
    "    amt = int(stuff[2]) \n",
    "    go = op[stuff[5]](reg_data.get(stuff[4],0),int(stuff[6]))\n",
    "    if go:\n",
    "        reg_data[reg] = reg_data.get(reg,0) + pm*amt \n",
    "    return reg_data.get(reg,0)\n",
    "    "
   ]
  },
  {
   "cell_type": "code",
   "execution_count": 39,
   "metadata": {},
   "outputs": [
    {
     "data": {
      "text/plain": [
       "{'es': -2325,\n",
       " 'ytr': 3222,\n",
       " 'okl': 1917,\n",
       " 's': -2351,\n",
       " 'eb': -2694,\n",
       " 'ae': 555,\n",
       " 'gbu': -2111,\n",
       " 'xzn': -1902,\n",
       " 'q': -5412,\n",
       " 'jhb': -3680,\n",
       " 'on': 3745,\n",
       " 'iuz': 2554,\n",
       " 'fij': 3392,\n",
       " 'iy': 1373,\n",
       " 'buw': 322,\n",
       " 'zd': -11333,\n",
       " 'yvh': 1129,\n",
       " 'r': -3700,\n",
       " 'su': -1562,\n",
       " 'laz': -1439,\n",
       " 'rtu': -1223,\n",
       " 'h': -7013,\n",
       " 'j': -3403,\n",
       " 'ib': 1781,\n",
       " 'fzu': -1762,\n",
       " 'cpq': -6179,\n",
       " 'wf': -5274}"
      ]
     },
     "execution_count": 39,
     "metadata": {},
     "output_type": "execute_result"
    }
   ],
   "source": [
    "for x in s:\n",
    "    biggest = max([biggest,proc_reg(x)])\n",
    "reg_data"
   ]
  },
  {
   "cell_type": "code",
   "execution_count": 40,
   "metadata": {},
   "outputs": [
    {
     "data": {
      "text/plain": [
       "[(-11333, 'zd'),\n",
       " (-7013, 'h'),\n",
       " (-6179, 'cpq'),\n",
       " (-5412, 'q'),\n",
       " (-5274, 'wf'),\n",
       " (-3700, 'r'),\n",
       " (-3680, 'jhb'),\n",
       " (-3403, 'j'),\n",
       " (-2694, 'eb'),\n",
       " (-2351, 's'),\n",
       " (-2325, 'es'),\n",
       " (-2111, 'gbu'),\n",
       " (-1902, 'xzn'),\n",
       " (-1762, 'fzu'),\n",
       " (-1562, 'su'),\n",
       " (-1439, 'laz'),\n",
       " (-1223, 'rtu'),\n",
       " (322, 'buw'),\n",
       " (555, 'ae'),\n",
       " (1129, 'yvh'),\n",
       " (1373, 'iy'),\n",
       " (1781, 'ib'),\n",
       " (1917, 'okl'),\n",
       " (2554, 'iuz'),\n",
       " (3222, 'ytr'),\n",
       " (3392, 'fij'),\n",
       " (3745, 'on')]"
      ]
     },
     "execution_count": 40,
     "metadata": {},
     "output_type": "execute_result"
    }
   ],
   "source": [
    "sorted([(v,k) for (k,v) in reg_data.items()])"
   ]
  },
  {
   "cell_type": "code",
   "execution_count": null,
   "metadata": {},
   "outputs": [],
   "source": [
    "biggest"
   ]
  },
  {
   "cell_type": "code",
   "execution_count": null,
   "metadata": {},
   "outputs": [],
   "source": []
  }
 ],
 "metadata": {
  "kernelspec": {
   "display_name": "Python 3",
   "language": "python",
   "name": "python3"
  },
  "language_info": {
   "codemirror_mode": {
    "name": "ipython",
    "version": 3
   },
   "file_extension": ".py",
   "mimetype": "text/x-python",
   "name": "python",
   "nbconvert_exporter": "python",
   "pygments_lexer": "ipython3",
   "version": "3.6.6"
  }
 },
 "nbformat": 4,
 "nbformat_minor": 2
}
