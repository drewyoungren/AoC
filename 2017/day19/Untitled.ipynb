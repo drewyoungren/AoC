{
 "cells": [
  {
   "cell_type": "code",
   "execution_count": 2,
   "metadata": {},
   "outputs": [],
   "source": [
    "import numpy as np"
   ]
  },
  {
   "cell_type": "code",
   "execution_count": 11,
   "metadata": {},
   "outputs": [
    {
     "name": "stdout",
     "output_type": "stream",
     "text": [
      "147\n"
     ]
    }
   ],
   "source": [
    "with open(\"input.txt\") as f:\n",
    "    s = [list(x[:-1]) for x in f.readlines()]\n",
    "\n",
    "pos = [np.array([0,s[0].index(\"|\")]),\"s\"]\n",
    "print(s[0].index(\"|\"))"
   ]
  },
  {
   "cell_type": "code",
   "execution_count": 54,
   "metadata": {},
   "outputs": [],
   "source": [
    "q = \"\"\n",
    "DIR = {\"s\":np.array((1,0)),\n",
    "       \"w\":np.array((0,-1)),\n",
    "       \"n\":np.array((-1,0)),\n",
    "       \"e\":np.array((0,1))\n",
    "       }"
   ]
  },
  {
   "cell_type": "code",
   "execution_count": 78,
   "metadata": {},
   "outputs": [],
   "source": [
    "def move(pos,g=s,q=q):\n",
    "    x = pos[0]\n",
    "    d = pos[1]\n",
    "    x += DIR[d]\n",
    "    c = s[x[0]][x[1]]\n",
    "    if c in \"|-\": \n",
    "        pass\n",
    "    elif c == \"+\":\n",
    "#         print(c,pcos)\n",
    "        if d in \"ns\":\n",
    "            if x[1] > 0 and s[x[0]][x[1]-1] != \" \":\n",
    "                d = \"w\"\n",
    "            else:\n",
    "                d = \"e\"\n",
    "        elif d in \"we\":\n",
    "            if x[0] > 0 and s[x[0]-1][x[1]] != \" \":\n",
    "                d = \"n\"\n",
    "            else:\n",
    "                d = \"s\"\n",
    "    elif c == \" \":\n",
    "        print(\"Uh oh!\",pos)\n",
    "    else:\n",
    "        q = q + c\n",
    "        print(c,)\n",
    "        y = x + DIR[d]\n",
    "        if s[y[0]][y[1]] == \" \":\n",
    "            print(\"Done!\")\n",
    "            x=[0,0]\n",
    "            d=\"n\"\n",
    "    return [[x,d],q]\n",
    "    "
   ]
  },
  {
   "cell_type": "code",
   "execution_count": 79,
   "metadata": {},
   "outputs": [
    {
     "data": {
      "text/plain": [
       "201"
      ]
     },
     "execution_count": 79,
     "metadata": {},
     "output_type": "execute_result"
    }
   ],
   "source": [
    "len(s[0])"
   ]
  },
  {
   "cell_type": "code",
   "execution_count": 80,
   "metadata": {},
   "outputs": [],
   "source": [
    "def done(pos,g=s):\n",
    "    x,y = pos[0]\n",
    "    d = pos[1]\n",
    "    return any([(x,d)==(0,\"n\"),(x,d)==(200,\"s\"),(y,d)==(0,\"w\"),(y,d)==(200,\"e\")]) "
   ]
  },
  {
   "cell_type": "code",
   "execution_count": 82,
   "metadata": {},
   "outputs": [
    {
     "name": "stdout",
     "output_type": "stream",
     "text": [
      "V\n",
      "E\n",
      "B\n",
      "T\n",
      "P\n",
      "X\n",
      "C\n",
      "H\n",
      "L\n",
      "I\n",
      "Done!\n"
     ]
    }
   ],
   "source": [
    "q=''\n",
    "st = 0\n",
    "pos = [np.array([0,s[0].index(\"|\")]),\"s\"]\n",
    "while not done(pos):\n",
    "    global q\n",
    "    pos,q = move(pos)\n",
    "    st += 1"
   ]
  },
  {
   "cell_type": "code",
   "execution_count": 83,
   "metadata": {},
   "outputs": [
    {
     "data": {
      "text/plain": [
       "'III'"
      ]
     },
     "execution_count": 83,
     "metadata": {},
     "output_type": "execute_result"
    }
   ],
   "source": [
    "q"
   ]
  },
  {
   "cell_type": "code",
   "execution_count": 84,
   "metadata": {},
   "outputs": [
    {
     "data": {
      "text/plain": [
       "18701"
      ]
     },
     "execution_count": 84,
     "metadata": {},
     "output_type": "execute_result"
    }
   ],
   "source": [
    "st"
   ]
  },
  {
   "cell_type": "code",
   "execution_count": null,
   "metadata": {},
   "outputs": [],
   "source": []
  }
 ],
 "metadata": {
  "kernelspec": {
   "display_name": "Python 3",
   "language": "python",
   "name": "python3"
  },
  "language_info": {
   "codemirror_mode": {
    "name": "ipython",
    "version": 3
   },
   "file_extension": ".py",
   "mimetype": "text/x-python",
   "name": "python",
   "nbconvert_exporter": "python",
   "pygments_lexer": "ipython3",
   "version": "3.6.6"
  }
 },
 "nbformat": 4,
 "nbformat_minor": 2
}
