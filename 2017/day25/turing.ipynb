{
 "cells": [
  {
   "cell_type": "code",
   "execution_count": 25,
   "metadata": {},
   "outputs": [],
   "source": [
    "tape = {0:0}\n",
    "state = 'A'\n",
    "pos = 0"
   ]
  },
  {
   "cell_type": "code",
   "execution_count": 2,
   "metadata": {},
   "outputs": [],
   "source": [
    "with open(\"input.txt\") as f:\n",
    "    blue = [x.strip() for x in f.readlines()]"
   ]
  },
  {
   "cell_type": "code",
   "execution_count": 7,
   "metadata": {},
   "outputs": [
    {
     "data": {
      "text/plain": [
       "['In state A:',\n",
       " 'If the current value is 0:',\n",
       " '- Write the value 1.',\n",
       " '- Move one slot to the right.',\n",
       " '- Continue with state B.',\n",
       " 'If the current value is 1:',\n",
       " '- Write the value 0.',\n",
       " '- Move one slot to the left.',\n",
       " '- Continue with state C.']"
      ]
     },
     "execution_count": 7,
     "metadata": {},
     "output_type": "execute_result"
    }
   ],
   "source": [
    "blue[3:3+9]"
   ]
  },
  {
   "cell_type": "code",
   "execution_count": 8,
   "metadata": {},
   "outputs": [],
   "source": [
    "states={}"
   ]
  },
  {
   "cell_type": "code",
   "execution_count": 11,
   "metadata": {},
   "outputs": [],
   "source": [
    "def proc_state(s):\n",
    "    states[s[0][-2]] = [(int(s[i+1][-2]),s[i+2][-3] == 'h' and 1 or -1,s[i+3][-2]) for i in (1,5)]"
   ]
  },
  {
   "cell_type": "code",
   "execution_count": 12,
   "metadata": {},
   "outputs": [],
   "source": [
    "proc_state(blue[3:3+9])"
   ]
  },
  {
   "cell_type": "code",
   "execution_count": 13,
   "metadata": {},
   "outputs": [
    {
     "data": {
      "text/plain": [
       "{'A': [(1, 1, 'B'), (0, -1, 'C')]}"
      ]
     },
     "execution_count": 13,
     "metadata": {},
     "output_type": "execute_result"
    }
   ],
   "source": [
    "states"
   ]
  },
  {
   "cell_type": "code",
   "execution_count": 17,
   "metadata": {},
   "outputs": [
    {
     "name": "stdout",
     "output_type": "stream",
     "text": [
      "In state B:If the current value is 0:- Write the value 1.- Move one slot to the left.- Continue with state A.If the current value is 1:- Write the value 1.- Move one slot to the right.- Continue with state D.\n",
      "13\n",
      "In state C:If the current value is 0:- Write the value 0.- Move one slot to the left.- Continue with state B.If the current value is 1:- Write the value 0.- Move one slot to the left.- Continue with state E.\n",
      "23\n",
      "In state D:If the current value is 0:- Write the value 1.- Move one slot to the right.- Continue with state A.If the current value is 1:- Write the value 0.- Move one slot to the right.- Continue with state B.\n",
      "33\n",
      "In state E:If the current value is 0:- Write the value 1.- Move one slot to the left.- Continue with state F.If the current value is 1:- Write the value 1.- Move one slot to the left.- Continue with state C.\n",
      "43\n",
      "In state F:If the current value is 0:- Write the value 1.- Move one slot to the right.- Continue with state D.If the current value is 1:- Write the value 1.- Move one slot to the right.- Continue with state A.\n",
      "53\n"
     ]
    }
   ],
   "source": [
    "for j in range(13,55,10):\n",
    "    print(''.join(blue[j:j+9]))\n",
    "    proc_state(blue[j:j+9])\n",
    "    print(j)"
   ]
  },
  {
   "cell_type": "code",
   "execution_count": 18,
   "metadata": {},
   "outputs": [
    {
     "data": {
      "text/plain": [
       "{'A': [(1, 1, 'B'), (0, -1, 'C')],\n",
       " 'B': [(1, -1, 'A'), (1, 1, 'D')],\n",
       " 'C': [(0, -1, 'B'), (0, -1, 'E')],\n",
       " 'D': [(1, 1, 'A'), (0, 1, 'B')],\n",
       " 'E': [(1, -1, 'F'), (1, -1, 'C')],\n",
       " 'F': [(1, 1, 'D'), (1, 1, 'A')]}"
      ]
     },
     "execution_count": 18,
     "metadata": {},
     "output_type": "execute_result"
    }
   ],
   "source": [
    "states"
   ]
  },
  {
   "cell_type": "code",
   "execution_count": 20,
   "metadata": {},
   "outputs": [
    {
     "data": {
      "text/plain": [
       "(0, -1, 'C')"
      ]
     },
     "execution_count": 20,
     "metadata": {},
     "output_type": "execute_result"
    }
   ],
   "source": [
    "states['A'][1]"
   ]
  },
  {
   "cell_type": "code",
   "execution_count": 21,
   "metadata": {},
   "outputs": [],
   "source": [
    "step = 0"
   ]
  },
  {
   "cell_type": "code",
   "execution_count": 22,
   "metadata": {},
   "outputs": [
    {
     "data": {
      "text/plain": [
       "'Perform a diagnostic checksum after 12667664 steps.'"
      ]
     },
     "execution_count": 22,
     "metadata": {},
     "output_type": "execute_result"
    }
   ],
   "source": [
    "blue[1]"
   ]
  },
  {
   "cell_type": "code",
   "execution_count": 23,
   "metadata": {},
   "outputs": [],
   "source": [
    "tot = 12667664"
   ]
  },
  {
   "cell_type": "code",
   "execution_count": 34,
   "metadata": {},
   "outputs": [],
   "source": [
    "tape = {0:0}\n",
    "state = 'A'\n",
    "pos = 0"
   ]
  },
  {
   "cell_type": "code",
   "execution_count": 35,
   "metadata": {},
   "outputs": [],
   "source": [
    "for _ in range(tot):\n",
    "    oldbit = tape.get(pos,0)\n",
    "    new = states[state][oldbit]\n",
    "    tape[pos] = new[0]\n",
    "    pos = pos + new[1] \n",
    "    state = new[2]"
   ]
  },
  {
   "cell_type": "code",
   "execution_count": 36,
   "metadata": {},
   "outputs": [
    {
     "data": {
      "text/plain": [
       "-5664"
      ]
     },
     "execution_count": 36,
     "metadata": {},
     "output_type": "execute_result"
    }
   ],
   "source": [
    "min(tape.keys())"
   ]
  },
  {
   "cell_type": "code",
   "execution_count": 37,
   "metadata": {},
   "outputs": [
    {
     "data": {
      "text/plain": [
       "4769"
      ]
     },
     "execution_count": 37,
     "metadata": {},
     "output_type": "execute_result"
    }
   ],
   "source": [
    "sum(tape.values())"
   ]
  },
  {
   "cell_type": "code",
   "execution_count": 33,
   "metadata": {},
   "outputs": [
    {
     "data": {
      "text/plain": [
       "['Begin in state A.',\n",
       " 'Perform a diagnostic checksum after 12667664 steps.',\n",
       " '',\n",
       " 'In state A:',\n",
       " 'If the current value is 0:',\n",
       " '- Write the value 1.',\n",
       " '- Move one slot to the right.',\n",
       " '- Continue with state B.',\n",
       " 'If the current value is 1:',\n",
       " '- Write the value 0.',\n",
       " '- Move one slot to the left.',\n",
       " '- Continue with state C.',\n",
       " '',\n",
       " 'In state B:',\n",
       " 'If the current value is 0:',\n",
       " '- Write the value 1.',\n",
       " '- Move one slot to the left.',\n",
       " '- Continue with state A.',\n",
       " 'If the current value is 1:',\n",
       " '- Write the value 1.',\n",
       " '- Move one slot to the right.',\n",
       " '- Continue with state D.',\n",
       " '',\n",
       " 'In state C:',\n",
       " 'If the current value is 0:',\n",
       " '- Write the value 0.',\n",
       " '- Move one slot to the left.',\n",
       " '- Continue with state B.',\n",
       " 'If the current value is 1:',\n",
       " '- Write the value 0.',\n",
       " '- Move one slot to the left.',\n",
       " '- Continue with state E.',\n",
       " '',\n",
       " 'In state D:',\n",
       " 'If the current value is 0:',\n",
       " '- Write the value 1.',\n",
       " '- Move one slot to the right.',\n",
       " '- Continue with state A.',\n",
       " 'If the current value is 1:',\n",
       " '- Write the value 0.',\n",
       " '- Move one slot to the right.',\n",
       " '- Continue with state B.',\n",
       " '',\n",
       " 'In state E:',\n",
       " 'If the current value is 0:',\n",
       " '- Write the value 1.',\n",
       " '- Move one slot to the left.',\n",
       " '- Continue with state F.',\n",
       " 'If the current value is 1:',\n",
       " '- Write the value 1.',\n",
       " '- Move one slot to the left.',\n",
       " '- Continue with state C.',\n",
       " '',\n",
       " 'In state F:',\n",
       " 'If the current value is 0:',\n",
       " '- Write the value 1.',\n",
       " '- Move one slot to the right.',\n",
       " '- Continue with state D.',\n",
       " 'If the current value is 1:',\n",
       " '- Write the value 1.',\n",
       " '- Move one slot to the right.',\n",
       " '- Continue with state A.']"
      ]
     },
     "execution_count": 33,
     "metadata": {},
     "output_type": "execute_result"
    }
   ],
   "source": [
    "blue"
   ]
  },
  {
   "cell_type": "code",
   "execution_count": null,
   "metadata": {},
   "outputs": [],
   "source": []
  }
 ],
 "metadata": {
  "kernelspec": {
   "display_name": "Python 3",
   "language": "python",
   "name": "python3"
  },
  "language_info": {
   "codemirror_mode": {
    "name": "ipython",
    "version": 3
   },
   "file_extension": ".py",
   "mimetype": "text/x-python",
   "name": "python",
   "nbconvert_exporter": "python",
   "pygments_lexer": "ipython3",
   "version": "3.6.6"
  }
 },
 "nbformat": 4,
 "nbformat_minor": 2
}
