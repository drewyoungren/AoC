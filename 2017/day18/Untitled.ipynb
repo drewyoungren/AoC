{
 "cells": [
  {
   "cell_type": "code",
   "execution_count": 1,
   "metadata": {},
   "outputs": [
    {
     "data": {
      "text/plain": [
       "Dict{Any,Any} with 0 entries"
      ]
     },
     "execution_count": 1,
     "metadata": {},
     "output_type": "execute_result"
    }
   ],
   "source": [
    "reg = Dict()"
   ]
  },
  {
   "cell_type": "code",
   "execution_count": 30,
   "metadata": {},
   "outputs": [
    {
     "data": {
      "text/plain": [
       "41-element Array{Array{SubString{String},1},1}:\n",
       " [\"set\", \"i\", \"31\"]    \n",
       " [\"set\", \"a\", \"1\"]     \n",
       " [\"mul\", \"p\", \"17\"]    \n",
       " [\"jgz\", \"p\", \"p\"]     \n",
       " [\"mul\", \"a\", \"2\"]     \n",
       " [\"add\", \"i\", \"-1\"]    \n",
       " [\"jgz\", \"i\", \"-2\"]    \n",
       " [\"add\", \"a\", \"-1\"]    \n",
       " [\"set\", \"i\", \"127\"]   \n",
       " [\"set\", \"p\", \"826\"]   \n",
       " [\"mul\", \"p\", \"8505\"]  \n",
       " [\"mod\", \"p\", \"a\"]     \n",
       " [\"mul\", \"p\", \"129749\"]\n",
       " ⋮                     \n",
       " [\"add\", \"p\", \"b\"]     \n",
       " [\"jgz\", \"p\", \"4\"]     \n",
       " [\"snd\", \"a\"]          \n",
       " [\"set\", \"a\", \"b\"]     \n",
       " [\"jgz\", \"1\", \"3\"]     \n",
       " [\"snd\", \"b\"]          \n",
       " [\"set\", \"f\", \"1\"]     \n",
       " [\"add\", \"i\", \"-1\"]    \n",
       " [\"jgz\", \"i\", \"-11\"]   \n",
       " [\"snd\", \"a\"]          \n",
       " [\"jgz\", \"f\", \"-16\"]   \n",
       " [\"jgz\", \"a\", \"-19\"]   "
      ]
     },
     "execution_count": 30,
     "metadata": {},
     "output_type": "execute_result"
    }
   ],
   "source": [
    "ss = open(\"input.txt\") do f\n",
    "    [split(chomp(x)) for x in readlines(f)]\n",
    "end"
   ]
  },
  {
   "cell_type": "code",
   "execution_count": 53,
   "metadata": {},
   "outputs": [
    {
     "data": {
      "text/plain": [
       "7-element Array{Array{SubString{String},1},1}:\n",
       " [\"set\", \"b\", \"p\"]    \n",
       " [\"mod\", \"b\", \"10000\"]\n",
       " [\"snd\", \"b\"]         \n",
       " [\"rcv\", \"b\"]         \n",
       " [\"jgz\", \"b\", \"-1\"]   \n",
       " [\"rcv\", \"b\"]         \n",
       " [\"snd\", \"b\"]         "
      ]
     },
     "execution_count": 53,
     "metadata": {},
     "output_type": "execute_result"
    }
   ],
   "source": [
    "\n",
    "[s for s in ss if s[2] == \"b\"]"
   ]
  },
  {
   "cell_type": "code",
   "execution_count": 62,
   "metadata": {},
   "outputs": [
    {
     "name": "stdout",
     "output_type": "stream",
     "text": [
      "I heard 7071\n"
     ]
    }
   ],
   "source": [
    "reg = Dict()\n",
    "i = 1\n",
    "while i <= length(ss)\n",
    "    global i\n",
    "    s = ss[i]\n",
    "#     println(i)\n",
    "    offset = 1\n",
    "    if s[1] == \"set\"\n",
    "        try \n",
    "            reg[s[2]] = parse(Int,s[3])\n",
    "        catch\n",
    "            reg[s[2]] = get(reg,s[3],0)\n",
    "        end\n",
    "    elseif s[1] == \"add\"\n",
    "        try \n",
    "            reg[s[2]] = get(reg,s[2],0) + parse(Int,s[3])\n",
    "        catch\n",
    "            reg[s[2]] = get(reg,s[2],0) + get(reg,s[3],0)\n",
    "        end\n",
    "    elseif s[1] == \"mul\"\n",
    "        try \n",
    "            reg[s[2]] = get(reg,s[2],0) * parse(Int,s[3])\n",
    "        catch\n",
    "            reg[s[2]] = 0\n",
    "        end\n",
    "    elseif s[1] == \"mod\"\n",
    "        try \n",
    "            reg[s[2]] = get(reg,s[2],0) % parse(Int,s[3])\n",
    "        catch\n",
    "            reg[s[2]] = get(reg,s[2],0) % get(reg,s[3],0)\n",
    "        end\n",
    "    elseif s[1] == \"snd\"\n",
    "        try \n",
    "            reg[\"snd\"] = push!(get(reg,\"snd\",[]),parse(Int,s[2])) \n",
    "        catch\n",
    "            reg[\"snd\"] = push!(get(reg,\"snd\",[]),get(reg,s[2],0)) \n",
    "        end\n",
    "    elseif s[1] == \"jgz\"\n",
    "        X=0\n",
    "        try \n",
    "            X = parse(Int,s[2])\n",
    "        catch\n",
    "            X = get(reg,s[2],0)\n",
    "        end\n",
    "        if X > 0\n",
    "            try \n",
    "                offset = parse(Int,s[3])\n",
    "            catch\n",
    "                offset = get(reg,s[3],0)\n",
    "            end\n",
    "        end\n",
    "     elseif s[1] == \"rcv\"\n",
    "        try \n",
    "            X = parse(Int,s[2])\n",
    "        catch\n",
    "            X = get(reg,s[2],0)\n",
    "        end\n",
    "        if X > 0\n",
    "            println(\"I heard \",get(reg,\"snd\",[\"No sound\"])[end])\n",
    "            break\n",
    "        end       \n",
    "    end\n",
    "    i += offset\n",
    "end\n",
    "    "
   ]
  },
  {
   "cell_type": "code",
   "execution_count": 59,
   "metadata": {},
   "outputs": [
    {
     "data": {
      "text/plain": [
       "Dict{Any,Any} with 6 entries:\n",
       "  \"f\"   => 0\n",
       "  \"b\"   => 7071\n",
       "  \"snd\" => Any[8387, 9281, 551, 6152, 7244, 5947, 5254, 5397, 6928, 9552  …  70…\n",
       "  \"a\"   => 7071\n",
       "  \"p\"   => 0\n",
       "  \"i\"   => 0"
      ]
     },
     "execution_count": 59,
     "metadata": {},
     "output_type": "execute_result"
    }
   ],
   "source": [
    "reg"
   ]
  },
  {
   "cell_type": "code",
   "execution_count": 28,
   "metadata": {},
   "outputs": [
    {
     "data": {
      "text/plain": [
       "-13"
      ]
     },
     "execution_count": 28,
     "metadata": {},
     "output_type": "execute_result"
    }
   ],
   "source": [
    "try \n",
    "    m = parse(Int,\"-13\")\n",
    "catch\n",
    "    m= \"b\"\n",
    "end\n",
    "m"
   ]
  },
  {
   "cell_type": "code",
   "execution_count": 18,
   "metadata": {},
   "outputs": [
    {
     "ename": "UndefVarError",
     "evalue": "UndefVarError: type not defined",
     "output_type": "error",
     "traceback": [
      "UndefVarError: type not defined",
      "",
      "Stacktrace:",
      " [1] top-level scope at In[18]:1"
     ]
    }
   ],
   "source": [
    "type(m)"
   ]
  },
  {
   "cell_type": "code",
   "execution_count": 29,
   "metadata": {},
   "outputs": [
    {
     "data": {
      "text/plain": [
       "3-element Array{Int64,1}:\n",
       "  1\n",
       " 23\n",
       "  4"
      ]
     },
     "execution_count": 29,
     "metadata": {},
     "output_type": "execute_result"
    }
   ],
   "source": [
    "push!([1,23],4)"
   ]
  },
  {
   "cell_type": "markdown",
   "metadata": {},
   "source": [
    "## part two"
   ]
  },
  {
   "cell_type": "code",
   "execution_count": null,
   "metadata": {},
   "outputs": [],
   "source": []
  },
  {
   "cell_type": "code",
   "execution_count": 82,
   "metadata": {},
   "outputs": [
    {
     "data": {
      "text/plain": [
       "move (generic function with 1 method)"
      ]
     },
     "execution_count": 82,
     "metadata": {},
     "output_type": "execute_result"
    }
   ],
   "source": [
    "function move(s,p,registers)\n",
    "    reg = registers[p]\n",
    "    offset = 1\n",
    "    if s[1] == \"set\"\n",
    "        try \n",
    "            reg[s[2]] = parse(Int,s[3])\n",
    "        catch\n",
    "            reg[s[2]] = get(reg,s[3],0)\n",
    "        end\n",
    "    elseif s[1] == \"add\"\n",
    "        try \n",
    "            reg[s[2]] = get(reg,s[2],0) + parse(Int,s[3])\n",
    "        catch\n",
    "            reg[s[2]] = get(reg,s[2],0) + get(reg,s[3],0)\n",
    "        end\n",
    "    elseif s[1] == \"mul\"\n",
    "        try \n",
    "            reg[s[2]] = get(reg,s[2],0) * parse(Int,s[3])\n",
    "        catch\n",
    "            reg[s[2]] = 0\n",
    "        end\n",
    "    elseif s[1] == \"mod\"\n",
    "        try \n",
    "            reg[s[2]] = get(reg,s[2],0) % parse(Int,s[3])\n",
    "        catch\n",
    "            reg[s[2]] = get(reg,s[2],0) % get(reg,s[3],0)\n",
    "        end\n",
    "    elseif s[1] == \"snd\"\n",
    "        try \n",
    "            reg[\"snd\"] = push!(get(reg,\"snd\",[]),parse(Int,s[2])) \n",
    "        catch\n",
    "            reg[\"snd\"] = push!(get(reg,\"snd\",[]),get(reg,s[2],0)) \n",
    "        end\n",
    "        reg[\"ctr\"] += 1\n",
    "    elseif s[1] == \"jgz\"\n",
    "        X=0\n",
    "        try \n",
    "            X = parse(Int,s[2])\n",
    "        catch\n",
    "            X = get(reg,s[2],0)\n",
    "        end\n",
    "        if X > 0\n",
    "            try \n",
    "                offset = parse(Int,s[3])\n",
    "            catch\n",
    "                offset = get(reg,s[3],0)\n",
    "            end\n",
    "        end\n",
    "    elseif s[1] == \"rcv\"\n",
    "        q = registers[(p+1)%2][\"snd\"]\n",
    "        if isempty(q)\n",
    "            reg[\"hold\"] = true\n",
    "            offset = 0\n",
    "        else\n",
    "            reg[s[2]] = popfirst!(q)\n",
    "            reg[\"hold\"] = false\n",
    "        end\n",
    "    end\n",
    "    return offset\n",
    "end\n",
    "    "
   ]
  },
  {
   "cell_type": "code",
   "execution_count": 84,
   "metadata": {},
   "outputs": [],
   "source": [
    "registers = Dict(i => Dict(\"p\" => i,\"hold\" => false,\"snd\"=>[],\"ctr\" => 0) for i in 0:1)\n",
    "pos = [1,1]\n",
    "t = 0\n",
    "while !all([registers[x][\"hold\"] for x in 0:1])\n",
    "    pos[t+1] += move(ss[pos[t+1]],t,registers)\n",
    "    t = (t+1)%2\n",
    "end   "
   ]
  },
  {
   "cell_type": "code",
   "execution_count": 86,
   "metadata": {},
   "outputs": [
    {
     "data": {
      "text/plain": [
       "Dict{String,Any} with 8 entries:\n",
       "  \"f\"    => 0\n",
       "  \"ctr\"  => 8001\n",
       "  \"b\"    => 103\n",
       "  \"hold\" => true\n",
       "  \"snd\"  => Any[]\n",
       "  \"a\"    => 103\n",
       "  \"p\"    => -67\n",
       "  \"i\"    => 0"
      ]
     },
     "execution_count": 86,
     "metadata": {},
     "output_type": "execute_result"
    }
   ],
   "source": [
    "registers[1]"
   ]
  },
  {
   "cell_type": "code",
   "execution_count": null,
   "metadata": {},
   "outputs": [],
   "source": []
  }
 ],
 "metadata": {
  "kernelspec": {
   "display_name": "Julia 1.0.1",
   "language": "julia",
   "name": "julia-1.0"
  },
  "language_info": {
   "file_extension": ".jl",
   "mimetype": "application/julia",
   "name": "julia",
   "version": "1.0.1"
  }
 },
 "nbformat": 4,
 "nbformat_minor": 2
}
