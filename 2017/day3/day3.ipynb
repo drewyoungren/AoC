{
 "cells": [
  {
   "cell_type": "code",
   "execution_count": 1,
   "metadata": {},
   "outputs": [],
   "source": [
    "N = 265149"
   ]
  },
  {
   "cell_type": "code",
   "execution_count": 2,
   "metadata": {},
   "outputs": [],
   "source": [
    "import math"
   ]
  },
  {
   "cell_type": "code",
   "execution_count": 5,
   "metadata": {},
   "outputs": [],
   "source": [
    "m = int(math.sqrt(N))"
   ]
  },
  {
   "cell_type": "code",
   "execution_count": 6,
   "metadata": {},
   "outputs": [
    {
     "data": {
      "text/plain": [
       "514"
      ]
     },
     "execution_count": 6,
     "metadata": {},
     "output_type": "execute_result"
    }
   ],
   "source": [
    "m"
   ]
  },
  {
   "cell_type": "code",
   "execution_count": 11,
   "metadata": {},
   "outputs": [
    {
     "data": {
      "text/plain": [
       "953"
      ]
     },
     "execution_count": 11,
     "metadata": {},
     "output_type": "execute_result"
    }
   ],
   "source": [
    "N - (m**2)"
   ]
  },
  {
   "cell_type": "code",
   "execution_count": 18,
   "metadata": {},
   "outputs": [],
   "source": [
    "def man_dist(N):\n",
    "    m = int(math.sqrt(N))\n",
    "    k = N - (m**2)\n",
    "    if m%2:\n",
    "        [x,y] = [(m-1)//2,-((m-1)//2)]\n",
    "        if k > 0:\n",
    "            y = y-1 + min(k,m+1)\n",
    "            x = x+1 - max(k-m-1,0)\n",
    "    else:\n",
    "        [x,y] = [-m//2 + 1,m//2]\n",
    "        if k > 0:\n",
    "            y = y+1 - min(k,m+1)\n",
    "            x = x-1 + max(k-m-1,0)\n",
    "    return abs(x) + abs(y)"
   ]
  },
  {
   "cell_type": "code",
   "execution_count": 19,
   "metadata": {},
   "outputs": [
    {
     "data": {
      "text/plain": [
       "[(1, 0),\n",
       " (2, 1),\n",
       " (3, 2),\n",
       " (4, 1),\n",
       " (5, 2),\n",
       " (6, 1),\n",
       " (7, 2),\n",
       " (8, 1),\n",
       " (9, 2),\n",
       " (10, 3),\n",
       " (11, 2),\n",
       " (12, 3),\n",
       " (13, 4),\n",
       " (14, 3),\n",
       " (15, 2),\n",
       " (16, 3),\n",
       " (17, 4),\n",
       " (18, 3),\n",
       " (19, 2),\n",
       " (20, 3),\n",
       " (21, 4),\n",
       " (22, 3),\n",
       " (23, 2),\n",
       " (24, 3),\n",
       " (25, 4),\n",
       " (26, 5),\n",
       " (27, 4),\n",
       " (28, 3),\n",
       " (29, 4),\n",
       " (30, 5),\n",
       " (31, 6),\n",
       " (32, 5)]"
      ]
     },
     "execution_count": 19,
     "metadata": {},
     "output_type": "execute_result"
    }
   ],
   "source": [
    "[(i,man_dist(i)) for i in range(1,33)]"
   ]
  },
  {
   "cell_type": "code",
   "execution_count": 20,
   "metadata": {},
   "outputs": [
    {
     "data": {
      "text/plain": [
       "438"
      ]
     },
     "execution_count": 20,
     "metadata": {},
     "output_type": "execute_result"
    }
   ],
   "source": [
    "man_dist(N)"
   ]
  },
  {
   "cell_type": "code",
   "execution_count": 26,
   "metadata": {},
   "outputs": [],
   "source": [
    "sum_grid={(0,0):1}"
   ]
  },
  {
   "cell_type": "code",
   "execution_count": 27,
   "metadata": {},
   "outputs": [],
   "source": [
    "for i in range(2,101):\n",
    "    m = int(math.sqrt(i))\n",
    "    k = i - (m**2)\n",
    "    if m%2:\n",
    "        [x,y] = [(m-1)//2,-((m-1)//2)]\n",
    "        if k > 0:\n",
    "            y = y-1 + min(k,m+1)\n",
    "            x = x+1 - max(k-m-1,0)\n",
    "    else:\n",
    "        [x,y] = [-m//2 + 1,m//2]\n",
    "        if k > 0:\n",
    "            y = y+1 - min(k,m+1)\n",
    "            x = x-1 + max(k-m-1,0)\n",
    "    sum_grid[(x,y)] = sum_grid.get((x-1,y-1),0) \\\n",
    "                    + sum_grid.get((x,y-1),0) \\\n",
    "                    + sum_grid.get((x+1,y-1),0) \\\n",
    "                    + sum_grid.get((x-1,y),0) \\\n",
    "                    + sum_grid.get((x+1,y),0) \\\n",
    "                    + sum_grid.get((x-1,y+1),0) \\\n",
    "                    + sum_grid.get((x,y+1),0) \\\n",
    "                    + sum_grid.get((x+1,y+1),0)"
   ]
  },
  {
   "cell_type": "code",
   "execution_count": 33,
   "metadata": {},
   "outputs": [
    {
     "data": {
      "text/plain": [
       "330"
      ]
     },
     "execution_count": 33,
     "metadata": {},
     "output_type": "execute_result"
    }
   ],
   "source": [
    "sum_grid[(-2,0)]"
   ]
  },
  {
   "cell_type": "code",
   "execution_count": 36,
   "metadata": {},
   "outputs": [],
   "source": [
    "sum_grid={(0,0):1}\n",
    "val = 1\n",
    "i = 2\n",
    "while val <= N:\n",
    "    m = int(math.sqrt(i))\n",
    "    k = i - (m**2)\n",
    "    if m%2:\n",
    "        [x,y] = [(m-1)//2,-((m-1)//2)]\n",
    "        if k > 0:\n",
    "            y = y-1 + min(k,m+1)\n",
    "            x = x+1 - max(k-m-1,0)\n",
    "    else:\n",
    "        [x,y] = [-m//2 + 1,m//2]\n",
    "        if k > 0:\n",
    "            y = y+1 - min(k,m+1)\n",
    "            x = x-1 + max(k-m-1,0)\n",
    "    sum_grid[(x,y)] = sum_grid.get((x-1,y-1),0) \\\n",
    "                    + sum_grid.get((x,y-1),0) \\\n",
    "                    + sum_grid.get((x+1,y-1),0) \\\n",
    "                    + sum_grid.get((x-1,y),0) \\\n",
    "                    + sum_grid.get((x+1,y),0) \\\n",
    "                    + sum_grid.get((x-1,y+1),0) \\\n",
    "                    + sum_grid.get((x,y+1),0) \\\n",
    "                    + sum_grid.get((x+1,y+1),0) \n",
    "    val = sum_grid[(x,y)]\n",
    "    i += 1"
   ]
  },
  {
   "cell_type": "code",
   "execution_count": 37,
   "metadata": {},
   "outputs": [
    {
     "data": {
      "text/plain": [
       "266330"
      ]
     },
     "execution_count": 37,
     "metadata": {},
     "output_type": "execute_result"
    }
   ],
   "source": [
    "val"
   ]
  },
  {
   "cell_type": "code",
   "execution_count": null,
   "metadata": {},
   "outputs": [],
   "source": []
  }
 ],
 "metadata": {
  "kernelspec": {
   "display_name": "Python 3",
   "language": "python",
   "name": "python3"
  },
  "language_info": {
   "codemirror_mode": {
    "name": "ipython",
    "version": 3
   },
   "file_extension": ".py",
   "mimetype": "text/x-python",
   "name": "python",
   "nbconvert_exporter": "python",
   "pygments_lexer": "ipython3",
   "version": "3.6.6"
  }
 },
 "nbformat": 4,
 "nbformat_minor": 2
}
