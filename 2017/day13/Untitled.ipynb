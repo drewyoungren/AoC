{
 "cells": [
  {
   "cell_type": "code",
   "execution_count": 8,
   "metadata": {},
   "outputs": [
    {
     "data": {
      "text/plain": [
       "44-element Array{SubString{String},1}:\n",
       " \"0: 3\"  \n",
       " \"1: 2\"  \n",
       " \"2: 6\"  \n",
       " \"4: 4\"  \n",
       " \"6: 4\"  \n",
       " \"8: 10\" \n",
       " \"10: 6\" \n",
       " \"12: 8\" \n",
       " \"14: 5\" \n",
       " \"16: 6\" \n",
       " \"18: 8\" \n",
       " \"20: 8\" \n",
       " \"22: 12\"\n",
       " ⋮       \n",
       " \"62: 14\"\n",
       " \"64: 14\"\n",
       " \"66: 17\"\n",
       " \"68: 14\"\n",
       " \"72: 18\"\n",
       " \"74: 14\"\n",
       " \"76: 20\"\n",
       " \"78: 14\"\n",
       " \"82: 18\"\n",
       " \"86: 14\"\n",
       " \"90: 18\"\n",
       " \"92: 14\""
      ]
     },
     "execution_count": 8,
     "metadata": {},
     "output_type": "execute_result"
    }
   ],
   "source": [
    "s = open(\"input.txt\") do f\n",
    "    [chomp(x) for x in readlines(f)];\n",
    "end"
   ]
  },
  {
   "cell_type": "code",
   "execution_count": 9,
   "metadata": {},
   "outputs": [],
   "source": [
    "s = [[parse(Int,x) for x in split(y,\": \")] for y in s];"
   ]
  },
  {
   "cell_type": "code",
   "execution_count": 11,
   "metadata": {},
   "outputs": [
    {
     "data": {
      "text/plain": [
       "7-element Array{Int64,1}:\n",
       "    0\n",
       "   24\n",
       "   60\n",
       "  264\n",
       "  224\n",
       " 1520\n",
       " 1092"
      ]
     },
     "execution_count": 11,
     "metadata": {},
     "output_type": "execute_result"
    }
   ],
   "source": [
    "pens = [r*d for (r,d) in s if r % (2*d - 2) == 0]"
   ]
  },
  {
   "cell_type": "code",
   "execution_count": 12,
   "metadata": {},
   "outputs": [
    {
     "data": {
      "text/plain": [
       "3184"
      ]
     },
     "execution_count": 12,
     "metadata": {},
     "output_type": "execute_result"
    }
   ],
   "source": [
    "sum(pens)"
   ]
  },
  {
   "cell_type": "code",
   "execution_count": 19,
   "metadata": {},
   "outputs": [],
   "source": [
    "p = 3184\n",
    "n = 0\n",
    "while p != 0 | (n % 4 == 0)\n",
    "    n += 1\n",
    "    pens = [r*d for (r,d) in s if (r + n) % (2*d - 2) == 0]\n",
    "    p = sum(pens)\n",
    "end"
   ]
  },
  {
   "cell_type": "code",
   "execution_count": 20,
   "metadata": {},
   "outputs": [
    {
     "data": {
      "text/plain": [
       "3878062"
      ]
     },
     "execution_count": 20,
     "metadata": {},
     "output_type": "execute_result"
    }
   ],
   "source": [
    "n"
   ]
  },
  {
   "cell_type": "code",
   "execution_count": 15,
   "metadata": {},
   "outputs": [
    {
     "data": {
      "text/plain": [
       "2-element Array{Int64,1}:\n",
       " 0\n",
       " 3"
      ]
     },
     "execution_count": 15,
     "metadata": {},
     "output_type": "execute_result"
    }
   ],
   "source": [
    "s[1]"
   ]
  },
  {
   "cell_type": "code",
   "execution_count": null,
   "metadata": {},
   "outputs": [],
   "source": []
  }
 ],
 "metadata": {
  "kernelspec": {
   "display_name": "Julia 1.0.1",
   "language": "julia",
   "name": "julia-1.0"
  },
  "language_info": {
   "file_extension": ".jl",
   "mimetype": "application/julia",
   "name": "julia",
   "version": "1.0.1"
  }
 },
 "nbformat": 4,
 "nbformat_minor": 2
}
