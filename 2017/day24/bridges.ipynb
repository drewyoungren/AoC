{
 "cells": [
  {
   "cell_type": "code",
   "execution_count": 2,
   "metadata": {},
   "outputs": [
    {
     "data": {
      "text/plain": [
       "57-element Array{Array{SubString{String},1},1}:\n",
       " [\"24\", \"14\"]\n",
       " [\"30\", \"24\"]\n",
       " [\"29\", \"44\"]\n",
       " [\"47\", \"37\"]\n",
       " [\"6\", \"14\"] \n",
       " [\"20\", \"37\"]\n",
       " [\"14\", \"45\"]\n",
       " [\"5\", \"5\"]  \n",
       " [\"26\", \"44\"]\n",
       " [\"2\", \"31\"] \n",
       " [\"19\", \"40\"]\n",
       " [\"47\", \"11\"]\n",
       " [\"0\", \"45\"] \n",
       " ⋮           \n",
       " [\"6\", \"28\"] \n",
       " [\"23\", \"40\"]\n",
       " [\"15\", \"15\"]\n",
       " [\"29\", \"12\"]\n",
       " [\"45\", \"11\"]\n",
       " [\"21\", \"31\"]\n",
       " [\"27\", \"8\"] \n",
       " [\"18\", \"44\"]\n",
       " [\"2\", \"17\"] \n",
       " [\"46\", \"17\"]\n",
       " [\"29\", \"29\"]\n",
       " [\"45\", \"50\"]"
      ]
     },
     "execution_count": 2,
     "metadata": {},
     "output_type": "execute_result"
    }
   ],
   "source": [
    "s = open(\"input.txt\") do f\n",
    "    [split(chomp(x),\"/\") for x in readlines(f)]\n",
    "end"
   ]
  },
  {
   "cell_type": "code",
   "execution_count": 14,
   "metadata": {},
   "outputs": [
    {
     "data": {
      "text/plain": [
       "57-element Array{Tuple{Int64,Int64},1}:\n",
       " (24, 14)\n",
       " (30, 24)\n",
       " (29, 44)\n",
       " (47, 37)\n",
       " (6, 14) \n",
       " (20, 37)\n",
       " (14, 45)\n",
       " (5, 5)  \n",
       " (26, 44)\n",
       " (2, 31) \n",
       " (19, 40)\n",
       " (47, 11)\n",
       " (0, 45) \n",
       " ⋮       \n",
       " (6, 28) \n",
       " (23, 40)\n",
       " (15, 15)\n",
       " (29, 12)\n",
       " (45, 11)\n",
       " (21, 31)\n",
       " (27, 8) \n",
       " (18, 44)\n",
       " (2, 17) \n",
       " (46, 17)\n",
       " (29, 29)\n",
       " (45, 50)"
      ]
     },
     "execution_count": 14,
     "metadata": {},
     "output_type": "execute_result"
    }
   ],
   "source": [
    "pts = [(parse(Int,x),parse(Int,y)) for (x,y) in s]"
   ]
  },
  {
   "cell_type": "code",
   "execution_count": 15,
   "metadata": {},
   "outputs": [
    {
     "data": {
      "text/plain": [
       "8-element Array{Tuple{Int64,Int64},1}:\n",
       " (0, 2) \n",
       " (2, 2) \n",
       " (2, 3) \n",
       " (3, 4) \n",
       " (3, 5) \n",
       " (0, 1) \n",
       " (10, 1)\n",
       " (9, 10)"
      ]
     },
     "execution_count": 15,
     "metadata": {},
     "output_type": "execute_result"
    }
   ],
   "source": [
    "t = split(\"0/2\n",
    "2/2\n",
    "2/3\n",
    "3/4\n",
    "3/5\n",
    "0/1\n",
    "10/1\n",
    "9/10\")\n",
    "test = [(parse(Int,x),parse(Int,y)) for (x,y) in [split(z,\"/\") for z in t]] "
   ]
  },
  {
   "cell_type": "code",
   "execution_count": 21,
   "metadata": {},
   "outputs": [
    {
     "data": {
      "text/plain": [
       "buildbridge (generic function with 1 method)"
      ]
     },
     "execution_count": 21,
     "metadata": {},
     "output_type": "execute_result"
    }
   ],
   "source": [
    "function buildbridge(k,u)\n",
    "    out = []\n",
    "    for b in [x for x in u if k in x]\n",
    "        v = copy(u)\n",
    "        v = delete!(v,b)\n",
    "#         println(b,v)\n",
    "        l = (b[1] == k ? b[2] : b[1])\n",
    "        push!(out,[k,l])\n",
    "#         println([k,l])\n",
    "        for bridge in buildbridge(l,v)\n",
    "            push!(out,vcat([k,l],bridge))\n",
    "        end\n",
    "    end\n",
    "    return out\n",
    "end"
   ]
  },
  {
   "cell_type": "code",
   "execution_count": 22,
   "metadata": {
    "scrolled": true
   },
   "outputs": [
    {
     "data": {
      "text/plain": [
       "11-element Array{Any,1}:\n",
       " [0, 1]                  \n",
       " [0, 1, 1, 10]           \n",
       " [0, 1, 1, 10, 10, 9]    \n",
       " [0, 2]                  \n",
       " [0, 2, 2, 3]            \n",
       " [0, 2, 2, 3, 3, 4]      \n",
       " [0, 2, 2, 3, 3, 5]      \n",
       " [0, 2, 2, 2]            \n",
       " [0, 2, 2, 2, 2, 3]      \n",
       " [0, 2, 2, 2, 2, 3, 3, 4]\n",
       " [0, 2, 2, 2, 2, 3, 3, 5]"
      ]
     },
     "execution_count": 22,
     "metadata": {},
     "output_type": "execute_result"
    }
   ],
   "source": [
    "# u = Set(pts)\n",
    "u = Set(test)\n",
    "o = buildbridge(0,u)"
   ]
  },
  {
   "cell_type": "code",
   "execution_count": 23,
   "metadata": {
    "scrolled": true
   },
   "outputs": [
    {
     "data": {
      "text/plain": [
       "568545-element Array{Any,1}:\n",
       " [0, 43]                                                                           \n",
       " [0, 39]                                                                           \n",
       " [0, 39, 39, 30]                                                                   \n",
       " [0, 39, 39, 30, 30, 24]                                                           \n",
       " [0, 39, 39, 30, 30, 24, 24, 20]                                                   \n",
       " [0, 39, 39, 30, 30, 24, 24, 20, 20, 38]                                           \n",
       " [0, 39, 39, 30, 30, 24, 24, 20, 20, 38, 38, 23]                                   \n",
       " [0, 39, 39, 30, 30, 24, 24, 20, 20, 38, 38, 23, 23, 40]                           \n",
       " [0, 39, 39, 30, 30, 24, 24, 20, 20, 38, 38, 23, 23, 40, 40, 44]                   \n",
       " [0, 39, 39, 30, 30, 24, 24, 20, 20, 38, 38, 23, 23, 40, 40, 44, 44, 29]           \n",
       " [0, 39, 39, 30, 30, 24, 24, 20, 20, 38, 38, 23, 23, 40, 40, 44, 44, 29, 29, 12]   \n",
       " [0, 39, 39, 30, 30, 24, 24, 20, 20, 38, 38, 23, 23, 40, 40, 44, 44, 29, 29, 29]   \n",
       " [0, 39, 39, 30, 30, 24, 24, 20, 20, 38  …  23, 40, 40, 44, 44, 29, 29, 29, 29, 12]\n",
       " ⋮                                                                                 \n",
       " [0, 45, 45, 14, 14, 24, 24, 40, 40, 44  …  45, 11, 11, 47, 47, 37, 37, 20, 20, 38]\n",
       " [0, 45, 45, 14, 14, 24, 24, 40, 40, 44  …  11, 47, 47, 37, 37, 20, 20, 38, 38, 23]\n",
       " [0, 45, 45, 14, 14, 24, 24, 40, 40, 44  …  47, 37, 37, 20, 20, 38, 38, 23, 23, 40]\n",
       " [0, 45, 45, 14, 14, 24, 24, 40, 40, 44  …  37, 20, 20, 38, 38, 23, 23, 40, 40, 19]\n",
       " [0, 45, 45, 14, 14, 24, 24, 40, 40, 44  …  11, 47, 47, 37, 37, 20, 20, 38, 38, 34]\n",
       " [0, 45, 45, 14, 14, 24, 24, 40, 40, 44  …  45, 11, 11, 47, 47, 37, 37, 20, 20, 16]\n",
       " [0, 45, 45, 14, 14, 24, 24, 40, 40, 44  …  17, 46, 46, 50, 50, 45, 45, 11, 11, 9] \n",
       " [0, 45, 45, 14, 14, 24, 24, 40, 40, 44  …  50, 36, 36, 31, 31, 2, 2, 17, 17, 22]  \n",
       " [0, 45, 45, 14, 14, 24, 24, 40, 40, 44  …  36, 31, 31, 2, 2, 17, 17, 22, 22, 48]  \n",
       " [0, 45, 45, 14, 14, 24, 24, 40, 40, 19]                                           \n",
       " [0, 45, 45, 14, 14, 6]                                                            \n",
       " [0, 45, 45, 14, 14, 6, 6, 28]                                                     "
      ]
     },
     "execution_count": 23,
     "metadata": {},
     "output_type": "execute_result"
    }
   ],
   "source": [
    "u = Set(pts)\n",
    "# u = Set(test)\n",
    "o = buildbridge(0,u)"
   ]
  },
  {
   "cell_type": "code",
   "execution_count": 24,
   "metadata": {},
   "outputs": [
    {
     "data": {
      "text/plain": [
       "2006"
      ]
     },
     "execution_count": 24,
     "metadata": {},
     "output_type": "execute_result"
    }
   ],
   "source": [
    "maximum([sum(x) for x in o])"
   ]
  },
  {
   "cell_type": "markdown",
   "metadata": {},
   "source": [
    "## Part deux"
   ]
  },
  {
   "cell_type": "code",
   "execution_count": 25,
   "metadata": {
    "scrolled": true
   },
   "outputs": [
    {
     "data": {
      "text/plain": [
       "(68, 1994)"
      ]
     },
     "execution_count": 25,
     "metadata": {},
     "output_type": "execute_result"
    }
   ],
   "source": [
    "maximum([(length(x),sum(x)) for x in o])"
   ]
  },
  {
   "cell_type": "code",
   "execution_count": null,
   "metadata": {},
   "outputs": [],
   "source": []
  }
 ],
 "metadata": {
  "kernelspec": {
   "display_name": "Julia 1.0.1",
   "language": "julia",
   "name": "julia-1.0"
  },
  "language_info": {
   "file_extension": ".jl",
   "mimetype": "application/julia",
   "name": "julia",
   "version": "1.0.1"
  }
 },
 "nbformat": 4,
 "nbformat_minor": 2
}
